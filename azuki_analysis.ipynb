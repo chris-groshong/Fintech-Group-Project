{
 "cells": [
  {
   "cell_type": "markdown",
   "id": "b384a33a-5a43-4e4d-a52b-cbf0de211e8b",
   "metadata": {},
   "source": [
    "\n",
    " <img src=\"https://c.tenor.com/8p2VmmhyIVgAAAAM/red-bean-azuki.gif\" alt=\"ether\" width=\"100%\"/>\n",
    " "
   ]
  },
  {
   "cell_type": "markdown",
   "id": "015895c5-08e4-484e-a4e2-5e06ad2a4029",
   "metadata": {},
   "source": [
    "# 🎴 Azuki Analysis"
   ]
  },
  {
   "cell_type": "code",
   "execution_count": 1,
   "id": "7f09e07f-fed1-4a43-bb80-27e9fb78c410",
   "metadata": {},
   "outputs": [],
   "source": [
    "# Import dependancies\n",
    "import os\n",
    "import requests\n",
    "import pandas as pd\n",
    "import json\n",
    "from dotenv import load_dotenv"
   ]
  },
  {
   "cell_type": "code",
   "execution_count": 2,
   "id": "4d678f44-42db-4f85-9d34-a11c35624744",
   "metadata": {},
   "outputs": [
    {
     "data": {
      "text/plain": [
       "True"
      ]
     },
     "execution_count": 2,
     "metadata": {},
     "output_type": "execute_result"
    }
   ],
   "source": [
    "load_dotenv()"
   ]
  },
  {
   "cell_type": "code",
   "execution_count": 3,
   "id": "8cb5b98b-32cf-40b0-9a0e-62dc2312305c",
   "metadata": {},
   "outputs": [],
   "source": [
    "# create variable for api key \n",
    "covalent_API_KEY = os.getenv(\"Covalent-API-KEY\")"
   ]
  },
  {
   "cell_type": "markdown",
   "id": "3a8cf2b9-c15d-445c-99b7-5b62baf04296",
   "metadata": {},
   "source": [
    "## 🎰 Getting token IDs"
   ]
  },
  {
   "cell_type": "code",
   "execution_count": 4,
   "id": "a7b59c37-e9de-43b9-9d7c-04f3d87bce90",
   "metadata": {},
   "outputs": [
    {
     "data": {
      "text/html": [
       "<div>\n",
       "<style scoped>\n",
       "    .dataframe tbody tr th:only-of-type {\n",
       "        vertical-align: middle;\n",
       "    }\n",
       "\n",
       "    .dataframe tbody tr th {\n",
       "        vertical-align: top;\n",
       "    }\n",
       "\n",
       "    .dataframe thead th {\n",
       "        text-align: right;\n",
       "    }\n",
       "</style>\n",
       "<table border=\"1\" class=\"dataframe\">\n",
       "  <thead>\n",
       "    <tr style=\"text-align: right;\">\n",
       "      <th></th>\n",
       "      <th>contract_decimals</th>\n",
       "      <th>contract_name</th>\n",
       "      <th>contract_ticker_symbol</th>\n",
       "      <th>contract_address</th>\n",
       "      <th>supports_erc</th>\n",
       "      <th>logo_url</th>\n",
       "      <th>token_id</th>\n",
       "    </tr>\n",
       "  </thead>\n",
       "  <tbody>\n",
       "    <tr>\n",
       "      <th>0</th>\n",
       "      <td>0</td>\n",
       "      <td>Azuki</td>\n",
       "      <td>AZUKI</td>\n",
       "      <td>0xed5af388653567af2f388e6224dc7c4b3241c544</td>\n",
       "      <td>None</td>\n",
       "      <td>https://logos.covalenthq.com/tokens/0xed5af388...</td>\n",
       "      <td>0</td>\n",
       "    </tr>\n",
       "    <tr>\n",
       "      <th>1</th>\n",
       "      <td>0</td>\n",
       "      <td>Azuki</td>\n",
       "      <td>AZUKI</td>\n",
       "      <td>0xed5af388653567af2f388e6224dc7c4b3241c544</td>\n",
       "      <td>None</td>\n",
       "      <td>https://logos.covalenthq.com/tokens/0xed5af388...</td>\n",
       "      <td>1</td>\n",
       "    </tr>\n",
       "    <tr>\n",
       "      <th>2</th>\n",
       "      <td>0</td>\n",
       "      <td>Azuki</td>\n",
       "      <td>AZUKI</td>\n",
       "      <td>0xed5af388653567af2f388e6224dc7c4b3241c544</td>\n",
       "      <td>None</td>\n",
       "      <td>https://logos.covalenthq.com/tokens/0xed5af388...</td>\n",
       "      <td>2</td>\n",
       "    </tr>\n",
       "    <tr>\n",
       "      <th>3</th>\n",
       "      <td>0</td>\n",
       "      <td>Azuki</td>\n",
       "      <td>AZUKI</td>\n",
       "      <td>0xed5af388653567af2f388e6224dc7c4b3241c544</td>\n",
       "      <td>None</td>\n",
       "      <td>https://logos.covalenthq.com/tokens/0xed5af388...</td>\n",
       "      <td>3</td>\n",
       "    </tr>\n",
       "    <tr>\n",
       "      <th>4</th>\n",
       "      <td>0</td>\n",
       "      <td>Azuki</td>\n",
       "      <td>AZUKI</td>\n",
       "      <td>0xed5af388653567af2f388e6224dc7c4b3241c544</td>\n",
       "      <td>None</td>\n",
       "      <td>https://logos.covalenthq.com/tokens/0xed5af388...</td>\n",
       "      <td>4</td>\n",
       "    </tr>\n",
       "  </tbody>\n",
       "</table>\n",
       "</div>"
      ],
      "text/plain": [
       "   contract_decimals contract_name contract_ticker_symbol  \\\n",
       "0                  0         Azuki                  AZUKI   \n",
       "1                  0         Azuki                  AZUKI   \n",
       "2                  0         Azuki                  AZUKI   \n",
       "3                  0         Azuki                  AZUKI   \n",
       "4                  0         Azuki                  AZUKI   \n",
       "\n",
       "                             contract_address supports_erc  \\\n",
       "0  0xed5af388653567af2f388e6224dc7c4b3241c544         None   \n",
       "1  0xed5af388653567af2f388e6224dc7c4b3241c544         None   \n",
       "2  0xed5af388653567af2f388e6224dc7c4b3241c544         None   \n",
       "3  0xed5af388653567af2f388e6224dc7c4b3241c544         None   \n",
       "4  0xed5af388653567af2f388e6224dc7c4b3241c544         None   \n",
       "\n",
       "                                            logo_url token_id  \n",
       "0  https://logos.covalenthq.com/tokens/0xed5af388...        0  \n",
       "1  https://logos.covalenthq.com/tokens/0xed5af388...        1  \n",
       "2  https://logos.covalenthq.com/tokens/0xed5af388...        2  \n",
       "3  https://logos.covalenthq.com/tokens/0xed5af388...        3  \n",
       "4  https://logos.covalenthq.com/tokens/0xed5af388...        4  "
      ]
     },
     "execution_count": 4,
     "metadata": {},
     "output_type": "execute_result"
    }
   ],
   "source": [
    "# Append url for our api\n",
    "url = \"https://api.covalenthq.com/v1\"\n",
    "chain_id = \"/1\"\n",
    "\n",
    "# Add search queries to api url\n",
    "contract_address = \"/0xED5AF388653567Af2F388E6224dC7C4b3241C544\"\n",
    "api_key = \"/?key=\" + covalent_API_KEY\n",
    "\n",
    "url_tokens = url + chain_id + \"/tokens\" + contract_address + \"/nft_token_ids\" + api_key #+ \"&format=csv\"\n",
    "\n",
    "# Create variale for our requests data\n",
    "nft_tokens = requests.get(url_tokens).json()\n",
    "\n",
    "# Display dataframe\n",
    "token_IDS = pd.DataFrame(nft_tokens['data']['items'])\n",
    "token_IDS.head()"
   ]
  },
  {
   "cell_type": "code",
   "execution_count": null,
   "id": "b5ecab6e-cfd3-43c8-8edc-00be8b211ab9",
   "metadata": {},
   "outputs": [],
   "source": []
  }
 ],
 "metadata": {
  "kernelspec": {
   "display_name": "Python (base)",
   "language": "python",
   "name": "base"
  },
  "language_info": {
   "codemirror_mode": {
    "name": "ipython",
    "version": 3
   },
   "file_extension": ".py",
   "mimetype": "text/x-python",
   "name": "python",
   "nbconvert_exporter": "python",
   "pygments_lexer": "ipython3",
   "version": "3.9.12"
  }
 },
 "nbformat": 4,
 "nbformat_minor": 5
}
