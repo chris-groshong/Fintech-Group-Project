{
 "cells": [
  {
   "cell_type": "markdown",
   "id": "921811fd-e496-4f5d-be13-e31b1b44b043",
   "metadata": {},
   "source": [
    "<img src=\"Images/punk-variety-2x.png\">"
   ]
  },
  {
   "cell_type": "markdown",
   "id": "40151e0a-a1ff-4512-9e6b-8acbb248fd85",
   "metadata": {},
   "source": [
    "# Cryptopunks Analysis"
   ]
  },
  {
   "cell_type": "code",
   "execution_count": 71,
   "id": "d5584bd6-fc30-4878-9a7a-950364bbfe49",
   "metadata": {},
   "outputs": [],
   "source": [
    "# Import dependancies\n",
    "\n",
    "import os\n",
    "import requests\n",
    "import pandas as pd\n",
    "import json\n",
    "import matplotlib.pyplot as plt  #chart visualization\n",
    "import hvplot.pandas\n",
    "from dotenv import load_dotenv\n",
    "\n",
    "# additional imports for file analysis\n",
    "import numpy as np\n",
    "import datetime as dt\n",
    "import seaborn as sns\n",
    "from pathlib import Path\n",
    "\n",
    "%matplotlib inline\n"
   ]
  },
  {
   "cell_type": "code",
   "execution_count": 72,
   "id": "29ca8feb-6094-45b7-8dab-ef41a7ae367d",
   "metadata": {},
   "outputs": [
    {
     "data": {
      "text/plain": [
       "True"
      ]
     },
     "execution_count": 72,
     "metadata": {},
     "output_type": "execute_result"
    }
   ],
   "source": [
    "# Load .env enviroment variables\n",
    "load_dotenv()"
   ]
  },
  {
   "cell_type": "code",
   "execution_count": 73,
   "id": "01cbb1c7-8e90-4f86-8895-94aa0c8b2ef5",
   "metadata": {},
   "outputs": [],
   "source": [
    "#CREATE API KEYS\n",
    "# create variable for api key \n",
    "covalent_API_KEY = os.getenv(\"Covalent-API-KEY\")\n",
    "# create variable for api key  for etherscan\n",
    "ETHERSCAN_API_KEY = os.getenv(\"ETHERSCAN_API_KEY\")"
   ]
  },
  {
   "cell_type": "code",
   "execution_count": 74,
   "id": "32579bcf-9df0-48bd-a95a-fd43bc43275b",
   "metadata": {},
   "outputs": [
    {
     "data": {
      "text/plain": [
       "str"
      ]
     },
     "execution_count": 74,
     "metadata": {},
     "output_type": "execute_result"
    }
   ],
   "source": [
    "##TEMP VALIDATE KEY#\n",
    "type(covalent_API_KEY)"
   ]
  },
  {
   "cell_type": "code",
   "execution_count": 75,
   "id": "c78b9310-dfea-4ee6-83ac-1d8ed970d0f5",
   "metadata": {},
   "outputs": [
    {
     "data": {
      "text/plain": [
       "str"
      ]
     },
     "execution_count": 75,
     "metadata": {},
     "output_type": "execute_result"
    }
   ],
   "source": [
    "##TEMP VALIDATE KEY#\n",
    "type(ETHERSCAN_API_KEY)"
   ]
  },
  {
   "cell_type": "markdown",
   "id": "4a80b360-846b-4442-99af-94d20a11fd93",
   "metadata": {},
   "source": [
    "# Etherscan Cryptopunks Contract Detail"
   ]
  },
  {
   "cell_type": "code",
   "execution_count": 76,
   "id": "4f4b10c6-7f8e-4993-b886-2cf2907d597c",
   "metadata": {},
   "outputs": [],
   "source": [
    "#set api url variables for Etherscan call \n",
    "cryptopunks_contract = \"0xb47e3cd837dDF8e4c57F05d70Ab865de6e193BBB\"\n",
    "etherscan_url = \"https://api.etherscan.io/api\"\n",
    "module = \"?module=contract\"\n",
    "action = \"&action=getsourcecode\"\n",
    "address =\"&address=\" + cryptopunks_contract  \n",
    "etherscan_key = \"&apikey=\" + ETHERSCAN_API_KEY"
   ]
  },
  {
   "cell_type": "code",
   "execution_count": 77,
   "id": "711801da-a8ae-4347-a39f-05384f7216df",
   "metadata": {},
   "outputs": [],
   "source": [
    "#set API call string\n",
    "url_cryptopunks_contract_details = etherscan_url+module+action+address+etherscan_key"
   ]
  },
  {
   "cell_type": "code",
   "execution_count": 78,
   "id": "383b9474-f83f-4994-85ae-86cbc3f0f1c8",
   "metadata": {},
   "outputs": [],
   "source": [
    "#get results from API call\n",
    "cryptopunk_contract_details= requests.get(url_cryptopunks_contract_details).json()"
   ]
  },
  {
   "cell_type": "code",
   "execution_count": 79,
   "id": "f8b7a5f6-ad03-48c1-bb26-39cacbc88dff",
   "metadata": {},
   "outputs": [],
   "source": [
    "#TEMP Validate call\n",
    "#cryptopunk_contract_details"
   ]
  },
  {
   "cell_type": "markdown",
   "id": "2cab0ff6-9883-4dab-a35e-fb5433542fd1",
   "metadata": {},
   "source": [
    "# Etherscan Cryptopunks Transactions"
   ]
  },
  {
   "cell_type": "code",
   "execution_count": 80,
   "id": "0a5ce547-8771-4921-b634-aa685d59e56d",
   "metadata": {},
   "outputs": [],
   "source": [
    "#set api url variables for Etherscan call \n",
    "transaction_hash = \"0x15f8e5ea1079d9a0bb04a4c58ae5fe7654b5b2b4463375ff7ffb490aa0032f3a\" #replace with trans_hash\n",
    "etherscan_url = \"https://api.etherscan.io/api\"\n",
    "module = \"?module=transaction\"\n",
    "action = \"&action=getstatus\"\n",
    "address =\"&&txhash=\" + transaction_hash \n",
    "etherscan_key = \"&apikey=\" + ETHERSCAN_API_KEY"
   ]
  },
  {
   "cell_type": "code",
   "execution_count": 81,
   "id": "d70cfb1f-f67e-4716-a514-ed29080fe525",
   "metadata": {},
   "outputs": [],
   "source": [
    "#set API call string\n",
    "url_cryptopunks_transactions = etherscan_url+module+action+address+etherscan_key"
   ]
  },
  {
   "cell_type": "code",
   "execution_count": 82,
   "id": "e915e4cb-efc7-48b9-a494-5ab56d157e93",
   "metadata": {},
   "outputs": [],
   "source": [
    "#get results from API call\n",
    "cryptopunk_transaction=requests.get(url_cryptopunks_transactions).json()"
   ]
  },
  {
   "cell_type": "markdown",
   "id": "681fdec4-afe9-4fbc-8f98-eec6f2582cff",
   "metadata": {
    "tags": []
   },
   "source": [
    "# NFT Market Cap Detailed View"
   ]
  },
  {
   "cell_type": "markdown",
   "id": "9d142065-65b5-4711-96f1-6c8b754c5bbf",
   "metadata": {},
   "source": [
    "### Contract Address 0xb7f7f6c52f2e2fdb1963eab30438024864c313f6"
   ]
  },
  {
   "cell_type": "code",
   "execution_count": 143,
   "id": "c6019870-ac3d-4e23-94b5-dd7af80da19b",
   "metadata": {},
   "outputs": [],
   "source": [
    "# Append url for our api\n",
    "url = \"https://api.covalenthq.com/v1\"\n",
    "chain_id = \"/1\"    #TEMP is it always chain1 for most part?\n",
    "option = \"/nft_market/collection\"\n",
    "# Add search queries to api url\n",
    "contract_address = \"/0xb7f7f6c52f2e2fdb1963eab30438024864c313f6\"   #Do we want to compare other contracts\n",
    "currency = \"/?quote-currency=USD\"\n",
    "format_output = \"&format=JSON\"\n",
    "date_from =\"&from=2022-01-01\"\n",
    "date_to = \"&to=2022-04-25\"\n",
    "api_key = \"&key=\" + covalent_API_KEY\n",
    "\n",
    "url_nft_market_cap_detail = url + chain_id + option + contract_address + currency + format_output + date_from + date_to  + api_key "
   ]
  },
  {
   "cell_type": "code",
   "execution_count": 144,
   "id": "8b6a2788-eca9-4b93-8169-2effdd630d26",
   "metadata": {},
   "outputs": [],
   "source": [
    "#set API call string\n",
    "url_nft_market_cap_detail = url + chain_id + option + contract_address + currency + format_output + date_from + date_to  + api_key "
   ]
  },
  {
   "cell_type": "code",
   "execution_count": 145,
   "id": "c0a00299-f45e-4ebd-aa72-db98822b2681",
   "metadata": {},
   "outputs": [],
   "source": [
    "#get results from API call\n",
    "nft_market_cap = requests.get(url_nft_market_cap_detail).json()"
   ]
  },
  {
   "cell_type": "code",
   "execution_count": 146,
   "id": "49812799-9f86-4e16-a42f-0d90834a96ef",
   "metadata": {},
   "outputs": [],
   "source": [
    "#TEMP Validate call\n",
    "#nft_market_cap"
   ]
  },
  {
   "cell_type": "code",
   "execution_count": 147,
   "id": "3459c528-06b5-485b-b2d4-09e1d54b40a1",
   "metadata": {},
   "outputs": [],
   "source": [
    "#set data into a dataframe\n",
    "nft_market_cap_df = pd.DataFrame(nft_market_cap['data']['items'])"
   ]
  },
  {
   "cell_type": "code",
   "execution_count": 148,
   "id": "20454bc2-4f83-4d67-9ec3-6953d4a198be",
   "metadata": {},
   "outputs": [
    {
     "data": {
      "text/html": [
       "<div>\n",
       "<style scoped>\n",
       "    .dataframe tbody tr th:only-of-type {\n",
       "        vertical-align: middle;\n",
       "    }\n",
       "\n",
       "    .dataframe tbody tr th {\n",
       "        vertical-align: top;\n",
       "    }\n",
       "\n",
       "    .dataframe thead th {\n",
       "        text-align: right;\n",
       "    }\n",
       "</style>\n",
       "<table border=\"1\" class=\"dataframe\">\n",
       "  <thead>\n",
       "    <tr style=\"text-align: right;\">\n",
       "      <th></th>\n",
       "      <th>chain_id</th>\n",
       "      <th>collection_name</th>\n",
       "      <th>collection_address</th>\n",
       "      <th>collection_ticker_symbol</th>\n",
       "      <th>opening_date</th>\n",
       "      <th>volume_wei_day</th>\n",
       "      <th>volume_quote_day</th>\n",
       "      <th>average_volume_wei_day</th>\n",
       "      <th>average_volume_quote_day</th>\n",
       "      <th>unique_token_ids_sold_count_day</th>\n",
       "      <th>...</th>\n",
       "      <th>fourth_nft_image_token_id</th>\n",
       "      <th>fourth_nft_image</th>\n",
       "      <th>fourth_nft_image_256</th>\n",
       "      <th>fourth_nft_image_512</th>\n",
       "      <th>fourth_nft_image_1024</th>\n",
       "      <th>fifth_nft_image_token_id</th>\n",
       "      <th>fifth_nft_image</th>\n",
       "      <th>fifth_nft_image_256</th>\n",
       "      <th>fifth_nft_image_512</th>\n",
       "      <th>fifth_nft_image_1024</th>\n",
       "    </tr>\n",
       "  </thead>\n",
       "  <tbody>\n",
       "    <tr>\n",
       "      <th>0</th>\n",
       "      <td>1</td>\n",
       "      <td>Wrapped Cryptopunks</td>\n",
       "      <td>0xb7f7f6c52f2e2fdb1963eab30438024864c313f6</td>\n",
       "      <td>WPUNKS</td>\n",
       "      <td>2022-03-30</td>\n",
       "      <td>201500000000000000000</td>\n",
       "      <td>687428.9000</td>\n",
       "      <td>201500000000000000000</td>\n",
       "      <td>687428.9000</td>\n",
       "      <td>1</td>\n",
       "      <td>...</td>\n",
       "      <td>51</td>\n",
       "      <td>https://wrappedpunks.com:3000/images/punks/51.png</td>\n",
       "      <td>https://image-proxy.svc.prod.covalenthq.com/25...</td>\n",
       "      <td>https://image-proxy.svc.prod.covalenthq.com/51...</td>\n",
       "      <td>https://image-proxy.svc.prod.covalenthq.com/10...</td>\n",
       "      <td>60</td>\n",
       "      <td>https://wrappedpunks.com:3000/images/punks/60.png</td>\n",
       "      <td>https://image-proxy.svc.prod.covalenthq.com/25...</td>\n",
       "      <td>https://image-proxy.svc.prod.covalenthq.com/51...</td>\n",
       "      <td>https://image-proxy.svc.prod.covalenthq.com/10...</td>\n",
       "    </tr>\n",
       "    <tr>\n",
       "      <th>1</th>\n",
       "      <td>1</td>\n",
       "      <td>Wrapped Cryptopunks</td>\n",
       "      <td>0xb7f7f6c52f2e2fdb1963eab30438024864c313f6</td>\n",
       "      <td>WPUNKS</td>\n",
       "      <td>2022-02-03</td>\n",
       "      <td>250000000000000000</td>\n",
       "      <td>664.4058</td>\n",
       "      <td>250000000000000000</td>\n",
       "      <td>664.4058</td>\n",
       "      <td>1</td>\n",
       "      <td>...</td>\n",
       "      <td>51</td>\n",
       "      <td>https://wrappedpunks.com:3000/images/punks/51.png</td>\n",
       "      <td>https://image-proxy.svc.prod.covalenthq.com/25...</td>\n",
       "      <td>https://image-proxy.svc.prod.covalenthq.com/51...</td>\n",
       "      <td>https://image-proxy.svc.prod.covalenthq.com/10...</td>\n",
       "      <td>60</td>\n",
       "      <td>https://wrappedpunks.com:3000/images/punks/60.png</td>\n",
       "      <td>https://image-proxy.svc.prod.covalenthq.com/25...</td>\n",
       "      <td>https://image-proxy.svc.prod.covalenthq.com/51...</td>\n",
       "      <td>https://image-proxy.svc.prod.covalenthq.com/10...</td>\n",
       "    </tr>\n",
       "    <tr>\n",
       "      <th>2</th>\n",
       "      <td>1</td>\n",
       "      <td>Wrapped Cryptopunks</td>\n",
       "      <td>0xb7f7f6c52f2e2fdb1963eab30438024864c313f6</td>\n",
       "      <td>WPUNKS</td>\n",
       "      <td>2022-01-17</td>\n",
       "      <td>99900000000000000000</td>\n",
       "      <td>327752.7500</td>\n",
       "      <td>99900000000000000000</td>\n",
       "      <td>327752.7500</td>\n",
       "      <td>1</td>\n",
       "      <td>...</td>\n",
       "      <td>51</td>\n",
       "      <td>https://wrappedpunks.com:3000/images/punks/51.png</td>\n",
       "      <td>https://image-proxy.svc.prod.covalenthq.com/25...</td>\n",
       "      <td>https://image-proxy.svc.prod.covalenthq.com/51...</td>\n",
       "      <td>https://image-proxy.svc.prod.covalenthq.com/10...</td>\n",
       "      <td>60</td>\n",
       "      <td>https://wrappedpunks.com:3000/images/punks/60.png</td>\n",
       "      <td>https://image-proxy.svc.prod.covalenthq.com/25...</td>\n",
       "      <td>https://image-proxy.svc.prod.covalenthq.com/51...</td>\n",
       "      <td>https://image-proxy.svc.prod.covalenthq.com/10...</td>\n",
       "    </tr>\n",
       "  </tbody>\n",
       "</table>\n",
       "<p>3 rows × 39 columns</p>\n",
       "</div>"
      ],
      "text/plain": [
       "   chain_id      collection_name                          collection_address  \\\n",
       "0         1  Wrapped Cryptopunks  0xb7f7f6c52f2e2fdb1963eab30438024864c313f6   \n",
       "1         1  Wrapped Cryptopunks  0xb7f7f6c52f2e2fdb1963eab30438024864c313f6   \n",
       "2         1  Wrapped Cryptopunks  0xb7f7f6c52f2e2fdb1963eab30438024864c313f6   \n",
       "\n",
       "  collection_ticker_symbol opening_date         volume_wei_day  \\\n",
       "0                   WPUNKS   2022-03-30  201500000000000000000   \n",
       "1                   WPUNKS   2022-02-03     250000000000000000   \n",
       "2                   WPUNKS   2022-01-17   99900000000000000000   \n",
       "\n",
       "   volume_quote_day average_volume_wei_day  average_volume_quote_day  \\\n",
       "0       687428.9000  201500000000000000000               687428.9000   \n",
       "1          664.4058     250000000000000000                  664.4058   \n",
       "2       327752.7500   99900000000000000000               327752.7500   \n",
       "\n",
       "   unique_token_ids_sold_count_day  ... fourth_nft_image_token_id  \\\n",
       "0                                1  ...                        51   \n",
       "1                                1  ...                        51   \n",
       "2                                1  ...                        51   \n",
       "\n",
       "                                    fourth_nft_image  \\\n",
       "0  https://wrappedpunks.com:3000/images/punks/51.png   \n",
       "1  https://wrappedpunks.com:3000/images/punks/51.png   \n",
       "2  https://wrappedpunks.com:3000/images/punks/51.png   \n",
       "\n",
       "                                fourth_nft_image_256  \\\n",
       "0  https://image-proxy.svc.prod.covalenthq.com/25...   \n",
       "1  https://image-proxy.svc.prod.covalenthq.com/25...   \n",
       "2  https://image-proxy.svc.prod.covalenthq.com/25...   \n",
       "\n",
       "                                fourth_nft_image_512  \\\n",
       "0  https://image-proxy.svc.prod.covalenthq.com/51...   \n",
       "1  https://image-proxy.svc.prod.covalenthq.com/51...   \n",
       "2  https://image-proxy.svc.prod.covalenthq.com/51...   \n",
       "\n",
       "                               fourth_nft_image_1024 fifth_nft_image_token_id  \\\n",
       "0  https://image-proxy.svc.prod.covalenthq.com/10...                       60   \n",
       "1  https://image-proxy.svc.prod.covalenthq.com/10...                       60   \n",
       "2  https://image-proxy.svc.prod.covalenthq.com/10...                       60   \n",
       "\n",
       "                                     fifth_nft_image  \\\n",
       "0  https://wrappedpunks.com:3000/images/punks/60.png   \n",
       "1  https://wrappedpunks.com:3000/images/punks/60.png   \n",
       "2  https://wrappedpunks.com:3000/images/punks/60.png   \n",
       "\n",
       "                                 fifth_nft_image_256  \\\n",
       "0  https://image-proxy.svc.prod.covalenthq.com/25...   \n",
       "1  https://image-proxy.svc.prod.covalenthq.com/25...   \n",
       "2  https://image-proxy.svc.prod.covalenthq.com/25...   \n",
       "\n",
       "                                 fifth_nft_image_512  \\\n",
       "0  https://image-proxy.svc.prod.covalenthq.com/51...   \n",
       "1  https://image-proxy.svc.prod.covalenthq.com/51...   \n",
       "2  https://image-proxy.svc.prod.covalenthq.com/51...   \n",
       "\n",
       "                                fifth_nft_image_1024  \n",
       "0  https://image-proxy.svc.prod.covalenthq.com/10...  \n",
       "1  https://image-proxy.svc.prod.covalenthq.com/10...  \n",
       "2  https://image-proxy.svc.prod.covalenthq.com/10...  \n",
       "\n",
       "[3 rows x 39 columns]"
      ]
     },
     "metadata": {},
     "output_type": "display_data"
    }
   ],
   "source": [
    "#display head and tail of df\n",
    "display(nft_market_cap_df.head())"
   ]
  },
  {
   "cell_type": "code",
   "execution_count": 149,
   "id": "84438aa2-c9e7-4c28-9fb0-d37bd0ec6fd3",
   "metadata": {},
   "outputs": [
    {
     "data": {
      "text/html": [
       "<div>\n",
       "<style scoped>\n",
       "    .dataframe tbody tr th:only-of-type {\n",
       "        vertical-align: middle;\n",
       "    }\n",
       "\n",
       "    .dataframe tbody tr th {\n",
       "        vertical-align: top;\n",
       "    }\n",
       "\n",
       "    .dataframe thead th {\n",
       "        text-align: right;\n",
       "    }\n",
       "</style>\n",
       "<table border=\"1\" class=\"dataframe\">\n",
       "  <thead>\n",
       "    <tr style=\"text-align: right;\">\n",
       "      <th></th>\n",
       "      <th>chain_id</th>\n",
       "      <th>volume_quote_day</th>\n",
       "      <th>average_volume_quote_day</th>\n",
       "      <th>unique_token_ids_sold_count_day</th>\n",
       "      <th>floor_price_quote_7d</th>\n",
       "      <th>gas_quote_rate_day</th>\n",
       "    </tr>\n",
       "  </thead>\n",
       "  <tbody>\n",
       "    <tr>\n",
       "      <th>count</th>\n",
       "      <td>3.0</td>\n",
       "      <td>3.000000</td>\n",
       "      <td>3.000000</td>\n",
       "      <td>3.0</td>\n",
       "      <td>3.000000</td>\n",
       "      <td>3.000000</td>\n",
       "    </tr>\n",
       "    <tr>\n",
       "      <th>mean</th>\n",
       "      <td>1.0</td>\n",
       "      <td>338615.351933</td>\n",
       "      <td>338615.351933</td>\n",
       "      <td>1.0</td>\n",
       "      <td>338615.351933</td>\n",
       "      <td>3116.663067</td>\n",
       "    </tr>\n",
       "    <tr>\n",
       "      <th>std</th>\n",
       "      <td>0.0</td>\n",
       "      <td>343511.083830</td>\n",
       "      <td>343511.083830</td>\n",
       "      <td>0.0</td>\n",
       "      <td>343511.083830</td>\n",
       "      <td>402.879604</td>\n",
       "    </tr>\n",
       "    <tr>\n",
       "      <th>min</th>\n",
       "      <td>1.0</td>\n",
       "      <td>664.405800</td>\n",
       "      <td>664.405800</td>\n",
       "      <td>1.0</td>\n",
       "      <td>664.405800</td>\n",
       "      <td>2657.623300</td>\n",
       "    </tr>\n",
       "    <tr>\n",
       "      <th>25%</th>\n",
       "      <td>1.0</td>\n",
       "      <td>164208.577900</td>\n",
       "      <td>164208.577900</td>\n",
       "      <td>1.0</td>\n",
       "      <td>164208.577900</td>\n",
       "      <td>2969.215800</td>\n",
       "    </tr>\n",
       "    <tr>\n",
       "      <th>50%</th>\n",
       "      <td>1.0</td>\n",
       "      <td>327752.750000</td>\n",
       "      <td>327752.750000</td>\n",
       "      <td>1.0</td>\n",
       "      <td>327752.750000</td>\n",
       "      <td>3280.808300</td>\n",
       "    </tr>\n",
       "    <tr>\n",
       "      <th>75%</th>\n",
       "      <td>1.0</td>\n",
       "      <td>507590.825000</td>\n",
       "      <td>507590.825000</td>\n",
       "      <td>1.0</td>\n",
       "      <td>507590.825000</td>\n",
       "      <td>3346.182950</td>\n",
       "    </tr>\n",
       "    <tr>\n",
       "      <th>max</th>\n",
       "      <td>1.0</td>\n",
       "      <td>687428.900000</td>\n",
       "      <td>687428.900000</td>\n",
       "      <td>1.0</td>\n",
       "      <td>687428.900000</td>\n",
       "      <td>3411.557600</td>\n",
       "    </tr>\n",
       "  </tbody>\n",
       "</table>\n",
       "</div>"
      ],
      "text/plain": [
       "       chain_id  volume_quote_day  average_volume_quote_day  \\\n",
       "count       3.0          3.000000                  3.000000   \n",
       "mean        1.0     338615.351933             338615.351933   \n",
       "std         0.0     343511.083830             343511.083830   \n",
       "min         1.0        664.405800                664.405800   \n",
       "25%         1.0     164208.577900             164208.577900   \n",
       "50%         1.0     327752.750000             327752.750000   \n",
       "75%         1.0     507590.825000             507590.825000   \n",
       "max         1.0     687428.900000             687428.900000   \n",
       "\n",
       "       unique_token_ids_sold_count_day  floor_price_quote_7d  \\\n",
       "count                              3.0              3.000000   \n",
       "mean                               1.0         338615.351933   \n",
       "std                                0.0         343511.083830   \n",
       "min                                1.0            664.405800   \n",
       "25%                                1.0         164208.577900   \n",
       "50%                                1.0         327752.750000   \n",
       "75%                                1.0         507590.825000   \n",
       "max                                1.0         687428.900000   \n",
       "\n",
       "       gas_quote_rate_day  \n",
       "count            3.000000  \n",
       "mean          3116.663067  \n",
       "std            402.879604  \n",
       "min           2657.623300  \n",
       "25%           2969.215800  \n",
       "50%           3280.808300  \n",
       "75%           3346.182950  \n",
       "max           3411.557600  "
      ]
     },
     "execution_count": 149,
     "metadata": {},
     "output_type": "execute_result"
    }
   ],
   "source": [
    "#TEMP descibe data\n",
    "nft_market_cap_df.describe()"
   ]
  },
  {
   "cell_type": "code",
   "execution_count": 150,
   "id": "2b62f779-b33c-40f3-8166-8473cd0a752f",
   "metadata": {},
   "outputs": [
    {
     "data": {
      "text/plain": [
       "Index(['chain_id', 'collection_name', 'collection_address',\n",
       "       'collection_ticker_symbol', 'opening_date', 'volume_wei_day',\n",
       "       'volume_quote_day', 'average_volume_wei_day',\n",
       "       'average_volume_quote_day', 'unique_token_ids_sold_count_day',\n",
       "       'floor_price_wei_7d', 'floor_price_quote_7d', 'gas_quote_rate_day',\n",
       "       'quote_currency', 'first_nft_image_token_id', 'first_nft_image',\n",
       "       'first_nft_image_256', 'first_nft_image_512', 'first_nft_image_1024',\n",
       "       'second_nft_image_token_id', 'second_nft_image', 'second_nft_image_256',\n",
       "       'second_nft_image_512', 'second_nft_image_1024',\n",
       "       'third_nft_image_token_id', 'third_nft_image', 'third_nft_image_256',\n",
       "       'third_nft_image_512', 'third_nft_image_1024',\n",
       "       'fourth_nft_image_token_id', 'fourth_nft_image', 'fourth_nft_image_256',\n",
       "       'fourth_nft_image_512', 'fourth_nft_image_1024',\n",
       "       'fifth_nft_image_token_id', 'fifth_nft_image', 'fifth_nft_image_256',\n",
       "       'fifth_nft_image_512', 'fifth_nft_image_1024'],\n",
       "      dtype='object')"
      ]
     },
     "execution_count": 150,
     "metadata": {},
     "output_type": "execute_result"
    }
   ],
   "source": [
    "#TEMP list columns of df\n",
    "nft_market_cap_df.columns"
   ]
  },
  {
   "cell_type": "code",
   "execution_count": 151,
   "id": "e6f291ce-8514-45bb-ae6d-99580361c005",
   "metadata": {},
   "outputs": [],
   "source": [
    "#create a new data frame for graphing volume, drop un-needed columns\n",
    "market_cap_df_graph = nft_market_cap_df[[\"opening_date\",\"volume_quote_day\"]].copy()"
   ]
  },
  {
   "cell_type": "code",
   "execution_count": 152,
   "id": "c0203d71-256f-45dc-85b3-67d6784ced96",
   "metadata": {},
   "outputs": [
    {
     "data": {
      "text/html": [
       "<div>\n",
       "<style scoped>\n",
       "    .dataframe tbody tr th:only-of-type {\n",
       "        vertical-align: middle;\n",
       "    }\n",
       "\n",
       "    .dataframe tbody tr th {\n",
       "        vertical-align: top;\n",
       "    }\n",
       "\n",
       "    .dataframe thead th {\n",
       "        text-align: right;\n",
       "    }\n",
       "</style>\n",
       "<table border=\"1\" class=\"dataframe\">\n",
       "  <thead>\n",
       "    <tr style=\"text-align: right;\">\n",
       "      <th></th>\n",
       "      <th>opening_date</th>\n",
       "      <th>volume_quote_day</th>\n",
       "    </tr>\n",
       "  </thead>\n",
       "  <tbody>\n",
       "    <tr>\n",
       "      <th>0</th>\n",
       "      <td>2022-03-30</td>\n",
       "      <td>687428.9000</td>\n",
       "    </tr>\n",
       "    <tr>\n",
       "      <th>1</th>\n",
       "      <td>2022-02-03</td>\n",
       "      <td>664.4058</td>\n",
       "    </tr>\n",
       "    <tr>\n",
       "      <th>2</th>\n",
       "      <td>2022-01-17</td>\n",
       "      <td>327752.7500</td>\n",
       "    </tr>\n",
       "  </tbody>\n",
       "</table>\n",
       "</div>"
      ],
      "text/plain": [
       "  opening_date  volume_quote_day\n",
       "0   2022-03-30       687428.9000\n",
       "1   2022-02-03          664.4058\n",
       "2   2022-01-17       327752.7500"
      ]
     },
     "execution_count": 152,
     "metadata": {},
     "output_type": "execute_result"
    }
   ],
   "source": [
    "#TEMP display market_cap_df_graph\n",
    "market_cap_df_graph"
   ]
  },
  {
   "cell_type": "code",
   "execution_count": 153,
   "id": "dee9c966-18a8-43f4-902f-c92eeaa9e3be",
   "metadata": {},
   "outputs": [
    {
     "data": {},
     "metadata": {},
     "output_type": "display_data"
    },
    {
     "data": {
      "application/vnd.holoviews_exec.v0+json": "",
      "text/html": [
       "<div id='3350'>\n",
       "\n",
       "\n",
       "\n",
       "\n",
       "\n",
       "  <div class=\"bk-root\" id=\"f4c46260-284b-4bf3-a0fe-e22cace1051e\" data-root-id=\"3350\"></div>\n",
       "</div>\n",
       "<script type=\"application/javascript\">(function(root) {\n",
       "  function embed_document(root) {\n",
       "    var docs_json = {\"172d6c49-c0b4-4199-8778-26e43c75baae\":{\"defs\":[{\"extends\":null,\"module\":null,\"name\":\"ReactiveHTML1\",\"overrides\":[],\"properties\":[]},{\"extends\":null,\"module\":null,\"name\":\"FlexBox1\",\"overrides\":[],\"properties\":[{\"default\":\"flex-start\",\"kind\":null,\"name\":\"align_content\"},{\"default\":\"flex-start\",\"kind\":null,\"name\":\"align_items\"},{\"default\":\"row\",\"kind\":null,\"name\":\"flex_direction\"},{\"default\":\"wrap\",\"kind\":null,\"name\":\"flex_wrap\"},{\"default\":\"flex-start\",\"kind\":null,\"name\":\"justify_content\"}]},{\"extends\":null,\"module\":null,\"name\":\"TemplateActions1\",\"overrides\":[],\"properties\":[{\"default\":0,\"kind\":null,\"name\":\"open_modal\"},{\"default\":0,\"kind\":null,\"name\":\"close_modal\"}]},{\"extends\":null,\"module\":null,\"name\":\"MaterialTemplateActions1\",\"overrides\":[],\"properties\":[{\"default\":0,\"kind\":null,\"name\":\"open_modal\"},{\"default\":0,\"kind\":null,\"name\":\"close_modal\"}]}],\"roots\":{\"references\":[{\"attributes\":{},\"id\":\"3349\",\"type\":\"NumeralTickFormatter\"},{\"attributes\":{},\"id\":\"3398\",\"type\":\"AllLabels\"},{\"attributes\":{\"margin\":[5,5,5,5],\"name\":\"HSpacer05902\",\"sizing_mode\":\"stretch_width\"},\"id\":\"3351\",\"type\":\"Spacer\"},{\"attributes\":{\"factors\":[\"2022-03-30\",\"2022-02-03\",\"2022-01-17\"],\"tags\":[[[\"opening_date\",\"opening_date\",null]]]},\"id\":\"3352\",\"type\":\"FactorRange\"},{\"attributes\":{\"coordinates\":null,\"group\":null,\"text\":\"Volume Quote Per Day - 0xb7f7f6c52f2e2fdb1963eab30438024864c313f6\",\"text_color\":\"black\",\"text_font_size\":\"12pt\"},\"id\":\"3356\",\"type\":\"Title\"},{\"attributes\":{\"data\":{\"opening_date\":[\"2022-03-30\",\"2022-02-03\",\"2022-01-17\"],\"volume_quote_day\":{\"__ndarray__\":\"zczMzIn6JEG8BRIUP8OEQAAAAAAjARRB\",\"dtype\":\"float64\",\"order\":\"little\",\"shape\":[3]}},\"selected\":{\"id\":\"3385\"},\"selection_policy\":{\"id\":\"3407\"}},\"id\":\"3384\",\"type\":\"ColumnDataSource\"},{\"attributes\":{\"callback\":null,\"renderers\":[{\"id\":\"3390\"}],\"tags\":[\"hv_created\"],\"tooltips\":[[\"opening_date\",\"@{opening_date}\"],[\"volume_quote_day\",\"@{volume_quote_day}\"]]},\"id\":\"3354\",\"type\":\"HoverTool\"},{\"attributes\":{\"axis_label\":\"Opening Date\",\"coordinates\":null,\"formatter\":{\"id\":\"3394\"},\"group\":null,\"major_label_orientation\":1.5707963267948966,\"major_label_policy\":{\"id\":\"3395\"},\"ticker\":{\"id\":\"3365\"}},\"id\":\"3364\",\"type\":\"CategoricalAxis\"},{\"attributes\":{\"line_alpha\":0.2,\"line_color\":\"#30a2da\",\"line_width\":2,\"x\":{\"field\":\"opening_date\"},\"y\":{\"field\":\"volume_quote_day\"}},\"id\":\"3389\",\"type\":\"Line\"},{\"attributes\":{\"line_color\":\"#30a2da\",\"line_width\":2,\"x\":{\"field\":\"opening_date\"},\"y\":{\"field\":\"volume_quote_day\"}},\"id\":\"3387\",\"type\":\"Line\"},{\"attributes\":{\"tools\":[{\"id\":\"3354\"},{\"id\":\"3371\"},{\"id\":\"3372\"},{\"id\":\"3373\"},{\"id\":\"3374\"},{\"id\":\"3375\"}]},\"id\":\"3377\",\"type\":\"Toolbar\"},{\"attributes\":{},\"id\":\"3394\",\"type\":\"CategoricalTickFormatter\"},{\"attributes\":{\"bottom_units\":\"screen\",\"coordinates\":null,\"fill_alpha\":0.5,\"fill_color\":\"lightgrey\",\"group\":null,\"left_units\":\"screen\",\"level\":\"overlay\",\"line_alpha\":1.0,\"line_color\":\"black\",\"line_dash\":[4,4],\"line_width\":2,\"right_units\":\"screen\",\"syncable\":false,\"top_units\":\"screen\"},\"id\":\"3376\",\"type\":\"BoxAnnotation\"},{\"attributes\":{},\"id\":\"3371\",\"type\":\"SaveTool\"},{\"attributes\":{},\"id\":\"3372\",\"type\":\"PanTool\"},{\"attributes\":{\"line_color\":\"#30a2da\",\"line_width\":2,\"x\":{\"field\":\"opening_date\"},\"y\":{\"field\":\"volume_quote_day\"}},\"id\":\"3392\",\"type\":\"Line\"},{\"attributes\":{},\"id\":\"3375\",\"type\":\"ResetTool\"},{\"attributes\":{},\"id\":\"3407\",\"type\":\"UnionRenderers\"},{\"attributes\":{\"source\":{\"id\":\"3384\"}},\"id\":\"3391\",\"type\":\"CDSView\"},{\"attributes\":{},\"id\":\"3373\",\"type\":\"WheelZoomTool\"},{\"attributes\":{\"overlay\":{\"id\":\"3376\"}},\"id\":\"3374\",\"type\":\"BoxZoomTool\"},{\"attributes\":{\"line_alpha\":0.1,\"line_color\":\"#30a2da\",\"line_width\":2,\"x\":{\"field\":\"opening_date\"},\"y\":{\"field\":\"volume_quote_day\"}},\"id\":\"3388\",\"type\":\"Line\"},{\"attributes\":{},\"id\":\"3360\",\"type\":\"CategoricalScale\"},{\"attributes\":{},\"id\":\"3395\",\"type\":\"AllLabels\"},{\"attributes\":{\"axis\":{\"id\":\"3364\"},\"coordinates\":null,\"grid_line_color\":null,\"group\":null,\"ticker\":null},\"id\":\"3366\",\"type\":\"Grid\"},{\"attributes\":{\"margin\":[5,5,5,5],\"name\":\"HSpacer05903\",\"sizing_mode\":\"stretch_width\"},\"id\":\"3419\",\"type\":\"Spacer\"},{\"attributes\":{},\"id\":\"3385\",\"type\":\"Selection\"},{\"attributes\":{},\"id\":\"3362\",\"type\":\"LinearScale\"},{\"attributes\":{\"below\":[{\"id\":\"3364\"}],\"center\":[{\"id\":\"3366\"},{\"id\":\"3370\"}],\"left\":[{\"id\":\"3367\"}],\"margin\":[5,5,5,5],\"min_border_bottom\":10,\"min_border_left\":10,\"min_border_right\":10,\"min_border_top\":10,\"renderers\":[{\"id\":\"3390\"}],\"sizing_mode\":\"fixed\",\"title\":{\"id\":\"3356\"},\"toolbar\":{\"id\":\"3377\"},\"width\":2000,\"x_range\":{\"id\":\"3352\"},\"x_scale\":{\"id\":\"3360\"},\"y_range\":{\"id\":\"3353\"},\"y_scale\":{\"id\":\"3362\"}},\"id\":\"3355\",\"subtype\":\"Figure\",\"type\":\"Plot\"},{\"attributes\":{},\"id\":\"3368\",\"type\":\"BasicTicker\"},{\"attributes\":{},\"id\":\"3365\",\"type\":\"CategoricalTicker\"},{\"attributes\":{\"children\":[{\"id\":\"3351\"},{\"id\":\"3355\"},{\"id\":\"3419\"}],\"margin\":[0,0,0,0],\"name\":\"Row05898\",\"tags\":[\"embedded\"]},\"id\":\"3350\",\"type\":\"Row\"},{\"attributes\":{\"axis_label\":\"Volume\",\"coordinates\":null,\"formatter\":{\"id\":\"3349\"},\"group\":null,\"major_label_policy\":{\"id\":\"3398\"},\"ticker\":{\"id\":\"3368\"}},\"id\":\"3367\",\"type\":\"LinearAxis\"},{\"attributes\":{\"end\":756105.34942,\"reset_end\":756105.34942,\"reset_start\":-68012.04362000001,\"start\":-68012.04362000001,\"tags\":[[[\"volume_quote_day\",\"volume_quote_day\",null]]]},\"id\":\"3353\",\"type\":\"Range1d\"},{\"attributes\":{\"axis\":{\"id\":\"3367\"},\"coordinates\":null,\"dimension\":1,\"grid_line_color\":null,\"group\":null,\"ticker\":null},\"id\":\"3370\",\"type\":\"Grid\"},{\"attributes\":{\"coordinates\":null,\"data_source\":{\"id\":\"3384\"},\"glyph\":{\"id\":\"3387\"},\"group\":null,\"hover_glyph\":null,\"muted_glyph\":{\"id\":\"3389\"},\"nonselection_glyph\":{\"id\":\"3388\"},\"selection_glyph\":{\"id\":\"3392\"},\"view\":{\"id\":\"3391\"}},\"id\":\"3390\",\"type\":\"GlyphRenderer\"}],\"root_ids\":[\"3350\"]},\"title\":\"Bokeh Application\",\"version\":\"2.4.1\"}};\n",
       "    var render_items = [{\"docid\":\"172d6c49-c0b4-4199-8778-26e43c75baae\",\"root_ids\":[\"3350\"],\"roots\":{\"3350\":\"f4c46260-284b-4bf3-a0fe-e22cace1051e\"}}];\n",
       "    root.Bokeh.embed.embed_items_notebook(docs_json, render_items);\n",
       "  }\n",
       "  if (root.Bokeh !== undefined && root.Bokeh.Panel !== undefined) {\n",
       "    embed_document(root);\n",
       "  } else {\n",
       "    var attempts = 0;\n",
       "    var timer = setInterval(function(root) {\n",
       "      if (root.Bokeh !== undefined && root.Bokeh.Panel !== undefined) {\n",
       "        clearInterval(timer);\n",
       "        embed_document(root);\n",
       "      } else if (document.readyState == \"complete\") {\n",
       "        attempts++;\n",
       "        if (attempts > 200) {\n",
       "          clearInterval(timer);\n",
       "          console.log(\"Bokeh: ERROR: Unable to run BokehJS code because BokehJS library is missing\");\n",
       "        }\n",
       "      }\n",
       "    }, 25, root)\n",
       "  }\n",
       "})(window);</script>"
      ],
      "text/plain": [
       ":Curve   [opening_date]   (volume_quote_day)"
      ]
     },
     "execution_count": 153,
     "metadata": {
      "application/vnd.holoviews_exec.v0+json": {
       "id": "3350"
      }
     },
     "output_type": "execute_result"
    }
   ],
   "source": [
    "#Graph dataframe for analysis\n",
    "from bokeh.models.formatters import NumeralTickFormatter\n",
    "formatter = NumeralTickFormatter(format=\"0,0\")\n",
    "\n",
    "market_cap_df_graph.hvplot.line(\n",
    "    x='opening_date', \n",
    "    y='volume_quote_day',\n",
    "    xlabel='Opening Date',\n",
    "    ylabel='Volume',\n",
    "    rot=90,\n",
    "    title='Volume Quote Per Day - 0xb7f7f6c52f2e2fdb1963eab30438024864c313f6',\n",
    "    height= 600,\n",
    "    width = 2000\n",
    ").opts(\n",
    "  yformatter=formatter\n",
    ")   "
   ]
  },
  {
   "cell_type": "markdown",
   "id": "c7e662ec-8b65-41bd-a6cd-405854910ca8",
   "metadata": {},
   "source": [
    "Contract Address 0xb47e3cd837dDF8e4c57F05d70Ab865de6e193BBB"
   ]
  },
  {
   "cell_type": "code",
   "execution_count": 154,
   "id": "cb2dbde9-bbe9-4d36-9b01-0ce645ed740b",
   "metadata": {},
   "outputs": [],
   "source": [
    "# Append url for our api\n",
    "url = \"https://api.covalenthq.com/v1\"\n",
    "chain_id = \"/1\"    #TEMP is it always chain1 for most part?\n",
    "option = \"/nft_market/collection\"\n",
    "# Add search queries to api url\n",
    "contract_address2 = \"/0xb47e3cd837dDF8e4c57F05d70Ab865de6e193BBB\"\n",
    "currency = \"/?quote-currency=USD\"\n",
    "format_output = \"&format=JSON\"\n",
    "date_from =\"&from=2022-01-01\"\n",
    "date_to = \"&to=2022-04-25\"\n",
    "api_key = \"&key=\" + covalent_API_KEY\n",
    "\n",
    "url_nft_market_cap_detail2 = url + chain_id + option + contract_address2 + currency + format_output + date_from + date_to  + api_key "
   ]
  },
  {
   "cell_type": "code",
   "execution_count": 155,
   "id": "c97fa945-3513-4a6e-97be-557148e933d3",
   "metadata": {},
   "outputs": [],
   "source": [
    "#set API call string\n",
    "url_nft_market_cap_detail2 = url + chain_id + option + contract_address2 + currency + format_output + date_from + date_to  + api_key \n",
    "#get results from API call\n",
    "nft_market_cap2 = requests.get(url_nft_market_cap_detail2).json()\n"
   ]
  },
  {
   "cell_type": "code",
   "execution_count": 156,
   "id": "51ac4a59-b5d5-4c7e-a884-19e915fae65c",
   "metadata": {},
   "outputs": [],
   "source": [
    "#set data into a dataframe\n",
    "nft_market_cap_df2 = pd.DataFrame(nft_market_cap2['data']['items'])"
   ]
  },
  {
   "cell_type": "code",
   "execution_count": 157,
   "id": "79e50c89-5e25-4af7-a228-48846e3d845e",
   "metadata": {},
   "outputs": [],
   "source": [
    "#set data into a dataframe\n",
    "nft_market_cap_df2 = pd.DataFrame(nft_market_cap2['data']['items'])\n",
    "#create a new data frame for graphing volume, drop un-needed columns\n",
    "market_cap_df_graph_2 = nft_market_cap_df2[[\"opening_date\",\"volume_quote_day\"]].copy()"
   ]
  },
  {
   "cell_type": "code",
   "execution_count": 158,
   "id": "face0287-f0b6-43f9-ac23-c642d13c8184",
   "metadata": {},
   "outputs": [
    {
     "data": {},
     "metadata": {},
     "output_type": "display_data"
    },
    {
     "data": {
      "application/vnd.holoviews_exec.v0+json": "",
      "text/html": [
       "<div id='3467'>\n",
       "\n",
       "\n",
       "\n",
       "\n",
       "\n",
       "  <div class=\"bk-root\" id=\"06e72533-a5c0-4229-9d29-2ad9bbb262e2\" data-root-id=\"3467\"></div>\n",
       "</div>\n",
       "<script type=\"application/javascript\">(function(root) {\n",
       "  function embed_document(root) {\n",
       "    var docs_json = {\"1fd3a97e-c6a7-44d4-a7eb-3506664164fe\":{\"defs\":[{\"extends\":null,\"module\":null,\"name\":\"ReactiveHTML1\",\"overrides\":[],\"properties\":[]},{\"extends\":null,\"module\":null,\"name\":\"FlexBox1\",\"overrides\":[],\"properties\":[{\"default\":\"flex-start\",\"kind\":null,\"name\":\"align_content\"},{\"default\":\"flex-start\",\"kind\":null,\"name\":\"align_items\"},{\"default\":\"row\",\"kind\":null,\"name\":\"flex_direction\"},{\"default\":\"wrap\",\"kind\":null,\"name\":\"flex_wrap\"},{\"default\":\"flex-start\",\"kind\":null,\"name\":\"justify_content\"}]},{\"extends\":null,\"module\":null,\"name\":\"TemplateActions1\",\"overrides\":[],\"properties\":[{\"default\":0,\"kind\":null,\"name\":\"open_modal\"},{\"default\":0,\"kind\":null,\"name\":\"close_modal\"}]},{\"extends\":null,\"module\":null,\"name\":\"MaterialTemplateActions1\",\"overrides\":[],\"properties\":[{\"default\":0,\"kind\":null,\"name\":\"open_modal\"},{\"default\":0,\"kind\":null,\"name\":\"close_modal\"}]}],\"roots\":{\"references\":[{\"attributes\":{\"axis_label\":\"Volume\",\"coordinates\":null,\"formatter\":{\"id\":\"3466\"},\"group\":null,\"major_label_policy\":{\"id\":\"3515\"},\"ticker\":{\"id\":\"3485\"}},\"id\":\"3484\",\"type\":\"LinearAxis\"},{\"attributes\":{},\"id\":\"3524\",\"type\":\"UnionRenderers\"},{\"attributes\":{\"axis\":{\"id\":\"3484\"},\"coordinates\":null,\"dimension\":1,\"grid_line_color\":null,\"group\":null,\"ticker\":null},\"id\":\"3487\",\"type\":\"Grid\"},{\"attributes\":{\"line_color\":\"#30a2da\",\"line_width\":2,\"x\":{\"field\":\"opening_date\"},\"y\":{\"field\":\"volume_quote_day\"}},\"id\":\"3504\",\"type\":\"Line\"},{\"attributes\":{\"tools\":[{\"id\":\"3471\"},{\"id\":\"3488\"},{\"id\":\"3489\"},{\"id\":\"3490\"},{\"id\":\"3491\"},{\"id\":\"3492\"}]},\"id\":\"3494\",\"type\":\"Toolbar\"},{\"attributes\":{},\"id\":\"3515\",\"type\":\"AllLabels\"},{\"attributes\":{\"callback\":null,\"renderers\":[{\"id\":\"3507\"}],\"tags\":[\"hv_created\"],\"tooltips\":[[\"opening_date\",\"@{opening_date}\"],[\"volume_quote_day\",\"@{volume_quote_day}\"]]},\"id\":\"3471\",\"type\":\"HoverTool\"},{\"attributes\":{\"bottom_units\":\"screen\",\"coordinates\":null,\"fill_alpha\":0.5,\"fill_color\":\"lightgrey\",\"group\":null,\"left_units\":\"screen\",\"level\":\"overlay\",\"line_alpha\":1.0,\"line_color\":\"black\",\"line_dash\":[4,4],\"line_width\":2,\"right_units\":\"screen\",\"syncable\":false,\"top_units\":\"screen\"},\"id\":\"3493\",\"type\":\"BoxAnnotation\"},{\"attributes\":{},\"id\":\"3488\",\"type\":\"SaveTool\"},{\"attributes\":{\"children\":[{\"id\":\"3468\"},{\"id\":\"3472\"},{\"id\":\"3536\"}],\"margin\":[0,0,0,0],\"name\":\"Row06122\",\"tags\":[\"embedded\"]},\"id\":\"3467\",\"type\":\"Row\"},{\"attributes\":{},\"id\":\"3489\",\"type\":\"PanTool\"},{\"attributes\":{\"margin\":[5,5,5,5],\"name\":\"HSpacer06126\",\"sizing_mode\":\"stretch_width\"},\"id\":\"3468\",\"type\":\"Spacer\"},{\"attributes\":{},\"id\":\"3492\",\"type\":\"ResetTool\"},{\"attributes\":{\"coordinates\":null,\"group\":null,\"text\":\"Volume Quote Per Day for last Year - 0xb47e3cd837dDF8e4c57F05d70Ab865de6e193BBB\",\"text_color\":\"black\",\"text_font_size\":\"12pt\"},\"id\":\"3473\",\"type\":\"Title\"},{\"attributes\":{\"line_alpha\":0.1,\"line_color\":\"#30a2da\",\"line_width\":2,\"x\":{\"field\":\"opening_date\"},\"y\":{\"field\":\"volume_quote_day\"}},\"id\":\"3505\",\"type\":\"Line\"},{\"attributes\":{},\"id\":\"3490\",\"type\":\"WheelZoomTool\"},{\"attributes\":{},\"id\":\"3511\",\"type\":\"CategoricalTickFormatter\"},{\"attributes\":{\"coordinates\":null,\"data_source\":{\"id\":\"3501\"},\"glyph\":{\"id\":\"3504\"},\"group\":null,\"hover_glyph\":null,\"muted_glyph\":{\"id\":\"3506\"},\"nonselection_glyph\":{\"id\":\"3505\"},\"selection_glyph\":{\"id\":\"3509\"},\"view\":{\"id\":\"3508\"}},\"id\":\"3507\",\"type\":\"GlyphRenderer\"},{\"attributes\":{\"overlay\":{\"id\":\"3493\"}},\"id\":\"3491\",\"type\":\"BoxZoomTool\"},{\"attributes\":{},\"id\":\"3482\",\"type\":\"CategoricalTicker\"},{\"attributes\":{\"axis_label\":\"Opening Date\",\"coordinates\":null,\"formatter\":{\"id\":\"3511\"},\"group\":null,\"major_label_orientation\":1.5707963267948966,\"major_label_policy\":{\"id\":\"3512\"},\"ticker\":{\"id\":\"3482\"}},\"id\":\"3481\",\"type\":\"CategoricalAxis\"},{\"attributes\":{\"source\":{\"id\":\"3501\"}},\"id\":\"3508\",\"type\":\"CDSView\"},{\"attributes\":{},\"id\":\"3502\",\"type\":\"Selection\"},{\"attributes\":{\"line_color\":\"#30a2da\",\"line_width\":2,\"x\":{\"field\":\"opening_date\"},\"y\":{\"field\":\"volume_quote_day\"}},\"id\":\"3509\",\"type\":\"Line\"},{\"attributes\":{\"data\":{\"opening_date\":[\"2022-03-05\",\"2022-03-04\",\"2022-03-03\",\"2022-03-02\",\"2022-03-01\",\"2022-02-28\",\"2022-02-27\",\"2022-02-26\",\"2022-02-25\",\"2022-02-24\",\"2022-02-23\",\"2022-02-22\",\"2022-02-21\",\"2022-02-20\",\"2022-02-19\",\"2022-02-18\",\"2022-02-17\",\"2022-02-16\",\"2022-02-15\",\"2022-02-14\",\"2022-02-13\",\"2022-02-12\",\"2022-02-11\",\"2022-02-10\",\"2022-02-09\",\"2022-02-08\",\"2022-02-07\",\"2022-02-06\",\"2022-02-05\",\"2022-02-04\",\"2022-02-03\",\"2022-02-02\",\"2022-02-01\",\"2022-01-31\",\"2022-01-30\",\"2022-01-29\",\"2022-01-28\",\"2022-01-27\",\"2022-01-26\",\"2022-01-25\",\"2022-01-24\",\"2022-01-23\",\"2022-01-22\",\"2022-01-21\",\"2022-01-20\",\"2022-01-19\",\"2022-01-18\",\"2022-01-17\",\"2022-01-16\",\"2022-01-15\",\"2022-01-14\",\"2022-01-13\",\"2022-01-12\",\"2022-01-11\",\"2022-01-10\",\"2022-01-09\",\"2022-01-08\",\"2022-01-07\",\"2022-01-06\",\"2022-01-05\",\"2022-01-04\",\"2022-01-03\",\"2022-01-02\",\"2022-01-01\"],\"volume_quote_day\":{\"__ndarray__\":\"FK5H4bjVIEHsUbgebacpQQAAAAB5gDNBZmZmZlmwQUHNzMzM2ZMpQZqZmZn9xzdBmpmZGcDvREHNzMzMuko5QZqZmRnyDDVBmpmZmc3RN0FmZmZmj7oqQZqZmZlmoSZB7FG4HjiVLEGamZmZ/10xQZqZmZmqxyhBAAAAgH6CKEEpXI/CMYAdQaRwPQoTmg1BAAAAgC4rIUFmZmZmk7gwQQAAAMB3oVJBAAAAQBvieEHNzMzMSyo3QexRuB7bIy1BAAAAII58ZEEAAACAWI8+QQAAAMAqe0hBZmZm5rDCOUFmZmZmYp0/Qc3MzMyVNDNBAAAAACbWNkFmZmZmC+pPQWZmZubj+EhBAAAAwDNcVkEAAAAAJB9VQWZmZmZzjUhBAAAAIJWcYkGamZmZfQFCQQAAAEAP1WBBAAAAAGl3c0GamZkZNyZCQQAAAMBXSlNBZmZm5oJeS0FmZmZmTk9CQQAAAIAoZlBBAAAAgBJwQUFmZmZmGuU1QTMzMzPbgyRBMzMzM5a+JEFmZmZmfqU3QQAAAIA3EDBBXI/C9cA5DEHNzMzMnrU3QQAAAIA2HDVBzczMzABQP0FmZmZmYLIOQc3MzMwSZzhBMzMzMw+ZO0EAAABAZ7VOQTMzMzMwWzJBAAAAAMS3J0FmZmZmg+NAQZqZmRkT4UVBAAAAYBcZUUE=\",\"dtype\":\"float64\",\"order\":\"little\",\"shape\":[64]}},\"selected\":{\"id\":\"3502\"},\"selection_policy\":{\"id\":\"3524\"}},\"id\":\"3501\",\"type\":\"ColumnDataSource\"},{\"attributes\":{\"line_alpha\":0.2,\"line_color\":\"#30a2da\",\"line_width\":2,\"x\":{\"field\":\"opening_date\"},\"y\":{\"field\":\"volume_quote_day\"}},\"id\":\"3506\",\"type\":\"Line\"},{\"attributes\":{\"factors\":[\"2022-03-05\",\"2022-03-04\",\"2022-03-03\",\"2022-03-02\",\"2022-03-01\",\"2022-02-28\",\"2022-02-27\",\"2022-02-26\",\"2022-02-25\",\"2022-02-24\",\"2022-02-23\",\"2022-02-22\",\"2022-02-21\",\"2022-02-20\",\"2022-02-19\",\"2022-02-18\",\"2022-02-17\",\"2022-02-16\",\"2022-02-15\",\"2022-02-14\",\"2022-02-13\",\"2022-02-12\",\"2022-02-11\",\"2022-02-10\",\"2022-02-09\",\"2022-02-08\",\"2022-02-07\",\"2022-02-06\",\"2022-02-05\",\"2022-02-04\",\"2022-02-03\",\"2022-02-02\",\"2022-02-01\",\"2022-01-31\",\"2022-01-30\",\"2022-01-29\",\"2022-01-28\",\"2022-01-27\",\"2022-01-26\",\"2022-01-25\",\"2022-01-24\",\"2022-01-23\",\"2022-01-22\",\"2022-01-21\",\"2022-01-20\",\"2022-01-19\",\"2022-01-18\",\"2022-01-17\",\"2022-01-16\",\"2022-01-15\",\"2022-01-14\",\"2022-01-13\",\"2022-01-12\",\"2022-01-11\",\"2022-01-10\",\"2022-01-09\",\"2022-01-08\",\"2022-01-07\",\"2022-01-06\",\"2022-01-05\",\"2022-01-04\",\"2022-01-03\",\"2022-01-02\",\"2022-01-01\"],\"tags\":[[[\"opening_date\",\"opening_date\",null]]]},\"id\":\"3469\",\"type\":\"FactorRange\"},{\"attributes\":{},\"id\":\"3479\",\"type\":\"LinearScale\"},{\"attributes\":{\"margin\":[5,5,5,5],\"name\":\"HSpacer06127\",\"sizing_mode\":\"stretch_width\"},\"id\":\"3536\",\"type\":\"Spacer\"},{\"attributes\":{\"end\":28678029.188,\"reset_end\":28678029.188,\"reset_start\":-2354849.068,\"start\":-2354849.068,\"tags\":[[[\"volume_quote_day\",\"volume_quote_day\",null]]]},\"id\":\"3470\",\"type\":\"Range1d\"},{\"attributes\":{},\"id\":\"3477\",\"type\":\"CategoricalScale\"},{\"attributes\":{\"axis\":{\"id\":\"3481\"},\"coordinates\":null,\"grid_line_color\":null,\"group\":null,\"ticker\":null},\"id\":\"3483\",\"type\":\"Grid\"},{\"attributes\":{},\"id\":\"3485\",\"type\":\"BasicTicker\"},{\"attributes\":{},\"id\":\"3512\",\"type\":\"AllLabels\"},{\"attributes\":{\"below\":[{\"id\":\"3481\"}],\"center\":[{\"id\":\"3483\"},{\"id\":\"3487\"}],\"left\":[{\"id\":\"3484\"}],\"margin\":[5,5,5,5],\"min_border_bottom\":10,\"min_border_left\":10,\"min_border_right\":10,\"min_border_top\":10,\"renderers\":[{\"id\":\"3507\"}],\"sizing_mode\":\"fixed\",\"title\":{\"id\":\"3473\"},\"toolbar\":{\"id\":\"3494\"},\"width\":1000,\"x_range\":{\"id\":\"3469\"},\"x_scale\":{\"id\":\"3477\"},\"y_range\":{\"id\":\"3470\"},\"y_scale\":{\"id\":\"3479\"}},\"id\":\"3472\",\"subtype\":\"Figure\",\"type\":\"Plot\"},{\"attributes\":{},\"id\":\"3466\",\"type\":\"NumeralTickFormatter\"}],\"root_ids\":[\"3467\"]},\"title\":\"Bokeh Application\",\"version\":\"2.4.1\"}};\n",
       "    var render_items = [{\"docid\":\"1fd3a97e-c6a7-44d4-a7eb-3506664164fe\",\"root_ids\":[\"3467\"],\"roots\":{\"3467\":\"06e72533-a5c0-4229-9d29-2ad9bbb262e2\"}}];\n",
       "    root.Bokeh.embed.embed_items_notebook(docs_json, render_items);\n",
       "  }\n",
       "  if (root.Bokeh !== undefined && root.Bokeh.Panel !== undefined) {\n",
       "    embed_document(root);\n",
       "  } else {\n",
       "    var attempts = 0;\n",
       "    var timer = setInterval(function(root) {\n",
       "      if (root.Bokeh !== undefined && root.Bokeh.Panel !== undefined) {\n",
       "        clearInterval(timer);\n",
       "        embed_document(root);\n",
       "      } else if (document.readyState == \"complete\") {\n",
       "        attempts++;\n",
       "        if (attempts > 200) {\n",
       "          clearInterval(timer);\n",
       "          console.log(\"Bokeh: ERROR: Unable to run BokehJS code because BokehJS library is missing\");\n",
       "        }\n",
       "      }\n",
       "    }, 25, root)\n",
       "  }\n",
       "})(window);</script>"
      ],
      "text/plain": [
       ":Curve   [opening_date]   (volume_quote_day)"
      ]
     },
     "execution_count": 158,
     "metadata": {
      "application/vnd.holoviews_exec.v0+json": {
       "id": "3467"
      }
     },
     "output_type": "execute_result"
    }
   ],
   "source": [
    "#Graph dataframe for analysis\n",
    "from bokeh.models.formatters import NumeralTickFormatter\n",
    "formatter = NumeralTickFormatter(format=\"0,0\")\n",
    "\n",
    "market_cap_df_graph_2.hvplot.line(\n",
    "    x='opening_date', \n",
    "    y='volume_quote_day',\n",
    "    xlabel='Opening Date',\n",
    "    ylabel='Volume',\n",
    "    rot=90,\n",
    "    title='Volume Quote Per Day for last Year - 0xb47e3cd837dDF8e4c57F05d70Ab865de6e193BBB',\n",
    "    height= 600,\n",
    "    width = 1000\n",
    ").opts(\n",
    "  yformatter=formatter\n",
    ")   "
   ]
  },
  {
   "cell_type": "markdown",
   "id": "420be5a9-b49a-43f0-965b-64528bb4b12d",
   "metadata": {},
   "source": [
    "<img src=\"Images\\Volume Quote Per Day - 0xb47e3cd837dDF8e4c57F05d70Ab865de6e193BBB.png\">"
   ]
  },
  {
   "cell_type": "code",
   "execution_count": 159,
   "id": "e37b58fd-7355-474b-93c2-62c1aed188e7",
   "metadata": {},
   "outputs": [],
   "source": [
    "from bokeh.models.formatters import NumeralTickFormatter\n",
    "formatter = NumeralTickFormatter(format=\"0,0\")\n",
    "graph2 = market_cap_df_graph_2.hvplot.bar(\n",
    "    x='opening_date', \n",
    "    y='volume_quote_day',\n",
    "    xlabel='Opening Date',\n",
    "    ylabel='Volume',\n",
    "    rot=90,\n",
    "    label='0xb47e3cd837dDF8e4c57F05d70Ab865de6e193BBB',\n",
    "    height= 600,\n",
    "    width = 1000\n",
    ").opts(\n",
    "  yformatter=formatter\n",
    ") \n",
    "\n",
    "graph1  = market_cap_df_graph.hvplot.bar(\n",
    "    x='opening_date', \n",
    "    y='volume_quote_day',\n",
    "    xlabel='Opening Date',\n",
    "    ylabel='Volume',\n",
    "    rot=90,\n",
    "    label='0xb7f7f6c52f2e2fdb1963eab30438024864c313f6',\n",
    "    height= 600,\n",
    "    width = 1000\n",
    ").opts(\n",
    "  yformatter=formatter\n",
    ") "
   ]
  },
  {
   "cell_type": "code",
   "execution_count": 161,
   "id": "55094bb4-dc69-43d1-b736-3ceaffd6d9bb",
   "metadata": {},
   "outputs": [
    {
     "data": {},
     "metadata": {},
     "output_type": "display_data"
    },
    {
     "data": {
      "application/vnd.holoviews_exec.v0+json": "",
      "text/html": [
       "<div id='3824'>\n",
       "\n",
       "\n",
       "\n",
       "\n",
       "\n",
       "  <div class=\"bk-root\" id=\"b2e92eef-2bed-4150-a795-643949887868\" data-root-id=\"3824\"></div>\n",
       "</div>\n",
       "<script type=\"application/javascript\">(function(root) {\n",
       "  function embed_document(root) {\n",
       "    var docs_json = {\"98a05fab-342b-4add-a697-812668839b33\":{\"defs\":[{\"extends\":null,\"module\":null,\"name\":\"ReactiveHTML1\",\"overrides\":[],\"properties\":[]},{\"extends\":null,\"module\":null,\"name\":\"FlexBox1\",\"overrides\":[],\"properties\":[{\"default\":\"flex-start\",\"kind\":null,\"name\":\"align_content\"},{\"default\":\"flex-start\",\"kind\":null,\"name\":\"align_items\"},{\"default\":\"row\",\"kind\":null,\"name\":\"flex_direction\"},{\"default\":\"wrap\",\"kind\":null,\"name\":\"flex_wrap\"},{\"default\":\"flex-start\",\"kind\":null,\"name\":\"justify_content\"}]},{\"extends\":null,\"module\":null,\"name\":\"TemplateActions1\",\"overrides\":[],\"properties\":[{\"default\":0,\"kind\":null,\"name\":\"open_modal\"},{\"default\":0,\"kind\":null,\"name\":\"close_modal\"}]},{\"extends\":null,\"module\":null,\"name\":\"MaterialTemplateActions1\",\"overrides\":[],\"properties\":[{\"default\":0,\"kind\":null,\"name\":\"open_modal\"},{\"default\":0,\"kind\":null,\"name\":\"close_modal\"}]}],\"roots\":{\"references\":[{\"attributes\":{\"factors\":[\"2022-03-05\",\"2022-03-04\",\"2022-03-03\",\"2022-03-02\",\"2022-03-01\",\"2022-02-28\",\"2022-02-27\",\"2022-02-26\",\"2022-02-25\",\"2022-02-24\",\"2022-02-23\",\"2022-02-22\",\"2022-02-21\",\"2022-02-20\",\"2022-02-19\",\"2022-02-18\",\"2022-02-17\",\"2022-02-16\",\"2022-02-15\",\"2022-02-14\",\"2022-02-13\",\"2022-02-12\",\"2022-02-11\",\"2022-02-10\",\"2022-02-09\",\"2022-02-08\",\"2022-02-07\",\"2022-02-06\",\"2022-02-05\",\"2022-02-04\",\"2022-02-03\",\"2022-02-02\",\"2022-02-01\",\"2022-01-31\",\"2022-01-30\",\"2022-01-29\",\"2022-01-28\",\"2022-01-27\",\"2022-01-26\",\"2022-01-25\",\"2022-01-24\",\"2022-01-23\",\"2022-01-22\",\"2022-01-21\",\"2022-01-20\",\"2022-01-19\",\"2022-01-18\",\"2022-01-17\",\"2022-01-16\",\"2022-01-15\",\"2022-01-14\",\"2022-01-13\",\"2022-01-12\",\"2022-01-11\",\"2022-01-10\",\"2022-01-09\",\"2022-01-08\",\"2022-01-07\",\"2022-01-06\",\"2022-01-05\",\"2022-01-04\",\"2022-01-03\",\"2022-01-02\",\"2022-01-01\",\"2022-03-30\"],\"tags\":[[[\"opening_date\",\"opening_date\",null]]]},\"id\":\"3826\",\"type\":\"FactorRange\"},{\"attributes\":{\"tools\":[{\"id\":\"3828\"},{\"id\":\"3846\"},{\"id\":\"3847\"},{\"id\":\"3848\"},{\"id\":\"3849\"},{\"id\":\"3850\"}]},\"id\":\"3852\",\"type\":\"Toolbar\"},{\"attributes\":{\"click_policy\":\"mute\",\"coordinates\":null,\"group\":null,\"items\":[{\"id\":\"3885\"},{\"id\":\"3906\"}],\"location\":[0,0]},\"id\":\"3884\",\"type\":\"Legend\"},{\"attributes\":{\"bottom_units\":\"screen\",\"coordinates\":null,\"fill_alpha\":0.5,\"fill_color\":\"lightgrey\",\"group\":null,\"left_units\":\"screen\",\"level\":\"overlay\",\"line_alpha\":1.0,\"line_color\":\"black\",\"line_dash\":[4,4],\"line_width\":2,\"right_units\":\"screen\",\"syncable\":false,\"top_units\":\"screen\"},\"id\":\"3851\",\"type\":\"BoxAnnotation\"},{\"attributes\":{},\"id\":\"3846\",\"type\":\"SaveTool\"},{\"attributes\":{},\"id\":\"3864\",\"type\":\"AllLabels\"},{\"attributes\":{},\"id\":\"3847\",\"type\":\"PanTool\"},{\"attributes\":{},\"id\":\"3881\",\"type\":\"UnionRenderers\"},{\"attributes\":{\"source\":{\"id\":\"3887\"}},\"id\":\"3894\",\"type\":\"CDSView\"},{\"attributes\":{},\"id\":\"3850\",\"type\":\"ResetTool\"},{\"attributes\":{\"data\":{\"opening_date\":[\"2022-03-05\",\"2022-03-04\",\"2022-03-03\",\"2022-03-02\",\"2022-03-01\",\"2022-02-28\",\"2022-02-27\",\"2022-02-26\",\"2022-02-25\",\"2022-02-24\",\"2022-02-23\",\"2022-02-22\",\"2022-02-21\",\"2022-02-20\",\"2022-02-19\",\"2022-02-18\",\"2022-02-17\",\"2022-02-16\",\"2022-02-15\",\"2022-02-14\",\"2022-02-13\",\"2022-02-12\",\"2022-02-11\",\"2022-02-10\",\"2022-02-09\",\"2022-02-08\",\"2022-02-07\",\"2022-02-06\",\"2022-02-05\",\"2022-02-04\",\"2022-02-03\",\"2022-02-02\",\"2022-02-01\",\"2022-01-31\",\"2022-01-30\",\"2022-01-29\",\"2022-01-28\",\"2022-01-27\",\"2022-01-26\",\"2022-01-25\",\"2022-01-24\",\"2022-01-23\",\"2022-01-22\",\"2022-01-21\",\"2022-01-20\",\"2022-01-19\",\"2022-01-18\",\"2022-01-17\",\"2022-01-16\",\"2022-01-15\",\"2022-01-14\",\"2022-01-13\",\"2022-01-12\",\"2022-01-11\",\"2022-01-10\",\"2022-01-09\",\"2022-01-08\",\"2022-01-07\",\"2022-01-06\",\"2022-01-05\",\"2022-01-04\",\"2022-01-03\",\"2022-01-02\",\"2022-01-01\"],\"volume_quote_day\":{\"__ndarray__\":\"FK5H4bjVIEHsUbgebacpQQAAAAB5gDNBZmZmZlmwQUHNzMzM2ZMpQZqZmZn9xzdBmpmZGcDvREHNzMzMuko5QZqZmRnyDDVBmpmZmc3RN0FmZmZmj7oqQZqZmZlmoSZB7FG4HjiVLEGamZmZ/10xQZqZmZmqxyhBAAAAgH6CKEEpXI/CMYAdQaRwPQoTmg1BAAAAgC4rIUFmZmZmk7gwQQAAAMB3oVJBAAAAQBvieEHNzMzMSyo3QexRuB7bIy1BAAAAII58ZEEAAACAWI8+QQAAAMAqe0hBZmZm5rDCOUFmZmZmYp0/Qc3MzMyVNDNBAAAAACbWNkFmZmZmC+pPQWZmZubj+EhBAAAAwDNcVkEAAAAAJB9VQWZmZmZzjUhBAAAAIJWcYkGamZmZfQFCQQAAAEAP1WBBAAAAAGl3c0GamZkZNyZCQQAAAMBXSlNBZmZm5oJeS0FmZmZmTk9CQQAAAIAoZlBBAAAAgBJwQUFmZmZmGuU1QTMzMzPbgyRBMzMzM5a+JEFmZmZmfqU3QQAAAIA3EDBBXI/C9cA5DEHNzMzMnrU3QQAAAIA2HDVBzczMzABQP0FmZmZmYLIOQc3MzMwSZzhBMzMzMw+ZO0EAAABAZ7VOQTMzMzMwWzJBAAAAAMS3J0FmZmZmg+NAQZqZmRkT4UVBAAAAYBcZUUE=\",\"dtype\":\"float64\",\"order\":\"little\",\"shape\":[64]}},\"selected\":{\"id\":\"3868\"},\"selection_policy\":{\"id\":\"3881\"}},\"id\":\"3867\",\"type\":\"ColumnDataSource\"},{\"attributes\":{},\"id\":\"3848\",\"type\":\"WheelZoomTool\"},{\"attributes\":{},\"id\":\"3888\",\"type\":\"Selection\"},{\"attributes\":{\"axis_label\":\"Opening Date\",\"coordinates\":null,\"formatter\":{\"id\":\"3860\"},\"group\":null,\"major_label_orientation\":1.5707963267948966,\"major_label_policy\":{\"id\":\"3861\"},\"ticker\":{\"id\":\"3840\"}},\"id\":\"3839\",\"type\":\"CategoricalAxis\"},{\"attributes\":{\"overlay\":{\"id\":\"3851\"}},\"id\":\"3849\",\"type\":\"BoxZoomTool\"},{\"attributes\":{\"label\":{\"value\":\"0xb7f7f6c52f2e2fdb1963eab30438024864c313f6\"},\"renderers\":[{\"id\":\"3893\"}]},\"id\":\"3906\",\"type\":\"LegendItem\"},{\"attributes\":{},\"id\":\"3835\",\"type\":\"CategoricalScale\"},{\"attributes\":{\"coordinates\":null,\"group\":null,\"text_color\":\"black\",\"text_font_size\":\"12pt\"},\"id\":\"3831\",\"type\":\"Title\"},{\"attributes\":{\"axis\":{\"id\":\"3839\"},\"coordinates\":null,\"grid_line_color\":null,\"group\":null,\"ticker\":null},\"id\":\"3841\",\"type\":\"Grid\"},{\"attributes\":{\"end\":28701085.15942,\"reset_end\":28701085.15942,\"reset_start\":0.0,\"tags\":[[[\"volume_quote_day\",\"volume_quote_day\",null]]]},\"id\":\"3827\",\"type\":\"Range1d\"},{\"attributes\":{\"label\":{\"value\":\"0xb47e3cd837dDF8e4c57F05d70Ab865de6e193BBB\"},\"renderers\":[{\"id\":\"3873\"}]},\"id\":\"3885\",\"type\":\"LegendItem\"},{\"attributes\":{\"margin\":[5,5,5,5],\"name\":\"HSpacer06789\",\"sizing_mode\":\"stretch_width\"},\"id\":\"3825\",\"type\":\"Spacer\"},{\"attributes\":{\"margin\":[5,5,5,5],\"name\":\"HSpacer06790\",\"sizing_mode\":\"stretch_width\"},\"id\":\"4007\",\"type\":\"Spacer\"},{\"attributes\":{},\"id\":\"3837\",\"type\":\"LinearScale\"},{\"attributes\":{\"fill_color\":{\"value\":\"#30a2da\"},\"hatch_color\":{\"value\":\"#30a2da\"},\"top\":{\"field\":\"volume_quote_day\"},\"width\":{\"value\":0.8},\"x\":{\"field\":\"opening_date\"}},\"id\":\"3870\",\"type\":\"VBar\"},{\"attributes\":{\"below\":[{\"id\":\"3839\"}],\"center\":[{\"id\":\"3841\"},{\"id\":\"3845\"}],\"left\":[{\"id\":\"3842\"}],\"margin\":[5,5,5,5],\"min_border_bottom\":10,\"min_border_left\":10,\"min_border_right\":10,\"min_border_top\":10,\"renderers\":[{\"id\":\"3873\"},{\"id\":\"3893\"}],\"right\":[{\"id\":\"3884\"}],\"sizing_mode\":\"fixed\",\"title\":{\"id\":\"3831\"},\"toolbar\":{\"id\":\"3852\"},\"width\":1000,\"x_range\":{\"id\":\"3826\"},\"x_scale\":{\"id\":\"3835\"},\"y_range\":{\"id\":\"3827\"},\"y_scale\":{\"id\":\"3837\"}},\"id\":\"3830\",\"subtype\":\"Figure\",\"type\":\"Plot\"},{\"attributes\":{\"fill_alpha\":{\"value\":0.2},\"fill_color\":{\"value\":\"#fc4f30\"},\"hatch_alpha\":{\"value\":0.2},\"hatch_color\":{\"value\":\"#fc4f30\"},\"line_alpha\":{\"value\":0.2},\"top\":{\"field\":\"volume_quote_day\"},\"width\":{\"value\":0.8},\"x\":{\"field\":\"opening_date\"}},\"id\":\"3892\",\"type\":\"VBar\"},{\"attributes\":{},\"id\":\"3843\",\"type\":\"BasicTicker\"},{\"attributes\":{},\"id\":\"3840\",\"type\":\"CategoricalTicker\"},{\"attributes\":{\"children\":[{\"id\":\"3825\"},{\"id\":\"3830\"},{\"id\":\"4007\"}],\"margin\":[0,0,0,0],\"name\":\"Row06785\",\"tags\":[\"embedded\"]},\"id\":\"3824\",\"type\":\"Row\"},{\"attributes\":{\"fill_alpha\":{\"value\":0.1},\"fill_color\":{\"value\":\"#fc4f30\"},\"hatch_alpha\":{\"value\":0.1},\"hatch_color\":{\"value\":\"#fc4f30\"},\"line_alpha\":{\"value\":0.1},\"top\":{\"field\":\"volume_quote_day\"},\"width\":{\"value\":0.8},\"x\":{\"field\":\"opening_date\"}},\"id\":\"3891\",\"type\":\"VBar\"},{\"attributes\":{\"axis_label\":\"Volume\",\"coordinates\":null,\"formatter\":{\"id\":\"3583\"},\"group\":null,\"major_label_policy\":{\"id\":\"3864\"},\"ticker\":{\"id\":\"3843\"}},\"id\":\"3842\",\"type\":\"LinearAxis\"},{\"attributes\":{\"data\":{\"opening_date\":[\"2022-03-30\",\"2022-02-03\",\"2022-01-17\"],\"volume_quote_day\":{\"__ndarray__\":\"zczMzIn6JEG8BRIUP8OEQAAAAAAjARRB\",\"dtype\":\"float64\",\"order\":\"little\",\"shape\":[3]}},\"selected\":{\"id\":\"3888\"},\"selection_policy\":{\"id\":\"3903\"}},\"id\":\"3887\",\"type\":\"ColumnDataSource\"},{\"attributes\":{\"fill_alpha\":{\"value\":0.2},\"fill_color\":{\"value\":\"#30a2da\"},\"hatch_alpha\":{\"value\":0.2},\"hatch_color\":{\"value\":\"#30a2da\"},\"line_alpha\":{\"value\":0.2},\"top\":{\"field\":\"volume_quote_day\"},\"width\":{\"value\":0.8},\"x\":{\"field\":\"opening_date\"}},\"id\":\"3872\",\"type\":\"VBar\"},{\"attributes\":{\"axis\":{\"id\":\"3842\"},\"coordinates\":null,\"dimension\":1,\"grid_line_color\":null,\"group\":null,\"ticker\":null},\"id\":\"3845\",\"type\":\"Grid\"},{\"attributes\":{\"source\":{\"id\":\"3867\"}},\"id\":\"3874\",\"type\":\"CDSView\"},{\"attributes\":{\"bottom\":{\"value\":0},\"fill_alpha\":{\"value\":1.0},\"fill_color\":{\"value\":\"#30a2da\"},\"hatch_alpha\":{\"value\":1.0},\"hatch_color\":{\"value\":\"#30a2da\"},\"hatch_scale\":{\"value\":12.0},\"hatch_weight\":{\"value\":1.0},\"line_alpha\":{\"value\":1.0},\"line_cap\":{\"value\":\"butt\"},\"line_color\":{\"value\":\"black\"},\"line_dash\":{\"value\":[]},\"line_dash_offset\":{\"value\":0},\"line_join\":{\"value\":\"bevel\"},\"line_width\":{\"value\":1},\"top\":{\"field\":\"volume_quote_day\"},\"width\":{\"value\":0.8},\"x\":{\"field\":\"opening_date\"}},\"id\":\"3886\",\"type\":\"VBar\"},{\"attributes\":{\"fill_alpha\":{\"value\":0.1},\"fill_color\":{\"value\":\"#30a2da\"},\"hatch_alpha\":{\"value\":0.1},\"hatch_color\":{\"value\":\"#30a2da\"},\"line_alpha\":{\"value\":0.1},\"top\":{\"field\":\"volume_quote_day\"},\"width\":{\"value\":0.8},\"x\":{\"field\":\"opening_date\"}},\"id\":\"3871\",\"type\":\"VBar\"},{\"attributes\":{},\"id\":\"3860\",\"type\":\"CategoricalTickFormatter\"},{\"attributes\":{\"bottom\":{\"value\":0},\"fill_alpha\":{\"value\":1.0},\"fill_color\":{\"value\":\"#fc4f30\"},\"hatch_alpha\":{\"value\":1.0},\"hatch_color\":{\"value\":\"#fc4f30\"},\"hatch_scale\":{\"value\":12.0},\"hatch_weight\":{\"value\":1.0},\"line_alpha\":{\"value\":1.0},\"line_cap\":{\"value\":\"butt\"},\"line_color\":{\"value\":\"black\"},\"line_dash\":{\"value\":[]},\"line_dash_offset\":{\"value\":0},\"line_join\":{\"value\":\"bevel\"},\"line_width\":{\"value\":1},\"top\":{\"field\":\"volume_quote_day\"},\"width\":{\"value\":0.8},\"x\":{\"field\":\"opening_date\"}},\"id\":\"3907\",\"type\":\"VBar\"},{\"attributes\":{\"coordinates\":null,\"data_source\":{\"id\":\"3887\"},\"glyph\":{\"id\":\"3890\"},\"group\":null,\"hover_glyph\":null,\"muted_glyph\":{\"id\":\"3892\"},\"nonselection_glyph\":{\"id\":\"3891\"},\"selection_glyph\":{\"id\":\"3907\"},\"view\":{\"id\":\"3894\"}},\"id\":\"3893\",\"type\":\"GlyphRenderer\"},{\"attributes\":{\"callback\":null,\"renderers\":[{\"id\":\"3873\"},{\"id\":\"3893\"}],\"tags\":[\"hv_created\"],\"tooltips\":[[\"opening_date\",\"@{opening_date}\"],[\"volume_quote_day\",\"@{volume_quote_day}\"]]},\"id\":\"3828\",\"type\":\"HoverTool\"},{\"attributes\":{\"coordinates\":null,\"data_source\":{\"id\":\"3867\"},\"glyph\":{\"id\":\"3870\"},\"group\":null,\"hover_glyph\":null,\"muted_glyph\":{\"id\":\"3872\"},\"nonselection_glyph\":{\"id\":\"3871\"},\"selection_glyph\":{\"id\":\"3886\"},\"view\":{\"id\":\"3874\"}},\"id\":\"3873\",\"type\":\"GlyphRenderer\"},{\"attributes\":{},\"id\":\"3861\",\"type\":\"AllLabels\"},{\"attributes\":{},\"id\":\"3868\",\"type\":\"Selection\"},{\"attributes\":{\"fill_color\":{\"value\":\"#fc4f30\"},\"hatch_color\":{\"value\":\"#fc4f30\"},\"top\":{\"field\":\"volume_quote_day\"},\"width\":{\"value\":0.8},\"x\":{\"field\":\"opening_date\"}},\"id\":\"3890\",\"type\":\"VBar\"},{\"attributes\":{},\"id\":\"3583\",\"type\":\"NumeralTickFormatter\"},{\"attributes\":{},\"id\":\"3903\",\"type\":\"UnionRenderers\"}],\"root_ids\":[\"3824\"]},\"title\":\"Bokeh Application\",\"version\":\"2.4.1\"}};\n",
       "    var render_items = [{\"docid\":\"98a05fab-342b-4add-a697-812668839b33\",\"root_ids\":[\"3824\"],\"roots\":{\"3824\":\"b2e92eef-2bed-4150-a795-643949887868\"}}];\n",
       "    root.Bokeh.embed.embed_items_notebook(docs_json, render_items);\n",
       "  }\n",
       "  if (root.Bokeh !== undefined && root.Bokeh.Panel !== undefined) {\n",
       "    embed_document(root);\n",
       "  } else {\n",
       "    var attempts = 0;\n",
       "    var timer = setInterval(function(root) {\n",
       "      if (root.Bokeh !== undefined && root.Bokeh.Panel !== undefined) {\n",
       "        clearInterval(timer);\n",
       "        embed_document(root);\n",
       "      } else if (document.readyState == \"complete\") {\n",
       "        attempts++;\n",
       "        if (attempts > 200) {\n",
       "          clearInterval(timer);\n",
       "          console.log(\"Bokeh: ERROR: Unable to run BokehJS code because BokehJS library is missing\");\n",
       "        }\n",
       "      }\n",
       "    }, 25, root)\n",
       "  }\n",
       "})(window);</script>"
      ],
      "text/plain": [
       ":Overlay\n",
       "   .Bars.A_0xb47e3cd837dDF8e4c57F05d70Ab865de6e193BBB :Bars   [opening_date]   (volume_quote_day)\n",
       "   .Bars.A_0xb7f7f6c52f2e2fdb1963eab30438024864c313f6 :Bars   [opening_date]   (volume_quote_day)"
      ]
     },
     "execution_count": 161,
     "metadata": {
      "application/vnd.holoviews_exec.v0+json": {
       "id": "3824"
      }
     },
     "output_type": "execute_result"
    }
   ],
   "source": [
    "graph2 * graph1"
   ]
  },
  {
   "cell_type": "code",
   "execution_count": 162,
   "id": "e0172e33-c2f9-4291-beb1-0aa0c71bd113",
   "metadata": {},
   "outputs": [
    {
     "data": {
      "text/html": [
       "<div>\n",
       "<style scoped>\n",
       "    .dataframe tbody tr th:only-of-type {\n",
       "        vertical-align: middle;\n",
       "    }\n",
       "\n",
       "    .dataframe tbody tr th {\n",
       "        vertical-align: top;\n",
       "    }\n",
       "\n",
       "    .dataframe thead th {\n",
       "        text-align: right;\n",
       "    }\n",
       "</style>\n",
       "<table border=\"1\" class=\"dataframe\">\n",
       "  <thead>\n",
       "    <tr style=\"text-align: right;\">\n",
       "      <th></th>\n",
       "      <th>opening_date</th>\n",
       "      <th>volume_quote_day</th>\n",
       "    </tr>\n",
       "  </thead>\n",
       "  <tbody>\n",
       "    <tr>\n",
       "      <th>0</th>\n",
       "      <td>2022-03-30</td>\n",
       "      <td>687428.9000</td>\n",
       "    </tr>\n",
       "    <tr>\n",
       "      <th>1</th>\n",
       "      <td>2022-02-03</td>\n",
       "      <td>664.4058</td>\n",
       "    </tr>\n",
       "    <tr>\n",
       "      <th>2</th>\n",
       "      <td>2022-01-17</td>\n",
       "      <td>327752.7500</td>\n",
       "    </tr>\n",
       "  </tbody>\n",
       "</table>\n",
       "</div>"
      ],
      "text/plain": [
       "  opening_date  volume_quote_day\n",
       "0   2022-03-30       687428.9000\n",
       "1   2022-02-03          664.4058\n",
       "2   2022-01-17       327752.7500"
      ]
     },
     "execution_count": 162,
     "metadata": {},
     "output_type": "execute_result"
    }
   ],
   "source": [
    "market_cap_df_graph"
   ]
  },
  {
   "cell_type": "code",
   "execution_count": 163,
   "id": "7c661fef-a829-419a-a623-a3453b978a89",
   "metadata": {},
   "outputs": [
    {
     "data": {
      "text/html": [
       "<div>\n",
       "<style scoped>\n",
       "    .dataframe tbody tr th:only-of-type {\n",
       "        vertical-align: middle;\n",
       "    }\n",
       "\n",
       "    .dataframe tbody tr th {\n",
       "        vertical-align: top;\n",
       "    }\n",
       "\n",
       "    .dataframe thead th {\n",
       "        text-align: right;\n",
       "    }\n",
       "</style>\n",
       "<table border=\"1\" class=\"dataframe\">\n",
       "  <thead>\n",
       "    <tr style=\"text-align: right;\">\n",
       "      <th></th>\n",
       "      <th>opening_date</th>\n",
       "      <th>volume_quote_day</th>\n",
       "    </tr>\n",
       "  </thead>\n",
       "  <tbody>\n",
       "    <tr>\n",
       "      <th>0</th>\n",
       "      <td>2022-03-05</td>\n",
       "      <td>551644.44</td>\n",
       "    </tr>\n",
       "    <tr>\n",
       "      <th>1</th>\n",
       "      <td>2022-03-04</td>\n",
       "      <td>840630.56</td>\n",
       "    </tr>\n",
       "    <tr>\n",
       "      <th>2</th>\n",
       "      <td>2022-03-03</td>\n",
       "      <td>1278073.00</td>\n",
       "    </tr>\n",
       "    <tr>\n",
       "      <th>3</th>\n",
       "      <td>2022-03-02</td>\n",
       "      <td>2318514.80</td>\n",
       "    </tr>\n",
       "    <tr>\n",
       "      <th>4</th>\n",
       "      <td>2022-03-01</td>\n",
       "      <td>838124.90</td>\n",
       "    </tr>\n",
       "    <tr>\n",
       "      <th>...</th>\n",
       "      <td>...</td>\n",
       "      <td>...</td>\n",
       "    </tr>\n",
       "    <tr>\n",
       "      <th>59</th>\n",
       "      <td>2022-01-05</td>\n",
       "      <td>1202992.20</td>\n",
       "    </tr>\n",
       "    <tr>\n",
       "      <th>60</th>\n",
       "      <td>2022-01-04</td>\n",
       "      <td>777186.00</td>\n",
       "    </tr>\n",
       "    <tr>\n",
       "      <th>61</th>\n",
       "      <td>2022-01-03</td>\n",
       "      <td>2213638.80</td>\n",
       "    </tr>\n",
       "    <tr>\n",
       "      <th>62</th>\n",
       "      <td>2022-01-02</td>\n",
       "      <td>2867750.20</td>\n",
       "    </tr>\n",
       "    <tr>\n",
       "      <th>63</th>\n",
       "      <td>2022-01-01</td>\n",
       "      <td>4482141.50</td>\n",
       "    </tr>\n",
       "  </tbody>\n",
       "</table>\n",
       "<p>64 rows × 2 columns</p>\n",
       "</div>"
      ],
      "text/plain": [
       "   opening_date  volume_quote_day\n",
       "0    2022-03-05         551644.44\n",
       "1    2022-03-04         840630.56\n",
       "2    2022-03-03        1278073.00\n",
       "3    2022-03-02        2318514.80\n",
       "4    2022-03-01         838124.90\n",
       "..          ...               ...\n",
       "59   2022-01-05        1202992.20\n",
       "60   2022-01-04         777186.00\n",
       "61   2022-01-03        2213638.80\n",
       "62   2022-01-02        2867750.20\n",
       "63   2022-01-01        4482141.50\n",
       "\n",
       "[64 rows x 2 columns]"
      ]
     },
     "execution_count": 163,
     "metadata": {},
     "output_type": "execute_result"
    }
   ],
   "source": [
    "market_cap_df_graph_2"
   ]
  },
  {
   "cell_type": "code",
   "execution_count": 164,
   "id": "c5b8b460-f228-411e-b3ac-fca808830b32",
   "metadata": {},
   "outputs": [
    {
     "data": {
      "text/html": [
       "<div>\n",
       "<style scoped>\n",
       "    .dataframe tbody tr th:only-of-type {\n",
       "        vertical-align: middle;\n",
       "    }\n",
       "\n",
       "    .dataframe tbody tr th {\n",
       "        vertical-align: top;\n",
       "    }\n",
       "\n",
       "    .dataframe thead th {\n",
       "        text-align: right;\n",
       "    }\n",
       "</style>\n",
       "<table border=\"1\" class=\"dataframe\">\n",
       "  <thead>\n",
       "    <tr style=\"text-align: right;\">\n",
       "      <th></th>\n",
       "      <th>opening_date</th>\n",
       "      <th>volume_quote_day</th>\n",
       "    </tr>\n",
       "  </thead>\n",
       "  <tbody>\n",
       "    <tr>\n",
       "      <th>0</th>\n",
       "      <td>2022-03-30</td>\n",
       "      <td>687428.9000</td>\n",
       "    </tr>\n",
       "    <tr>\n",
       "      <th>1</th>\n",
       "      <td>2022-02-03</td>\n",
       "      <td>664.4058</td>\n",
       "    </tr>\n",
       "    <tr>\n",
       "      <th>2</th>\n",
       "      <td>2022-01-17</td>\n",
       "      <td>327752.7500</td>\n",
       "    </tr>\n",
       "  </tbody>\n",
       "</table>\n",
       "</div>"
      ],
      "text/plain": [
       "  opening_date  volume_quote_day\n",
       "0   2022-03-30       687428.9000\n",
       "1   2022-02-03          664.4058\n",
       "2   2022-01-17       327752.7500"
      ]
     },
     "execution_count": 164,
     "metadata": {},
     "output_type": "execute_result"
    }
   ],
   "source": [
    "market_cap_df_graph"
   ]
  },
  {
   "cell_type": "code",
   "execution_count": 165,
   "id": "7c2fcc88-160e-4bad-b379-13ff94aeee93",
   "metadata": {},
   "outputs": [],
   "source": [
    "market_cap_df_graph['Token'] = '0xb7f7f6c52f2e2fdb1963eab30438024864c313f6'"
   ]
  },
  {
   "cell_type": "code",
   "execution_count": 166,
   "id": "80897766-04a8-4eff-8a9e-3a0270c8fb3d",
   "metadata": {},
   "outputs": [
    {
     "data": {
      "text/html": [
       "<div>\n",
       "<style scoped>\n",
       "    .dataframe tbody tr th:only-of-type {\n",
       "        vertical-align: middle;\n",
       "    }\n",
       "\n",
       "    .dataframe tbody tr th {\n",
       "        vertical-align: top;\n",
       "    }\n",
       "\n",
       "    .dataframe thead th {\n",
       "        text-align: right;\n",
       "    }\n",
       "</style>\n",
       "<table border=\"1\" class=\"dataframe\">\n",
       "  <thead>\n",
       "    <tr style=\"text-align: right;\">\n",
       "      <th></th>\n",
       "      <th>opening_date</th>\n",
       "      <th>volume_quote_day</th>\n",
       "      <th>Token</th>\n",
       "    </tr>\n",
       "  </thead>\n",
       "  <tbody>\n",
       "    <tr>\n",
       "      <th>0</th>\n",
       "      <td>2022-03-30</td>\n",
       "      <td>687428.9000</td>\n",
       "      <td>0xb7f7f6c52f2e2fdb1963eab30438024864c313f6</td>\n",
       "    </tr>\n",
       "    <tr>\n",
       "      <th>1</th>\n",
       "      <td>2022-02-03</td>\n",
       "      <td>664.4058</td>\n",
       "      <td>0xb7f7f6c52f2e2fdb1963eab30438024864c313f6</td>\n",
       "    </tr>\n",
       "    <tr>\n",
       "      <th>2</th>\n",
       "      <td>2022-01-17</td>\n",
       "      <td>327752.7500</td>\n",
       "      <td>0xb7f7f6c52f2e2fdb1963eab30438024864c313f6</td>\n",
       "    </tr>\n",
       "  </tbody>\n",
       "</table>\n",
       "</div>"
      ],
      "text/plain": [
       "  opening_date  volume_quote_day                                       Token\n",
       "0   2022-03-30       687428.9000  0xb7f7f6c52f2e2fdb1963eab30438024864c313f6\n",
       "1   2022-02-03          664.4058  0xb7f7f6c52f2e2fdb1963eab30438024864c313f6\n",
       "2   2022-01-17       327752.7500  0xb7f7f6c52f2e2fdb1963eab30438024864c313f6"
      ]
     },
     "execution_count": 166,
     "metadata": {},
     "output_type": "execute_result"
    }
   ],
   "source": [
    "market_cap_df_graph"
   ]
  },
  {
   "cell_type": "code",
   "execution_count": 167,
   "id": "9fa94fc7-526d-44b3-bd8c-cb2e6ed8d4ca",
   "metadata": {},
   "outputs": [],
   "source": [
    "market_cap_df_graph_2['Token'] = '0xb47e3cd837dDF8e4c57F05d70Ab865de6e193BBB'"
   ]
  },
  {
   "cell_type": "code",
   "execution_count": 168,
   "id": "97d9de32-52bb-48f3-8a76-057ee56b82ac",
   "metadata": {},
   "outputs": [
    {
     "data": {
      "text/html": [
       "<div>\n",
       "<style scoped>\n",
       "    .dataframe tbody tr th:only-of-type {\n",
       "        vertical-align: middle;\n",
       "    }\n",
       "\n",
       "    .dataframe tbody tr th {\n",
       "        vertical-align: top;\n",
       "    }\n",
       "\n",
       "    .dataframe thead th {\n",
       "        text-align: right;\n",
       "    }\n",
       "</style>\n",
       "<table border=\"1\" class=\"dataframe\">\n",
       "  <thead>\n",
       "    <tr style=\"text-align: right;\">\n",
       "      <th></th>\n",
       "      <th>opening_date</th>\n",
       "      <th>volume_quote_day</th>\n",
       "      <th>Token</th>\n",
       "    </tr>\n",
       "  </thead>\n",
       "  <tbody>\n",
       "    <tr>\n",
       "      <th>0</th>\n",
       "      <td>2022-03-05</td>\n",
       "      <td>551644.44</td>\n",
       "      <td>0xb47e3cd837dDF8e4c57F05d70Ab865de6e193BBB</td>\n",
       "    </tr>\n",
       "    <tr>\n",
       "      <th>1</th>\n",
       "      <td>2022-03-04</td>\n",
       "      <td>840630.56</td>\n",
       "      <td>0xb47e3cd837dDF8e4c57F05d70Ab865de6e193BBB</td>\n",
       "    </tr>\n",
       "    <tr>\n",
       "      <th>2</th>\n",
       "      <td>2022-03-03</td>\n",
       "      <td>1278073.00</td>\n",
       "      <td>0xb47e3cd837dDF8e4c57F05d70Ab865de6e193BBB</td>\n",
       "    </tr>\n",
       "    <tr>\n",
       "      <th>3</th>\n",
       "      <td>2022-03-02</td>\n",
       "      <td>2318514.80</td>\n",
       "      <td>0xb47e3cd837dDF8e4c57F05d70Ab865de6e193BBB</td>\n",
       "    </tr>\n",
       "    <tr>\n",
       "      <th>4</th>\n",
       "      <td>2022-03-01</td>\n",
       "      <td>838124.90</td>\n",
       "      <td>0xb47e3cd837dDF8e4c57F05d70Ab865de6e193BBB</td>\n",
       "    </tr>\n",
       "  </tbody>\n",
       "</table>\n",
       "</div>"
      ],
      "text/plain": [
       "  opening_date  volume_quote_day                                       Token\n",
       "0   2022-03-05         551644.44  0xb47e3cd837dDF8e4c57F05d70Ab865de6e193BBB\n",
       "1   2022-03-04         840630.56  0xb47e3cd837dDF8e4c57F05d70Ab865de6e193BBB\n",
       "2   2022-03-03        1278073.00  0xb47e3cd837dDF8e4c57F05d70Ab865de6e193BBB\n",
       "3   2022-03-02        2318514.80  0xb47e3cd837dDF8e4c57F05d70Ab865de6e193BBB\n",
       "4   2022-03-01         838124.90  0xb47e3cd837dDF8e4c57F05d70Ab865de6e193BBB"
      ]
     },
     "execution_count": 168,
     "metadata": {},
     "output_type": "execute_result"
    }
   ],
   "source": [
    "market_cap_df_graph_2.head()"
   ]
  },
  {
   "cell_type": "code",
   "execution_count": 169,
   "id": "5380d5b5-e3b1-4656-b467-1ba8ae8b66ee",
   "metadata": {},
   "outputs": [],
   "source": [
    "#combine dataframes into a single df\n",
    "combined_df = pd.concat([market_cap_df_graph, market_cap_df_graph_2], join=\"outer\", ignore_index=False)\n"
   ]
  },
  {
   "cell_type": "code",
   "execution_count": 170,
   "id": "3d5c51d0-8798-4166-bff3-107322b626a3",
   "metadata": {},
   "outputs": [
    {
     "data": {
      "text/html": [
       "<div>\n",
       "<style scoped>\n",
       "    .dataframe tbody tr th:only-of-type {\n",
       "        vertical-align: middle;\n",
       "    }\n",
       "\n",
       "    .dataframe tbody tr th {\n",
       "        vertical-align: top;\n",
       "    }\n",
       "\n",
       "    .dataframe thead th {\n",
       "        text-align: right;\n",
       "    }\n",
       "</style>\n",
       "<table border=\"1\" class=\"dataframe\">\n",
       "  <thead>\n",
       "    <tr style=\"text-align: right;\">\n",
       "      <th></th>\n",
       "      <th>opening_date</th>\n",
       "      <th>volume_quote_day</th>\n",
       "      <th>Token</th>\n",
       "    </tr>\n",
       "  </thead>\n",
       "  <tbody>\n",
       "    <tr>\n",
       "      <th>0</th>\n",
       "      <td>2022-03-30</td>\n",
       "      <td>687428.9000</td>\n",
       "      <td>0xb7f7f6c52f2e2fdb1963eab30438024864c313f6</td>\n",
       "    </tr>\n",
       "    <tr>\n",
       "      <th>1</th>\n",
       "      <td>2022-02-03</td>\n",
       "      <td>664.4058</td>\n",
       "      <td>0xb7f7f6c52f2e2fdb1963eab30438024864c313f6</td>\n",
       "    </tr>\n",
       "    <tr>\n",
       "      <th>2</th>\n",
       "      <td>2022-01-17</td>\n",
       "      <td>327752.7500</td>\n",
       "      <td>0xb7f7f6c52f2e2fdb1963eab30438024864c313f6</td>\n",
       "    </tr>\n",
       "    <tr>\n",
       "      <th>0</th>\n",
       "      <td>2022-03-05</td>\n",
       "      <td>551644.4400</td>\n",
       "      <td>0xb47e3cd837dDF8e4c57F05d70Ab865de6e193BBB</td>\n",
       "    </tr>\n",
       "    <tr>\n",
       "      <th>1</th>\n",
       "      <td>2022-03-04</td>\n",
       "      <td>840630.5600</td>\n",
       "      <td>0xb47e3cd837dDF8e4c57F05d70Ab865de6e193BBB</td>\n",
       "    </tr>\n",
       "  </tbody>\n",
       "</table>\n",
       "</div>"
      ],
      "text/plain": [
       "  opening_date  volume_quote_day                                       Token\n",
       "0   2022-03-30       687428.9000  0xb7f7f6c52f2e2fdb1963eab30438024864c313f6\n",
       "1   2022-02-03          664.4058  0xb7f7f6c52f2e2fdb1963eab30438024864c313f6\n",
       "2   2022-01-17       327752.7500  0xb7f7f6c52f2e2fdb1963eab30438024864c313f6\n",
       "0   2022-03-05       551644.4400  0xb47e3cd837dDF8e4c57F05d70Ab865de6e193BBB\n",
       "1   2022-03-04       840630.5600  0xb47e3cd837dDF8e4c57F05d70Ab865de6e193BBB"
      ]
     },
     "execution_count": 170,
     "metadata": {},
     "output_type": "execute_result"
    }
   ],
   "source": [
    "#validate data\n",
    "combined_df.head()"
   ]
  },
  {
   "cell_type": "markdown",
   "id": "066fe771-d112-48a4-b8b7-ebfc2e4ae099",
   "metadata": {},
   "source": [
    "## Combined Token Graph"
   ]
  },
  {
   "cell_type": "code",
   "execution_count": 172,
   "id": "1055286f-b044-49f8-875a-4126bea9fb31",
   "metadata": {},
   "outputs": [
    {
     "data": {},
     "metadata": {},
     "output_type": "display_data"
    },
    {
     "data": {
      "application/vnd.holoviews_exec.v0+json": "",
      "text/html": [
       "<div id='4306'>\n",
       "\n",
       "\n",
       "\n",
       "\n",
       "\n",
       "  <div class=\"bk-root\" id=\"b554962f-f7f8-4c82-ba08-196e9bb1285c\" data-root-id=\"4306\"></div>\n",
       "</div>\n",
       "<script type=\"application/javascript\">(function(root) {\n",
       "  function embed_document(root) {\n",
       "    var docs_json = {\"f9e070cb-b4bf-48e9-a587-d69d843acf6b\":{\"defs\":[{\"extends\":null,\"module\":null,\"name\":\"ReactiveHTML1\",\"overrides\":[],\"properties\":[]},{\"extends\":null,\"module\":null,\"name\":\"FlexBox1\",\"overrides\":[],\"properties\":[{\"default\":\"flex-start\",\"kind\":null,\"name\":\"align_content\"},{\"default\":\"flex-start\",\"kind\":null,\"name\":\"align_items\"},{\"default\":\"row\",\"kind\":null,\"name\":\"flex_direction\"},{\"default\":\"wrap\",\"kind\":null,\"name\":\"flex_wrap\"},{\"default\":\"flex-start\",\"kind\":null,\"name\":\"justify_content\"}]},{\"extends\":null,\"module\":null,\"name\":\"TemplateActions1\",\"overrides\":[],\"properties\":[{\"default\":0,\"kind\":null,\"name\":\"open_modal\"},{\"default\":0,\"kind\":null,\"name\":\"close_modal\"}]},{\"extends\":null,\"module\":null,\"name\":\"MaterialTemplateActions1\",\"overrides\":[],\"properties\":[{\"default\":0,\"kind\":null,\"name\":\"open_modal\"},{\"default\":0,\"kind\":null,\"name\":\"close_modal\"}]}],\"roots\":{\"references\":[{\"attributes\":{\"data\":{\"Token\":[\"0xb47e3cd837dDF8e4c57F05d70Ab865de6e193BBB\",\"0xb47e3cd837dDF8e4c57F05d70Ab865de6e193BBB\",\"0xb47e3cd837dDF8e4c57F05d70Ab865de6e193BBB\",\"0xb47e3cd837dDF8e4c57F05d70Ab865de6e193BBB\",\"0xb47e3cd837dDF8e4c57F05d70Ab865de6e193BBB\",\"0xb47e3cd837dDF8e4c57F05d70Ab865de6e193BBB\",\"0xb47e3cd837dDF8e4c57F05d70Ab865de6e193BBB\",\"0xb47e3cd837dDF8e4c57F05d70Ab865de6e193BBB\",\"0xb47e3cd837dDF8e4c57F05d70Ab865de6e193BBB\",\"0xb47e3cd837dDF8e4c57F05d70Ab865de6e193BBB\",\"0xb47e3cd837dDF8e4c57F05d70Ab865de6e193BBB\",\"0xb47e3cd837dDF8e4c57F05d70Ab865de6e193BBB\",\"0xb47e3cd837dDF8e4c57F05d70Ab865de6e193BBB\",\"0xb47e3cd837dDF8e4c57F05d70Ab865de6e193BBB\",\"0xb47e3cd837dDF8e4c57F05d70Ab865de6e193BBB\",\"0xb47e3cd837dDF8e4c57F05d70Ab865de6e193BBB\",\"0xb47e3cd837dDF8e4c57F05d70Ab865de6e193BBB\",\"0xb47e3cd837dDF8e4c57F05d70Ab865de6e193BBB\",\"0xb47e3cd837dDF8e4c57F05d70Ab865de6e193BBB\",\"0xb47e3cd837dDF8e4c57F05d70Ab865de6e193BBB\",\"0xb47e3cd837dDF8e4c57F05d70Ab865de6e193BBB\",\"0xb47e3cd837dDF8e4c57F05d70Ab865de6e193BBB\",\"0xb47e3cd837dDF8e4c57F05d70Ab865de6e193BBB\",\"0xb47e3cd837dDF8e4c57F05d70Ab865de6e193BBB\",\"0xb47e3cd837dDF8e4c57F05d70Ab865de6e193BBB\",\"0xb47e3cd837dDF8e4c57F05d70Ab865de6e193BBB\",\"0xb47e3cd837dDF8e4c57F05d70Ab865de6e193BBB\",\"0xb47e3cd837dDF8e4c57F05d70Ab865de6e193BBB\",\"0xb47e3cd837dDF8e4c57F05d70Ab865de6e193BBB\",\"0xb47e3cd837dDF8e4c57F05d70Ab865de6e193BBB\",\"0xb47e3cd837dDF8e4c57F05d70Ab865de6e193BBB\",\"0xb47e3cd837dDF8e4c57F05d70Ab865de6e193BBB\",\"0xb47e3cd837dDF8e4c57F05d70Ab865de6e193BBB\",\"0xb47e3cd837dDF8e4c57F05d70Ab865de6e193BBB\",\"0xb47e3cd837dDF8e4c57F05d70Ab865de6e193BBB\",\"0xb47e3cd837dDF8e4c57F05d70Ab865de6e193BBB\",\"0xb47e3cd837dDF8e4c57F05d70Ab865de6e193BBB\",\"0xb47e3cd837dDF8e4c57F05d70Ab865de6e193BBB\",\"0xb47e3cd837dDF8e4c57F05d70Ab865de6e193BBB\",\"0xb47e3cd837dDF8e4c57F05d70Ab865de6e193BBB\",\"0xb47e3cd837dDF8e4c57F05d70Ab865de6e193BBB\",\"0xb47e3cd837dDF8e4c57F05d70Ab865de6e193BBB\",\"0xb47e3cd837dDF8e4c57F05d70Ab865de6e193BBB\",\"0xb47e3cd837dDF8e4c57F05d70Ab865de6e193BBB\",\"0xb47e3cd837dDF8e4c57F05d70Ab865de6e193BBB\",\"0xb47e3cd837dDF8e4c57F05d70Ab865de6e193BBB\",\"0xb47e3cd837dDF8e4c57F05d70Ab865de6e193BBB\",\"0xb47e3cd837dDF8e4c57F05d70Ab865de6e193BBB\",\"0xb47e3cd837dDF8e4c57F05d70Ab865de6e193BBB\",\"0xb47e3cd837dDF8e4c57F05d70Ab865de6e193BBB\",\"0xb47e3cd837dDF8e4c57F05d70Ab865de6e193BBB\",\"0xb47e3cd837dDF8e4c57F05d70Ab865de6e193BBB\",\"0xb47e3cd837dDF8e4c57F05d70Ab865de6e193BBB\",\"0xb47e3cd837dDF8e4c57F05d70Ab865de6e193BBB\",\"0xb47e3cd837dDF8e4c57F05d70Ab865de6e193BBB\",\"0xb47e3cd837dDF8e4c57F05d70Ab865de6e193BBB\",\"0xb47e3cd837dDF8e4c57F05d70Ab865de6e193BBB\",\"0xb47e3cd837dDF8e4c57F05d70Ab865de6e193BBB\",\"0xb47e3cd837dDF8e4c57F05d70Ab865de6e193BBB\",\"0xb47e3cd837dDF8e4c57F05d70Ab865de6e193BBB\",\"0xb47e3cd837dDF8e4c57F05d70Ab865de6e193BBB\",\"0xb47e3cd837dDF8e4c57F05d70Ab865de6e193BBB\",\"0xb47e3cd837dDF8e4c57F05d70Ab865de6e193BBB\",\"0xb47e3cd837dDF8e4c57F05d70Ab865de6e193BBB\"],\"opening_date\":[\"2022-03-05\",\"2022-03-04\",\"2022-03-03\",\"2022-03-02\",\"2022-03-01\",\"2022-02-28\",\"2022-02-27\",\"2022-02-26\",\"2022-02-25\",\"2022-02-24\",\"2022-02-23\",\"2022-02-22\",\"2022-02-21\",\"2022-02-20\",\"2022-02-19\",\"2022-02-18\",\"2022-02-17\",\"2022-02-16\",\"2022-02-15\",\"2022-02-14\",\"2022-02-13\",\"2022-02-12\",\"2022-02-11\",\"2022-02-10\",\"2022-02-09\",\"2022-02-08\",\"2022-02-07\",\"2022-02-06\",\"2022-02-05\",\"2022-02-04\",\"2022-02-03\",\"2022-02-02\",\"2022-02-01\",\"2022-01-31\",\"2022-01-30\",\"2022-01-29\",\"2022-01-28\",\"2022-01-27\",\"2022-01-26\",\"2022-01-25\",\"2022-01-24\",\"2022-01-23\",\"2022-01-22\",\"2022-01-21\",\"2022-01-20\",\"2022-01-19\",\"2022-01-18\",\"2022-01-17\",\"2022-01-16\",\"2022-01-15\",\"2022-01-14\",\"2022-01-13\",\"2022-01-12\",\"2022-01-11\",\"2022-01-10\",\"2022-01-09\",\"2022-01-08\",\"2022-01-07\",\"2022-01-06\",\"2022-01-05\",\"2022-01-04\",\"2022-01-03\",\"2022-01-02\",\"2022-01-01\"],\"volume_quote_day\":{\"__ndarray__\":\"FK5H4bjVIEHsUbgebacpQQAAAAB5gDNBZmZmZlmwQUHNzMzM2ZMpQZqZmZn9xzdBmpmZGcDvREHNzMzMuko5QZqZmRnyDDVBmpmZmc3RN0FmZmZmj7oqQZqZmZlmoSZB7FG4HjiVLEGamZmZ/10xQZqZmZmqxyhBAAAAgH6CKEEpXI/CMYAdQaRwPQoTmg1BAAAAgC4rIUFmZmZmk7gwQQAAAMB3oVJBAAAAQBvieEHNzMzMSyo3QexRuB7bIy1BAAAAII58ZEEAAACAWI8+QQAAAMAqe0hBZmZm5rDCOUFmZmZmYp0/Qc3MzMyVNDNBAAAAACbWNkFmZmZmC+pPQWZmZubj+EhBAAAAwDNcVkEAAAAAJB9VQWZmZmZzjUhBAAAAIJWcYkGamZmZfQFCQQAAAEAP1WBBAAAAAGl3c0GamZkZNyZCQQAAAMBXSlNBZmZm5oJeS0FmZmZmTk9CQQAAAIAoZlBBAAAAgBJwQUFmZmZmGuU1QTMzMzPbgyRBMzMzM5a+JEFmZmZmfqU3QQAAAIA3EDBBXI/C9cA5DEHNzMzMnrU3QQAAAIA2HDVBzczMzABQP0FmZmZmYLIOQc3MzMwSZzhBMzMzMw+ZO0EAAABAZ7VOQTMzMzMwWzJBAAAAAMS3J0FmZmZmg+NAQZqZmRkT4UVBAAAAYBcZUUE=\",\"dtype\":\"float64\",\"order\":\"little\",\"shape\":[64]}},\"selected\":{\"id\":\"4350\"},\"selection_policy\":{\"id\":\"4363\"}},\"id\":\"4349\",\"type\":\"ColumnDataSource\"},{\"attributes\":{\"factors\":[\"2022-03-05\",\"2022-03-04\",\"2022-03-03\",\"2022-03-02\",\"2022-03-01\",\"2022-02-28\",\"2022-02-27\",\"2022-02-26\",\"2022-02-25\",\"2022-02-24\",\"2022-02-23\",\"2022-02-22\",\"2022-02-21\",\"2022-02-20\",\"2022-02-19\",\"2022-02-18\",\"2022-02-17\",\"2022-02-16\",\"2022-02-15\",\"2022-02-14\",\"2022-02-13\",\"2022-02-12\",\"2022-02-11\",\"2022-02-10\",\"2022-02-09\",\"2022-02-08\",\"2022-02-07\",\"2022-02-06\",\"2022-02-05\",\"2022-02-04\",\"2022-02-03\",\"2022-02-02\",\"2022-02-01\",\"2022-01-31\",\"2022-01-30\",\"2022-01-29\",\"2022-01-28\",\"2022-01-27\",\"2022-01-26\",\"2022-01-25\",\"2022-01-24\",\"2022-01-23\",\"2022-01-22\",\"2022-01-21\",\"2022-01-20\",\"2022-01-19\",\"2022-01-18\",\"2022-01-17\",\"2022-01-16\",\"2022-01-15\",\"2022-01-14\",\"2022-01-13\",\"2022-01-12\",\"2022-01-11\",\"2022-01-10\",\"2022-01-09\",\"2022-01-08\",\"2022-01-07\",\"2022-01-06\",\"2022-01-05\",\"2022-01-04\",\"2022-01-03\",\"2022-01-02\",\"2022-01-01\",\"2022-03-30\"],\"tags\":[[[\"opening_date\",\"opening_date\",null]]]},\"id\":\"4308\",\"type\":\"FactorRange\"},{\"attributes\":{\"tools\":[{\"id\":\"4310\"},{\"id\":\"4328\"},{\"id\":\"4329\"},{\"id\":\"4330\"},{\"id\":\"4331\"},{\"id\":\"4332\"}]},\"id\":\"4334\",\"type\":\"Toolbar\"},{\"attributes\":{\"fill_alpha\":{\"value\":0.1},\"fill_color\":{\"value\":\"#30a2da\"},\"hatch_alpha\":{\"value\":0.1},\"hatch_color\":{\"value\":\"#30a2da\"},\"line_alpha\":{\"value\":0.1},\"line_color\":{\"value\":\"#30a2da\"},\"size\":{\"value\":5.477225575051661},\"x\":{\"field\":\"opening_date\"},\"y\":{\"field\":\"volume_quote_day\"}},\"id\":\"4353\",\"type\":\"Scatter\"},{\"attributes\":{\"below\":[{\"id\":\"4321\"}],\"center\":[{\"id\":\"4323\"},{\"id\":\"4327\"}],\"left\":[{\"id\":\"4324\"}],\"margin\":[5,5,5,5],\"min_border_bottom\":10,\"min_border_left\":10,\"min_border_right\":10,\"min_border_top\":10,\"renderers\":[{\"id\":\"4355\"},{\"id\":\"4375\"}],\"right\":[{\"id\":\"4366\"}],\"sizing_mode\":\"fixed\",\"title\":{\"id\":\"4313\"},\"toolbar\":{\"id\":\"4334\"},\"width\":1000,\"x_range\":{\"id\":\"4308\"},\"x_scale\":{\"id\":\"4317\"},\"y_range\":{\"id\":\"4309\"},\"y_scale\":{\"id\":\"4319\"}},\"id\":\"4312\",\"subtype\":\"Figure\",\"type\":\"Plot\"},{\"attributes\":{\"source\":{\"id\":\"4369\"}},\"id\":\"4376\",\"type\":\"CDSView\"},{\"attributes\":{\"bottom_units\":\"screen\",\"coordinates\":null,\"fill_alpha\":0.5,\"fill_color\":\"lightgrey\",\"group\":null,\"left_units\":\"screen\",\"level\":\"overlay\",\"line_alpha\":1.0,\"line_color\":\"black\",\"line_dash\":[4,4],\"line_width\":2,\"right_units\":\"screen\",\"syncable\":false,\"top_units\":\"screen\"},\"id\":\"4333\",\"type\":\"BoxAnnotation\"},{\"attributes\":{},\"id\":\"4328\",\"type\":\"SaveTool\"},{\"attributes\":{},\"id\":\"4329\",\"type\":\"PanTool\"},{\"attributes\":{},\"id\":\"4305\",\"type\":\"NumeralTickFormatter\"},{\"attributes\":{\"label\":{\"value\":\"0xb7f7f6c52f2e2fdb1963eab30438024864c313f6\"},\"renderers\":[{\"id\":\"4375\"}]},\"id\":\"4388\",\"type\":\"LegendItem\"},{\"attributes\":{\"children\":[{\"id\":\"4307\"},{\"id\":\"4312\"},{\"id\":\"4489\"}],\"margin\":[0,0,0,0],\"name\":\"Row07753\",\"tags\":[\"embedded\"]},\"id\":\"4306\",\"type\":\"Row\"},{\"attributes\":{\"axis_label\":\"Date\",\"coordinates\":null,\"formatter\":{\"id\":\"4342\"},\"group\":null,\"major_label_orientation\":1.5707963267948966,\"major_label_policy\":{\"id\":\"4343\"},\"ticker\":{\"id\":\"4322\"}},\"id\":\"4321\",\"type\":\"CategoricalAxis\"},{\"attributes\":{\"source\":{\"id\":\"4349\"}},\"id\":\"4356\",\"type\":\"CDSView\"},{\"attributes\":{\"fill_alpha\":{\"value\":0.2},\"fill_color\":{\"value\":\"#fc4f30\"},\"hatch_alpha\":{\"value\":0.2},\"hatch_color\":{\"value\":\"#fc4f30\"},\"line_alpha\":{\"value\":0.2},\"line_color\":{\"value\":\"#fc4f30\"},\"size\":{\"value\":5.477225575051661},\"x\":{\"field\":\"opening_date\"},\"y\":{\"field\":\"volume_quote_day\"}},\"id\":\"4374\",\"type\":\"Scatter\"},{\"attributes\":{},\"id\":\"4330\",\"type\":\"WheelZoomTool\"},{\"attributes\":{},\"id\":\"4332\",\"type\":\"ResetTool\"},{\"attributes\":{},\"id\":\"4370\",\"type\":\"Selection\"},{\"attributes\":{\"end\":28701085.15942,\"reset_end\":28701085.15942,\"reset_start\":-2608464.7536200006,\"start\":-2608464.7536200006,\"tags\":[[[\"volume_quote_day\",\"volume_quote_day\",null]]]},\"id\":\"4309\",\"type\":\"Range1d\"},{\"attributes\":{\"overlay\":{\"id\":\"4333\"}},\"id\":\"4331\",\"type\":\"BoxZoomTool\"},{\"attributes\":{},\"id\":\"4363\",\"type\":\"UnionRenderers\"},{\"attributes\":{},\"id\":\"4385\",\"type\":\"UnionRenderers\"},{\"attributes\":{\"angle\":{\"value\":0.0},\"fill_alpha\":{\"value\":1.0},\"fill_color\":{\"value\":\"#30a2da\"},\"hatch_alpha\":{\"value\":1.0},\"hatch_color\":{\"value\":\"#30a2da\"},\"hatch_scale\":{\"value\":12.0},\"hatch_weight\":{\"value\":1.0},\"line_alpha\":{\"value\":1.0},\"line_cap\":{\"value\":\"butt\"},\"line_color\":{\"value\":\"#30a2da\"},\"line_dash\":{\"value\":[]},\"line_dash_offset\":{\"value\":0},\"line_join\":{\"value\":\"bevel\"},\"line_width\":{\"value\":1},\"marker\":{\"value\":\"circle\"},\"size\":{\"value\":5.477225575051661},\"x\":{\"field\":\"opening_date\"},\"y\":{\"field\":\"volume_quote_day\"}},\"id\":\"4368\",\"type\":\"Scatter\"},{\"attributes\":{},\"id\":\"4317\",\"type\":\"CategoricalScale\"},{\"attributes\":{\"coordinates\":null,\"group\":null,\"text\":\"Combined Analysis\",\"text_color\":\"black\",\"text_font_size\":\"12pt\"},\"id\":\"4313\",\"type\":\"Title\"},{\"attributes\":{\"axis\":{\"id\":\"4321\"},\"coordinates\":null,\"grid_line_color\":null,\"group\":null,\"ticker\":null},\"id\":\"4323\",\"type\":\"Grid\"},{\"attributes\":{\"margin\":[5,5,5,5],\"name\":\"HSpacer07757\",\"sizing_mode\":\"stretch_width\"},\"id\":\"4307\",\"type\":\"Spacer\"},{\"attributes\":{\"coordinates\":null,\"data_source\":{\"id\":\"4349\"},\"glyph\":{\"id\":\"4352\"},\"group\":null,\"hover_glyph\":null,\"muted_glyph\":{\"id\":\"4354\"},\"nonselection_glyph\":{\"id\":\"4353\"},\"selection_glyph\":{\"id\":\"4368\"},\"view\":{\"id\":\"4356\"}},\"id\":\"4355\",\"type\":\"GlyphRenderer\"},{\"attributes\":{\"callback\":null,\"renderers\":[{\"id\":\"4355\"},{\"id\":\"4375\"}],\"tags\":[\"hv_created\"],\"tooltips\":[[\"Token\",\"@{Token}\"],[\"opening_date\",\"@{opening_date}\"],[\"volume_quote_day\",\"@{volume_quote_day}\"]]},\"id\":\"4310\",\"type\":\"HoverTool\"},{\"attributes\":{},\"id\":\"4319\",\"type\":\"LinearScale\"},{\"attributes\":{\"fill_alpha\":{\"value\":0.2},\"fill_color\":{\"value\":\"#30a2da\"},\"hatch_alpha\":{\"value\":0.2},\"hatch_color\":{\"value\":\"#30a2da\"},\"line_alpha\":{\"value\":0.2},\"line_color\":{\"value\":\"#30a2da\"},\"size\":{\"value\":5.477225575051661},\"x\":{\"field\":\"opening_date\"},\"y\":{\"field\":\"volume_quote_day\"}},\"id\":\"4354\",\"type\":\"Scatter\"},{\"attributes\":{\"label\":{\"value\":\"0xb47e3cd837dDF8e4c57F05d70Ab865de6e193BBB\"},\"renderers\":[{\"id\":\"4355\"}]},\"id\":\"4367\",\"type\":\"LegendItem\"},{\"attributes\":{\"data\":{\"Token\":[\"0xb7f7f6c52f2e2fdb1963eab30438024864c313f6\",\"0xb7f7f6c52f2e2fdb1963eab30438024864c313f6\",\"0xb7f7f6c52f2e2fdb1963eab30438024864c313f6\"],\"opening_date\":[\"2022-03-30\",\"2022-02-03\",\"2022-01-17\"],\"volume_quote_day\":{\"__ndarray__\":\"zczMzIn6JEG8BRIUP8OEQAAAAAAjARRB\",\"dtype\":\"float64\",\"order\":\"little\",\"shape\":[3]}},\"selected\":{\"id\":\"4370\"},\"selection_policy\":{\"id\":\"4385\"}},\"id\":\"4369\",\"type\":\"ColumnDataSource\"},{\"attributes\":{},\"id\":\"4325\",\"type\":\"BasicTicker\"},{\"attributes\":{\"click_policy\":\"mute\",\"coordinates\":null,\"group\":null,\"items\":[{\"id\":\"4367\"},{\"id\":\"4388\"}],\"location\":[0,0],\"title\":\"Token\"},\"id\":\"4366\",\"type\":\"Legend\"},{\"attributes\":{},\"id\":\"4322\",\"type\":\"CategoricalTicker\"},{\"attributes\":{\"fill_color\":{\"value\":\"#30a2da\"},\"hatch_color\":{\"value\":\"#30a2da\"},\"line_color\":{\"value\":\"#30a2da\"},\"size\":{\"value\":5.477225575051661},\"x\":{\"field\":\"opening_date\"},\"y\":{\"field\":\"volume_quote_day\"}},\"id\":\"4352\",\"type\":\"Scatter\"},{\"attributes\":{\"angle\":{\"value\":0.0},\"fill_alpha\":{\"value\":1.0},\"fill_color\":{\"value\":\"#fc4f30\"},\"hatch_alpha\":{\"value\":1.0},\"hatch_color\":{\"value\":\"#fc4f30\"},\"hatch_scale\":{\"value\":12.0},\"hatch_weight\":{\"value\":1.0},\"line_alpha\":{\"value\":1.0},\"line_cap\":{\"value\":\"butt\"},\"line_color\":{\"value\":\"#fc4f30\"},\"line_dash\":{\"value\":[]},\"line_dash_offset\":{\"value\":0},\"line_join\":{\"value\":\"bevel\"},\"line_width\":{\"value\":1},\"marker\":{\"value\":\"circle\"},\"size\":{\"value\":5.477225575051661},\"x\":{\"field\":\"opening_date\"},\"y\":{\"field\":\"volume_quote_day\"}},\"id\":\"4389\",\"type\":\"Scatter\"},{\"attributes\":{},\"id\":\"4350\",\"type\":\"Selection\"},{\"attributes\":{\"axis_label\":\"Volume\",\"coordinates\":null,\"formatter\":{\"id\":\"4305\"},\"group\":null,\"major_label_policy\":{\"id\":\"4346\"},\"ticker\":{\"id\":\"4325\"}},\"id\":\"4324\",\"type\":\"LinearAxis\"},{\"attributes\":{},\"id\":\"4346\",\"type\":\"AllLabels\"},{\"attributes\":{},\"id\":\"4343\",\"type\":\"AllLabels\"},{\"attributes\":{},\"id\":\"4342\",\"type\":\"CategoricalTickFormatter\"},{\"attributes\":{\"coordinates\":null,\"data_source\":{\"id\":\"4369\"},\"glyph\":{\"id\":\"4372\"},\"group\":null,\"hover_glyph\":null,\"muted_glyph\":{\"id\":\"4374\"},\"nonselection_glyph\":{\"id\":\"4373\"},\"selection_glyph\":{\"id\":\"4389\"},\"view\":{\"id\":\"4376\"}},\"id\":\"4375\",\"type\":\"GlyphRenderer\"},{\"attributes\":{\"axis\":{\"id\":\"4324\"},\"coordinates\":null,\"dimension\":1,\"grid_line_color\":null,\"group\":null,\"ticker\":null},\"id\":\"4327\",\"type\":\"Grid\"},{\"attributes\":{\"fill_color\":{\"value\":\"#fc4f30\"},\"hatch_color\":{\"value\":\"#fc4f30\"},\"line_color\":{\"value\":\"#fc4f30\"},\"size\":{\"value\":5.477225575051661},\"x\":{\"field\":\"opening_date\"},\"y\":{\"field\":\"volume_quote_day\"}},\"id\":\"4372\",\"type\":\"Scatter\"},{\"attributes\":{\"fill_alpha\":{\"value\":0.1},\"fill_color\":{\"value\":\"#fc4f30\"},\"hatch_alpha\":{\"value\":0.1},\"hatch_color\":{\"value\":\"#fc4f30\"},\"line_alpha\":{\"value\":0.1},\"line_color\":{\"value\":\"#fc4f30\"},\"size\":{\"value\":5.477225575051661},\"x\":{\"field\":\"opening_date\"},\"y\":{\"field\":\"volume_quote_day\"}},\"id\":\"4373\",\"type\":\"Scatter\"},{\"attributes\":{\"margin\":[5,5,5,5],\"name\":\"HSpacer07758\",\"sizing_mode\":\"stretch_width\"},\"id\":\"4489\",\"type\":\"Spacer\"}],\"root_ids\":[\"4306\"]},\"title\":\"Bokeh Application\",\"version\":\"2.4.1\"}};\n",
       "    var render_items = [{\"docid\":\"f9e070cb-b4bf-48e9-a587-d69d843acf6b\",\"root_ids\":[\"4306\"],\"roots\":{\"4306\":\"b554962f-f7f8-4c82-ba08-196e9bb1285c\"}}];\n",
       "    root.Bokeh.embed.embed_items_notebook(docs_json, render_items);\n",
       "  }\n",
       "  if (root.Bokeh !== undefined && root.Bokeh.Panel !== undefined) {\n",
       "    embed_document(root);\n",
       "  } else {\n",
       "    var attempts = 0;\n",
       "    var timer = setInterval(function(root) {\n",
       "      if (root.Bokeh !== undefined && root.Bokeh.Panel !== undefined) {\n",
       "        clearInterval(timer);\n",
       "        embed_document(root);\n",
       "      } else if (document.readyState == \"complete\") {\n",
       "        attempts++;\n",
       "        if (attempts > 200) {\n",
       "          clearInterval(timer);\n",
       "          console.log(\"Bokeh: ERROR: Unable to run BokehJS code because BokehJS library is missing\");\n",
       "        }\n",
       "      }\n",
       "    }, 25, root)\n",
       "  }\n",
       "})(window);</script>"
      ],
      "text/plain": [
       ":NdOverlay   [Token]\n",
       "   :Scatter   [opening_date]   (volume_quote_day)"
      ]
     },
     "execution_count": 172,
     "metadata": {
      "application/vnd.holoviews_exec.v0+json": {
       "id": "4306"
      }
     },
     "output_type": "execute_result"
    }
   ],
   "source": [
    "#Combined Token graph\n",
    "\n",
    "from bokeh.models.formatters import NumeralTickFormatter\n",
    "formatter = NumeralTickFormatter(format=\"0,0\")\n",
    "combined_df.hvplot.scatter(\n",
    "    x='opening_date', \n",
    "    y='volume_quote_day',\n",
    "    xlabel='Date',\n",
    "    ylabel='Volume',\n",
    "    rot=90,\n",
    "    label='Combined Analysis',\n",
    "    by='Token',\n",
    "    attr_labels=False,\n",
    "    height= 600,\n",
    "    width = 1000\n",
    ").opts(\n",
    "  yformatter=formatter\n",
    ") \n"
   ]
  },
  {
   "cell_type": "markdown",
   "id": "ee711921-70d7-466f-afae-f603837a920b",
   "metadata": {},
   "source": [
    "# Import Historical Data"
   ]
  },
  {
   "cell_type": "markdown",
   "id": "3f0c67d3-05f9-4b84-9ebb-5caea21003b6",
   "metadata": {},
   "source": [
    "<img src=\"Images/cryptopunks_historical_analytics.png\">"
   ]
  },
  {
   "cell_type": "code",
   "execution_count": 173,
   "id": "8c8292aa-23fc-470e-9581-64e6550ca830",
   "metadata": {},
   "outputs": [],
   "source": [
    "#read in all cryptopunkowners\n",
    "cryptopunk_owners_path = Path(\"C:/Users/miscg/zzz/Fintech-Group-Project/Resources/2022-05_all_cryptopunk_owners.csv\")\n",
    "#cryptopunk_owners_path = Path(\"../Resources/2022-05_all_cryptopunk_owners.csv\")"
   ]
  },
  {
   "cell_type": "code",
   "execution_count": 174,
   "id": "0bbc1e4a-5971-4a44-8a91-4de09b627ffb",
   "metadata": {},
   "outputs": [],
   "source": [
    "#read in top20 sales, by ether value\n",
    "top20_sales_path = Path(\"C:/Users/miscg/zzz/Fintech-Group-Project/Resources/top20_sales_by_ether_value.csv\")\n",
    "#top20_sales_path = Path(\"../Resources/top20_sales_by_ether_value.csv\")"
   ]
  },
  {
   "cell_type": "code",
   "execution_count": 175,
   "id": "d1267468-9904-4957-83b5-3b5cd65048c0",
   "metadata": {},
   "outputs": [],
   "source": [
    "#import into dataframes\n",
    "cryptopunk_owners_df = pd.read_csv(cryptopunk_owners_path, index_col=\"#\", parse_dates=True, infer_datetime_format=True)\n",
    "top20_sales_df = pd.read_csv(top20_sales_path, index_col=\"Punk\", parse_dates=True, infer_datetime_format=True)"
   ]
  },
  {
   "cell_type": "code",
   "execution_count": 176,
   "id": "4b3fd127-89b6-4b60-be39-268dbbb7203f",
   "metadata": {},
   "outputs": [
    {
     "data": {
      "text/html": [
       "<div>\n",
       "<style scoped>\n",
       "    .dataframe tbody tr th:only-of-type {\n",
       "        vertical-align: middle;\n",
       "    }\n",
       "\n",
       "    .dataframe tbody tr th {\n",
       "        vertical-align: top;\n",
       "    }\n",
       "\n",
       "    .dataframe thead th {\n",
       "        text-align: right;\n",
       "    }\n",
       "</style>\n",
       "<table border=\"1\" class=\"dataframe\">\n",
       "  <thead>\n",
       "    <tr style=\"text-align: right;\">\n",
       "      <th></th>\n",
       "      <th>Account</th>\n",
       "      <th>OpenSea / ENS</th>\n",
       "      <th>Number Owned</th>\n",
       "      <th>last Active</th>\n",
       "    </tr>\n",
       "    <tr>\n",
       "      <th>#</th>\n",
       "      <th></th>\n",
       "      <th></th>\n",
       "      <th></th>\n",
       "      <th></th>\n",
       "    </tr>\n",
       "  </thead>\n",
       "  <tbody>\n",
       "    <tr>\n",
       "      <th>1</th>\n",
       "      <td>0xb7f7f6c52f2e2</td>\n",
       "      <td>WrappedCryptoPu</td>\n",
       "      <td>428</td>\n",
       "      <td>7 hours ago</td>\n",
       "    </tr>\n",
       "    <tr>\n",
       "      <th>2</th>\n",
       "      <td>0xa858ddc0445d8</td>\n",
       "      <td>NaN</td>\n",
       "      <td>423</td>\n",
       "      <td>1 month ago</td>\n",
       "    </tr>\n",
       "    <tr>\n",
       "      <th>3</th>\n",
       "      <td>0xa25803ab86a32</td>\n",
       "      <td>wilcox.eth</td>\n",
       "      <td>238</td>\n",
       "      <td>28 days ago</td>\n",
       "    </tr>\n",
       "    <tr>\n",
       "      <th>4</th>\n",
       "      <td>0xb88f61e6fbda8</td>\n",
       "      <td>NaN</td>\n",
       "      <td>215</td>\n",
       "      <td>11 months ago</td>\n",
       "    </tr>\n",
       "    <tr>\n",
       "      <th>5</th>\n",
       "      <td>0x577ebc5de943e</td>\n",
       "      <td>NaN</td>\n",
       "      <td>165</td>\n",
       "      <td>5 days ago</td>\n",
       "    </tr>\n",
       "  </tbody>\n",
       "</table>\n",
       "</div>"
      ],
      "text/plain": [
       "           Account    OpenSea / ENS  Number Owned    last Active\n",
       "#                                                               \n",
       "1  0xb7f7f6c52f2e2  WrappedCryptoPu           428    7 hours ago\n",
       "2  0xa858ddc0445d8              NaN           423    1 month ago\n",
       "3  0xa25803ab86a32       wilcox.eth           238    28 days ago\n",
       "4  0xb88f61e6fbda8              NaN           215  11 months ago\n",
       "5  0x577ebc5de943e              NaN           165     5 days ago"
      ]
     },
     "metadata": {},
     "output_type": "display_data"
    },
    {
     "data": {
      "text/html": [
       "<div>\n",
       "<style scoped>\n",
       "    .dataframe tbody tr th:only-of-type {\n",
       "        vertical-align: middle;\n",
       "    }\n",
       "\n",
       "    .dataframe tbody tr th {\n",
       "        vertical-align: top;\n",
       "    }\n",
       "\n",
       "    .dataframe thead th {\n",
       "        text-align: right;\n",
       "    }\n",
       "</style>\n",
       "<table border=\"1\" class=\"dataframe\">\n",
       "  <thead>\n",
       "    <tr style=\"text-align: right;\">\n",
       "      <th></th>\n",
       "      <th>Ether</th>\n",
       "      <th>EtherValueUSD_M</th>\n",
       "      <th>Date</th>\n",
       "    </tr>\n",
       "    <tr>\n",
       "      <th>Punk</th>\n",
       "      <th></th>\n",
       "      <th></th>\n",
       "      <th></th>\n",
       "    </tr>\n",
       "  </thead>\n",
       "  <tbody>\n",
       "    <tr>\n",
       "      <th>5822</th>\n",
       "      <td>8000</td>\n",
       "      <td>23.70</td>\n",
       "      <td>02/12/22</td>\n",
       "    </tr>\n",
       "    <tr>\n",
       "      <th>7804</th>\n",
       "      <td>4200</td>\n",
       "      <td>7.57</td>\n",
       "      <td>03/11/21</td>\n",
       "    </tr>\n",
       "    <tr>\n",
       "      <th>3100</th>\n",
       "      <td>4200</td>\n",
       "      <td>7.58</td>\n",
       "      <td>03/11/22</td>\n",
       "    </tr>\n",
       "    <tr>\n",
       "      <th>5577</th>\n",
       "      <td>2500</td>\n",
       "      <td>7.70</td>\n",
       "      <td>02/09/22</td>\n",
       "    </tr>\n",
       "    <tr>\n",
       "      <th>4156</th>\n",
       "      <td>2500</td>\n",
       "      <td>10.26</td>\n",
       "      <td>12/09/21</td>\n",
       "    </tr>\n",
       "  </tbody>\n",
       "</table>\n",
       "</div>"
      ],
      "text/plain": [
       "      Ether  EtherValueUSD_M      Date\n",
       "Punk                                  \n",
       "5822   8000            23.70  02/12/22\n",
       "7804   4200             7.57  03/11/21\n",
       "3100   4200             7.58  03/11/22\n",
       "5577   2500             7.70  02/09/22\n",
       "4156   2500            10.26  12/09/21"
      ]
     },
     "metadata": {},
     "output_type": "display_data"
    }
   ],
   "source": [
    "#TEMP display tem values for dataframes\n",
    "display(cryptopunk_owners_df.head())\n",
    "display(top20_sales_df.head())"
   ]
  },
  {
   "cell_type": "code",
   "execution_count": 182,
   "id": "0d472238-3ca2-48a5-86f8-442a738935bf",
   "metadata": {},
   "outputs": [
    {
     "data": {},
     "metadata": {},
     "output_type": "display_data"
    },
    {
     "data": {
      "application/vnd.holoviews_exec.v0+json": "",
      "text/html": [
       "<div id='6050'>\n",
       "\n",
       "\n",
       "\n",
       "\n",
       "\n",
       "  <div class=\"bk-root\" id=\"7cbe9749-4afa-4b2b-8ea7-07badab7d091\" data-root-id=\"6050\"></div>\n",
       "</div>\n",
       "<script type=\"application/javascript\">(function(root) {\n",
       "  function embed_document(root) {\n",
       "    var docs_json = {\"89da3633-ef6d-4943-aa77-afd88496d00b\":{\"defs\":[{\"extends\":null,\"module\":null,\"name\":\"ReactiveHTML1\",\"overrides\":[],\"properties\":[]},{\"extends\":null,\"module\":null,\"name\":\"FlexBox1\",\"overrides\":[],\"properties\":[{\"default\":\"flex-start\",\"kind\":null,\"name\":\"align_content\"},{\"default\":\"flex-start\",\"kind\":null,\"name\":\"align_items\"},{\"default\":\"row\",\"kind\":null,\"name\":\"flex_direction\"},{\"default\":\"wrap\",\"kind\":null,\"name\":\"flex_wrap\"},{\"default\":\"flex-start\",\"kind\":null,\"name\":\"justify_content\"}]},{\"extends\":null,\"module\":null,\"name\":\"TemplateActions1\",\"overrides\":[],\"properties\":[{\"default\":0,\"kind\":null,\"name\":\"open_modal\"},{\"default\":0,\"kind\":null,\"name\":\"close_modal\"}]},{\"extends\":null,\"module\":null,\"name\":\"MaterialTemplateActions1\",\"overrides\":[],\"properties\":[{\"default\":0,\"kind\":null,\"name\":\"open_modal\"},{\"default\":0,\"kind\":null,\"name\":\"close_modal\"}]}],\"roots\":{\"references\":[{\"attributes\":{\"fill_color\":{\"value\":\"#8b8b8b\"},\"hatch_color\":{\"value\":\"#8b8b8b\"},\"line_color\":{\"value\":\"#8b8b8b\"},\"size\":{\"value\":5.477225575051661},\"x\":{\"field\":\"EtherValueUSD_M\"},\"y\":{\"field\":\"Ether\"}},\"id\":\"6205\",\"type\":\"Scatter\"},{\"attributes\":{\"label\":{\"value\":\"7756\"},\"renderers\":[{\"id\":\"6626\"}]},\"id\":\"6668\",\"type\":\"LegendItem\"},{\"attributes\":{\"angle\":{\"value\":0.0},\"fill_alpha\":{\"value\":1.0},\"fill_color\":{\"value\":\"#6d904f\"},\"hatch_alpha\":{\"value\":1.0},\"hatch_color\":{\"value\":\"#6d904f\"},\"hatch_scale\":{\"value\":12.0},\"hatch_weight\":{\"value\":1.0},\"line_alpha\":{\"value\":1.0},\"line_cap\":{\"value\":\"butt\"},\"line_color\":{\"value\":\"#6d904f\"},\"line_dash\":{\"value\":[]},\"line_dash_offset\":{\"value\":0},\"line_join\":{\"value\":\"bevel\"},\"line_width\":{\"value\":1},\"marker\":{\"value\":\"circle\"},\"size\":{\"value\":5.477225575051661},\"x\":{\"field\":\"EtherValueUSD_M\"},\"y\":{\"field\":\"Ether\"}},\"id\":\"6201\",\"type\":\"Scatter\"},{\"attributes\":{\"fill_alpha\":{\"value\":0.1},\"fill_color\":{\"value\":\"#1f77b4\"},\"hatch_alpha\":{\"value\":0.1},\"hatch_color\":{\"value\":\"#1f77b4\"},\"line_alpha\":{\"value\":0.1},\"line_color\":{\"value\":\"#1f77b4\"},\"size\":{\"value\":5.477225575051661},\"x\":{\"field\":\"EtherValueUSD_M\"},\"y\":{\"field\":\"Ether\"}},\"id\":\"6330\",\"type\":\"Scatter\"},{\"attributes\":{\"label\":{\"value\":\"4156\"},\"renderers\":[{\"id\":\"6236\"}]},\"id\":\"6258\",\"type\":\"LegendItem\"},{\"attributes\":{},\"id\":\"6105\",\"type\":\"AllLabels\"},{\"attributes\":{\"data\":{\"Ether\":[850],\"EtherValueUSD_M\":{\"__ndarray__\":\"pHA9CtejAEA=\",\"dtype\":\"float64\",\"order\":\"little\",\"shape\":[1]},\"Punk\":[3831]},\"selected\":{\"id\":\"6203\"},\"selection_policy\":{\"id\":\"6225\"}},\"id\":\"6202\",\"type\":\"ColumnDataSource\"},{\"attributes\":{\"source\":{\"id\":\"6722\"}},\"id\":\"6729\",\"type\":\"CDSView\"},{\"attributes\":{},\"id\":\"6124\",\"type\":\"UnionRenderers\"},{\"attributes\":{},\"id\":\"6827\",\"type\":\"UnionRenderers\"},{\"attributes\":{\"coordinates\":null,\"data_source\":{\"id\":\"6202\"},\"glyph\":{\"id\":\"6205\"},\"group\":null,\"hover_glyph\":null,\"muted_glyph\":{\"id\":\"6207\"},\"nonselection_glyph\":{\"id\":\"6206\"},\"selection_glyph\":{\"id\":\"6229\"},\"view\":{\"id\":\"6209\"}},\"id\":\"6208\",\"type\":\"GlyphRenderer\"},{\"attributes\":{\"angle\":{\"value\":0.0},\"fill_alpha\":{\"value\":1.0},\"fill_color\":{\"value\":\"#e5ae38\"},\"hatch_alpha\":{\"value\":1.0},\"hatch_color\":{\"value\":\"#e5ae38\"},\"hatch_scale\":{\"value\":12.0},\"hatch_weight\":{\"value\":1.0},\"line_alpha\":{\"value\":1.0},\"line_cap\":{\"value\":\"butt\"},\"line_color\":{\"value\":\"#e5ae38\"},\"line_dash\":{\"value\":[]},\"line_dash_offset\":{\"value\":0},\"line_join\":{\"value\":\"bevel\"},\"line_width\":{\"value\":1},\"marker\":{\"value\":\"circle\"},\"size\":{\"value\":5.477225575051661},\"x\":{\"field\":\"EtherValueUSD_M\"},\"y\":{\"field\":\"Ether\"}},\"id\":\"6175\",\"type\":\"Scatter\"},{\"attributes\":{\"label\":{\"value\":\"8857\"},\"renderers\":[{\"id\":\"6728\"}]},\"id\":\"6774\",\"type\":\"LegendItem\"},{\"attributes\":{\"coordinates\":null,\"data_source\":{\"id\":\"6440\"},\"glyph\":{\"id\":\"6443\"},\"group\":null,\"hover_glyph\":null,\"muted_glyph\":{\"id\":\"6445\"},\"nonselection_glyph\":{\"id\":\"6444\"},\"selection_glyph\":{\"id\":\"6481\"},\"view\":{\"id\":\"6447\"}},\"id\":\"6446\",\"type\":\"GlyphRenderer\"},{\"attributes\":{\"fill_alpha\":{\"value\":0.2},\"fill_color\":{\"value\":\"#8c564b\"},\"hatch_alpha\":{\"value\":0.2},\"hatch_color\":{\"value\":\"#8c564b\"},\"line_alpha\":{\"value\":0.2},\"line_color\":{\"value\":\"#8c564b\"},\"size\":{\"value\":5.477225575051661},\"x\":{\"field\":\"EtherValueUSD_M\"},\"y\":{\"field\":\"Ether\"}},\"id\":\"6405\",\"type\":\"Scatter\"},{\"attributes\":{\"angle\":{\"value\":0.0},\"fill_alpha\":{\"value\":1.0},\"fill_color\":{\"value\":\"#9467bd\"},\"hatch_alpha\":{\"value\":1.0},\"hatch_color\":{\"value\":\"#9467bd\"},\"hatch_scale\":{\"value\":12.0},\"hatch_weight\":{\"value\":1.0},\"line_alpha\":{\"value\":1.0},\"line_cap\":{\"value\":\"butt\"},\"line_color\":{\"value\":\"#9467bd\"},\"line_dash\":{\"value\":[]},\"line_dash_offset\":{\"value\":0},\"line_join\":{\"value\":\"bevel\"},\"line_width\":{\"value\":1},\"marker\":{\"value\":\"circle\"},\"size\":{\"value\":5.477225575051661},\"x\":{\"field\":\"EtherValueUSD_M\"},\"y\":{\"field\":\"Ether\"}},\"id\":\"6831\",\"type\":\"Scatter\"},{\"attributes\":{\"label\":{\"value\":\"3100\"},\"renderers\":[{\"id\":\"6182\"}]},\"id\":\"6200\",\"type\":\"LegendItem\"},{\"attributes\":{\"source\":{\"id\":\"6109\"}},\"id\":\"6116\",\"type\":\"CDSView\"},{\"attributes\":{\"fill_alpha\":{\"value\":0.2},\"fill_color\":{\"value\":\"#1f77b4\"},\"hatch_alpha\":{\"value\":0.2},\"hatch_color\":{\"value\":\"#1f77b4\"},\"line_alpha\":{\"value\":0.2},\"line_color\":{\"value\":\"#1f77b4\"},\"size\":{\"value\":5.477225575051661},\"x\":{\"field\":\"EtherValueUSD_M\"},\"y\":{\"field\":\"Ether\"}},\"id\":\"6331\",\"type\":\"Scatter\"},{\"attributes\":{\"fill_alpha\":{\"value\":0.1},\"fill_color\":{\"value\":\"#bcbd22\"},\"hatch_alpha\":{\"value\":0.1},\"hatch_color\":{\"value\":\"#bcbd22\"},\"line_alpha\":{\"value\":0.1},\"line_color\":{\"value\":\"#bcbd22\"},\"size\":{\"value\":5.477225575051661},\"x\":{\"field\":\"EtherValueUSD_M\"},\"y\":{\"field\":\"Ether\"}},\"id\":\"6444\",\"type\":\"Scatter\"},{\"attributes\":{\"label\":{\"value\":\"5217\"},\"renderers\":[{\"id\":\"6266\"}]},\"id\":\"6290\",\"type\":\"LegendItem\"},{\"attributes\":{\"coordinates\":null,\"data_source\":{\"id\":\"6176\"},\"glyph\":{\"id\":\"6179\"},\"group\":null,\"hover_glyph\":null,\"muted_glyph\":{\"id\":\"6181\"},\"nonselection_glyph\":{\"id\":\"6180\"},\"selection_glyph\":{\"id\":\"6201\"},\"view\":{\"id\":\"6183\"}},\"id\":\"6182\",\"type\":\"GlyphRenderer\"},{\"attributes\":{\"angle\":{\"value\":0.0},\"fill_alpha\":{\"value\":1.0},\"fill_color\":{\"value\":\"#30a2da\"},\"hatch_alpha\":{\"value\":1.0},\"hatch_color\":{\"value\":\"#30a2da\"},\"hatch_scale\":{\"value\":12.0},\"hatch_weight\":{\"value\":1.0},\"line_alpha\":{\"value\":1.0},\"line_cap\":{\"value\":\"butt\"},\"line_color\":{\"value\":\"#30a2da\"},\"line_dash\":{\"value\":[]},\"line_dash_offset\":{\"value\":0},\"line_join\":{\"value\":\"bevel\"},\"line_width\":{\"value\":1},\"marker\":{\"value\":\"circle\"},\"size\":{\"value\":5.477225575051661},\"x\":{\"field\":\"EtherValueUSD_M\"},\"y\":{\"field\":\"Ether\"}},\"id\":\"6129\",\"type\":\"Scatter\"},{\"attributes\":{\"data\":{\"Ether\":[2500],\"EtherValueUSD_M\":{\"__ndarray__\":\"zczMzMzMHkA=\",\"dtype\":\"float64\",\"order\":\"little\",\"shape\":[1]},\"Punk\":[5577]},\"selected\":{\"id\":\"6293\"},\"selection_policy\":{\"id\":\"6321\"}},\"id\":\"6292\",\"type\":\"ColumnDataSource\"},{\"attributes\":{\"end\":8720.0,\"reset_end\":8720.0,\"reset_start\":80.0,\"start\":80.0,\"tags\":[[[\"Ether\",\"Ether\",null]]]},\"id\":\"6053\",\"type\":\"Range1d\"},{\"attributes\":{\"label\":{\"value\":\"2238\"},\"renderers\":[{\"id\":\"6136\"}]},\"id\":\"6150\",\"type\":\"LegendItem\"},{\"attributes\":{},\"id\":\"6771\",\"type\":\"UnionRenderers\"},{\"attributes\":{},\"id\":\"6197\",\"type\":\"UnionRenderers\"},{\"attributes\":{\"label\":{\"value\":\"5822\"},\"renderers\":[{\"id\":\"6332\"}]},\"id\":\"6360\",\"type\":\"LegendItem\"},{\"attributes\":{\"label\":{\"value\":\"8888\"},\"renderers\":[{\"id\":\"6782\"}]},\"id\":\"6830\",\"type\":\"LegendItem\"},{\"attributes\":{},\"id\":\"6171\",\"type\":\"UnionRenderers\"},{\"attributes\":{},\"id\":\"6203\",\"type\":\"Selection\"},{\"attributes\":{\"source\":{\"id\":\"6572\"}},\"id\":\"6579\",\"type\":\"CDSView\"},{\"attributes\":{\"fill_alpha\":{\"value\":0.1},\"fill_color\":{\"value\":\"#9467bd\"},\"hatch_alpha\":{\"value\":0.1},\"hatch_color\":{\"value\":\"#9467bd\"},\"line_alpha\":{\"value\":0.1},\"line_color\":{\"value\":\"#9467bd\"},\"size\":{\"value\":5.477225575051661},\"x\":{\"field\":\"EtherValueUSD_M\"},\"y\":{\"field\":\"Ether\"}},\"id\":\"6780\",\"type\":\"Scatter\"},{\"attributes\":{\"label\":{\"value\":\"2140\"},\"renderers\":[{\"id\":\"6115\"}]},\"id\":\"6128\",\"type\":\"LegendItem\"},{\"attributes\":{},\"id\":\"6261\",\"type\":\"Selection\"},{\"attributes\":{\"fill_color\":{\"value\":\"#6d904f\"},\"hatch_color\":{\"value\":\"#6d904f\"},\"line_color\":{\"value\":\"#6d904f\"},\"size\":{\"value\":5.477225575051661},\"x\":{\"field\":\"EtherValueUSD_M\"},\"y\":{\"field\":\"Ether\"}},\"id\":\"6179\",\"type\":\"Scatter\"},{\"attributes\":{},\"id\":\"6293\",\"type\":\"Selection\"},{\"attributes\":{},\"id\":\"6401\",\"type\":\"Selection\"},{\"attributes\":{\"angle\":{\"value\":0.0},\"fill_alpha\":{\"value\":1.0},\"fill_color\":{\"value\":\"#1f77b4\"},\"hatch_alpha\":{\"value\":1.0},\"hatch_color\":{\"value\":\"#1f77b4\"},\"hatch_scale\":{\"value\":12.0},\"hatch_weight\":{\"value\":1.0},\"line_alpha\":{\"value\":1.0},\"line_cap\":{\"value\":\"butt\"},\"line_color\":{\"value\":\"#1f77b4\"},\"line_dash\":{\"value\":[]},\"line_dash_offset\":{\"value\":0},\"line_join\":{\"value\":\"bevel\"},\"line_width\":{\"value\":1},\"marker\":{\"value\":\"circle\"},\"size\":{\"value\":5.477225575051661},\"x\":{\"field\":\"EtherValueUSD_M\"},\"y\":{\"field\":\"Ether\"}},\"id\":\"6361\",\"type\":\"Scatter\"},{\"attributes\":{\"angle\":{\"value\":0.0},\"fill_alpha\":{\"value\":1.0},\"fill_color\":{\"value\":\"#17becf\"},\"hatch_alpha\":{\"value\":1.0},\"hatch_color\":{\"value\":\"#17becf\"},\"hatch_scale\":{\"value\":12.0},\"hatch_weight\":{\"value\":1.0},\"line_alpha\":{\"value\":1.0},\"line_cap\":{\"value\":\"butt\"},\"line_color\":{\"value\":\"#17becf\"},\"line_dash\":{\"value\":[]},\"line_dash_offset\":{\"value\":0},\"line_join\":{\"value\":\"bevel\"},\"line_width\":{\"value\":1},\"marker\":{\"value\":\"circle\"},\"size\":{\"value\":5.477225575051661},\"x\":{\"field\":\"EtherValueUSD_M\"},\"y\":{\"field\":\"Ether\"}},\"id\":\"6775\",\"type\":\"Scatter\"},{\"attributes\":{\"label\":{\"value\":\"2681\"},\"renderers\":[{\"id\":\"6158\"}]},\"id\":\"6174\",\"type\":\"LegendItem\"},{\"attributes\":{},\"id\":\"6665\",\"type\":\"UnionRenderers\"},{\"attributes\":{\"source\":{\"id\":\"6202\"}},\"id\":\"6209\",\"type\":\"CDSView\"},{\"attributes\":{\"fill_color\":{\"value\":\"#1f77b4\"},\"hatch_color\":{\"value\":\"#1f77b4\"},\"line_color\":{\"value\":\"#1f77b4\"},\"size\":{\"value\":5.477225575051661},\"x\":{\"field\":\"EtherValueUSD_M\"},\"y\":{\"field\":\"Ether\"}},\"id\":\"6329\",\"type\":\"Scatter\"},{\"attributes\":{\"source\":{\"id\":\"6526\"}},\"id\":\"6533\",\"type\":\"CDSView\"},{\"attributes\":{\"fill_alpha\":{\"value\":0.2},\"fill_color\":{\"value\":\"#9467bd\"},\"hatch_alpha\":{\"value\":0.2},\"hatch_color\":{\"value\":\"#9467bd\"},\"line_alpha\":{\"value\":0.2},\"line_color\":{\"value\":\"#9467bd\"},\"size\":{\"value\":5.477225575051661},\"x\":{\"field\":\"EtherValueUSD_M\"},\"y\":{\"field\":\"Ether\"}},\"id\":\"6781\",\"type\":\"Scatter\"},{\"attributes\":{\"angle\":{\"value\":0.0},\"fill_alpha\":{\"value\":1.0},\"fill_color\":{\"value\":\"#fc4f30\"},\"hatch_alpha\":{\"value\":1.0},\"hatch_color\":{\"value\":\"#fc4f30\"},\"hatch_scale\":{\"value\":12.0},\"hatch_weight\":{\"value\":1.0},\"line_alpha\":{\"value\":1.0},\"line_cap\":{\"value\":\"butt\"},\"line_color\":{\"value\":\"#fc4f30\"},\"line_dash\":{\"value\":[]},\"line_dash_offset\":{\"value\":0},\"line_join\":{\"value\":\"bevel\"},\"line_width\":{\"value\":1},\"marker\":{\"value\":\"circle\"},\"size\":{\"value\":5.477225575051661},\"x\":{\"field\":\"EtherValueUSD_M\"},\"y\":{\"field\":\"Ether\"}},\"id\":\"6571\",\"type\":\"Scatter\"},{\"attributes\":{\"fill_color\":{\"value\":\"#9467bd\"},\"hatch_color\":{\"value\":\"#9467bd\"},\"line_color\":{\"value\":\"#9467bd\"},\"size\":{\"value\":5.477225575051661},\"x\":{\"field\":\"EtherValueUSD_M\"},\"y\":{\"field\":\"Ether\"}},\"id\":\"6779\",\"type\":\"Scatter\"},{\"attributes\":{\"label\":{\"value\":\"7252\"},\"renderers\":[{\"id\":\"6578\"}]},\"id\":\"6618\",\"type\":\"LegendItem\"},{\"attributes\":{},\"id\":\"6153\",\"type\":\"Selection\"},{\"attributes\":{\"fill_color\":{\"value\":\"#fc4f30\"},\"hatch_color\":{\"value\":\"#fc4f30\"},\"line_color\":{\"value\":\"#fc4f30\"},\"size\":{\"value\":5.477225575051661},\"x\":{\"field\":\"EtherValueUSD_M\"},\"y\":{\"field\":\"Ether\"}},\"id\":\"6133\",\"type\":\"Scatter\"},{\"attributes\":{\"fill_alpha\":{\"value\":0.2},\"fill_color\":{\"value\":\"#6d904f\"},\"hatch_alpha\":{\"value\":0.2},\"hatch_color\":{\"value\":\"#6d904f\"},\"line_alpha\":{\"value\":0.2},\"line_color\":{\"value\":\"#6d904f\"},\"size\":{\"value\":5.477225575051661},\"x\":{\"field\":\"EtherValueUSD_M\"},\"y\":{\"field\":\"Ether\"}},\"id\":\"6181\",\"type\":\"Scatter\"},{\"attributes\":{\"coordinates\":null,\"data_source\":{\"id\":\"6722\"},\"glyph\":{\"id\":\"6725\"},\"group\":null,\"hover_glyph\":null,\"muted_glyph\":{\"id\":\"6727\"},\"nonselection_glyph\":{\"id\":\"6726\"},\"selection_glyph\":{\"id\":\"6775\"},\"view\":{\"id\":\"6729\"}},\"id\":\"6728\",\"type\":\"GlyphRenderer\"},{\"attributes\":{\"click_policy\":\"mute\",\"coordinates\":null,\"group\":null,\"items\":[{\"id\":\"6128\"},{\"id\":\"6150\"},{\"id\":\"6174\"},{\"id\":\"6200\"},{\"id\":\"6228\"},{\"id\":\"6258\"},{\"id\":\"6290\"},{\"id\":\"6324\"},{\"id\":\"6360\"},{\"id\":\"6398\"},{\"id\":\"6438\"},{\"id\":\"6480\"},{\"id\":\"6524\"},{\"id\":\"6570\"},{\"id\":\"6618\"},{\"id\":\"6668\"},{\"id\":\"6720\"},{\"id\":\"6774\"},{\"id\":\"6830\"}],\"location\":[0,0],\"title\":\"Punk\"},\"id\":\"6127\",\"type\":\"Legend\"},{\"attributes\":{\"data\":{\"Ether\":[1000],\"EtherValueUSD_M\":{\"__ndarray__\":\"H4XrUbgeD0A=\",\"dtype\":\"float64\",\"order\":\"little\",\"shape\":[1]},\"Punk\":[6275]},\"selected\":{\"id\":\"6363\"},\"selection_policy\":{\"id\":\"6395\"}},\"id\":\"6362\",\"type\":\"ColumnDataSource\"},{\"attributes\":{\"data\":{\"Ether\":[900],\"EtherValueUSD_M\":{\"__ndarray__\":\"j8L1KFyPCEA=\",\"dtype\":\"float64\",\"order\":\"little\",\"shape\":[1]},\"Punk\":[2681]},\"selected\":{\"id\":\"6153\"},\"selection_policy\":{\"id\":\"6171\"}},\"id\":\"6152\",\"type\":\"ColumnDataSource\"},{\"attributes\":{},\"id\":\"6567\",\"type\":\"UnionRenderers\"},{\"attributes\":{\"source\":{\"id\":\"6776\"}},\"id\":\"6783\",\"type\":\"CDSView\"},{\"attributes\":{\"label\":{\"value\":\"7121\"},\"renderers\":[{\"id\":\"6532\"}]},\"id\":\"6570\",\"type\":\"LegendItem\"},{\"attributes\":{\"fill_alpha\":{\"value\":0.1},\"fill_color\":{\"value\":\"#fc4f30\"},\"hatch_alpha\":{\"value\":0.1},\"hatch_color\":{\"value\":\"#fc4f30\"},\"line_alpha\":{\"value\":0.1},\"line_color\":{\"value\":\"#fc4f30\"},\"size\":{\"value\":5.477225575051661},\"x\":{\"field\":\"EtherValueUSD_M\"},\"y\":{\"field\":\"Ether\"}},\"id\":\"6134\",\"type\":\"Scatter\"},{\"attributes\":{\"fill_alpha\":{\"value\":0.1},\"fill_color\":{\"value\":\"#30a2da\"},\"hatch_alpha\":{\"value\":0.1},\"hatch_color\":{\"value\":\"#30a2da\"},\"line_alpha\":{\"value\":0.1},\"line_color\":{\"value\":\"#30a2da\"},\"size\":{\"value\":5.477225575051661},\"x\":{\"field\":\"EtherValueUSD_M\"},\"y\":{\"field\":\"Ether\"}},\"id\":\"6113\",\"type\":\"Scatter\"},{\"attributes\":{\"source\":{\"id\":\"6440\"}},\"id\":\"6447\",\"type\":\"CDSView\"},{\"attributes\":{},\"id\":\"6615\",\"type\":\"UnionRenderers\"},{\"attributes\":{\"data\":{\"Ether\":[2500],\"EtherValueUSD_M\":{\"__ndarray__\":\"hetRuB6FJEA=\",\"dtype\":\"float64\",\"order\":\"little\",\"shape\":[1]},\"Punk\":[4156]},\"selected\":{\"id\":\"6231\"},\"selection_policy\":{\"id\":\"6255\"}},\"id\":\"6230\",\"type\":\"ColumnDataSource\"},{\"attributes\":{\"label\":{\"value\":\"6276\"},\"renderers\":[{\"id\":\"6406\"}]},\"id\":\"6438\",\"type\":\"LegendItem\"},{\"attributes\":{\"coordinates\":null,\"data_source\":{\"id\":\"6400\"},\"glyph\":{\"id\":\"6403\"},\"group\":null,\"hover_glyph\":null,\"muted_glyph\":{\"id\":\"6405\"},\"nonselection_glyph\":{\"id\":\"6404\"},\"selection_glyph\":{\"id\":\"6439\"},\"view\":{\"id\":\"6407\"}},\"id\":\"6406\",\"type\":\"GlyphRenderer\"},{\"attributes\":{\"fill_alpha\":{\"value\":0.2},\"fill_color\":{\"value\":\"#8b8b8b\"},\"hatch_alpha\":{\"value\":0.2},\"hatch_color\":{\"value\":\"#8b8b8b\"},\"line_alpha\":{\"value\":0.2},\"line_color\":{\"value\":\"#8b8b8b\"},\"size\":{\"value\":5.477225575051661},\"x\":{\"field\":\"EtherValueUSD_M\"},\"y\":{\"field\":\"Ether\"}},\"id\":\"6207\",\"type\":\"Scatter\"},{\"attributes\":{\"coordinates\":null,\"data_source\":{\"id\":\"6572\"},\"glyph\":{\"id\":\"6575\"},\"group\":null,\"hover_glyph\":null,\"muted_glyph\":{\"id\":\"6577\"},\"nonselection_glyph\":{\"id\":\"6576\"},\"selection_glyph\":{\"id\":\"6619\"},\"view\":{\"id\":\"6579\"}},\"id\":\"6578\",\"type\":\"GlyphRenderer\"},{\"attributes\":{\"source\":{\"id\":\"6400\"}},\"id\":\"6407\",\"type\":\"CDSView\"},{\"attributes\":{\"fill_alpha\":{\"value\":0.1},\"fill_color\":{\"value\":\"#6d904f\"},\"hatch_alpha\":{\"value\":0.1},\"hatch_color\":{\"value\":\"#6d904f\"},\"line_alpha\":{\"value\":0.1},\"line_color\":{\"value\":\"#6d904f\"},\"size\":{\"value\":5.477225575051661},\"x\":{\"field\":\"EtherValueUSD_M\"},\"y\":{\"field\":\"Ether\"}},\"id\":\"6624\",\"type\":\"Scatter\"},{\"attributes\":{},\"id\":\"6477\",\"type\":\"UnionRenderers\"},{\"attributes\":{\"source\":{\"id\":\"6176\"}},\"id\":\"6183\",\"type\":\"CDSView\"},{\"attributes\":{\"fill_color\":{\"value\":\"#6d904f\"},\"hatch_color\":{\"value\":\"#6d904f\"},\"line_color\":{\"value\":\"#6d904f\"},\"size\":{\"value\":5.477225575051661},\"x\":{\"field\":\"EtherValueUSD_M\"},\"y\":{\"field\":\"Ether\"}},\"id\":\"6623\",\"type\":\"Scatter\"},{\"attributes\":{\"angle\":{\"value\":0.0},\"fill_alpha\":{\"value\":1.0},\"fill_color\":{\"value\":\"#e5ae38\"},\"hatch_alpha\":{\"value\":1.0},\"hatch_color\":{\"value\":\"#e5ae38\"},\"hatch_scale\":{\"value\":12.0},\"hatch_weight\":{\"value\":1.0},\"line_alpha\":{\"value\":1.0},\"line_cap\":{\"value\":\"butt\"},\"line_color\":{\"value\":\"#e5ae38\"},\"line_dash\":{\"value\":[]},\"line_dash_offset\":{\"value\":0},\"line_join\":{\"value\":\"bevel\"},\"line_width\":{\"value\":1},\"marker\":{\"value\":\"circle\"},\"size\":{\"value\":5.477225575051661},\"x\":{\"field\":\"EtherValueUSD_M\"},\"y\":{\"field\":\"Ether\"}},\"id\":\"6619\",\"type\":\"Scatter\"},{\"attributes\":{},\"id\":\"6110\",\"type\":\"Selection\"},{\"attributes\":{},\"id\":\"6777\",\"type\":\"Selection\"},{\"attributes\":{\"fill_alpha\":{\"value\":0.1},\"fill_color\":{\"value\":\"#6d904f\"},\"hatch_alpha\":{\"value\":0.1},\"hatch_color\":{\"value\":\"#6d904f\"},\"line_alpha\":{\"value\":0.1},\"line_color\":{\"value\":\"#6d904f\"},\"size\":{\"value\":5.477225575051661},\"x\":{\"field\":\"EtherValueUSD_M\"},\"y\":{\"field\":\"Ether\"}},\"id\":\"6180\",\"type\":\"Scatter\"},{\"attributes\":{\"data\":{\"Ether\":[1050],\"EtherValueUSD_M\":{\"__ndarray__\":\"16NwPQrXCUA=\",\"dtype\":\"float64\",\"order\":\"little\",\"shape\":[1]},\"Punk\":[7756]},\"selected\":{\"id\":\"6621\"},\"selection_policy\":{\"id\":\"6665\"}},\"id\":\"6620\",\"type\":\"ColumnDataSource\"},{\"attributes\":{},\"id\":\"6435\",\"type\":\"UnionRenderers\"},{\"attributes\":{\"coordinates\":null,\"data_source\":{\"id\":\"6776\"},\"glyph\":{\"id\":\"6779\"},\"group\":null,\"hover_glyph\":null,\"muted_glyph\":{\"id\":\"6781\"},\"nonselection_glyph\":{\"id\":\"6780\"},\"selection_glyph\":{\"id\":\"6831\"},\"view\":{\"id\":\"6783\"}},\"id\":\"6782\",\"type\":\"GlyphRenderer\"},{\"attributes\":{\"fill_alpha\":{\"value\":0.1},\"fill_color\":{\"value\":\"#e5ae38\"},\"hatch_alpha\":{\"value\":0.1},\"hatch_color\":{\"value\":\"#e5ae38\"},\"line_alpha\":{\"value\":0.1},\"line_color\":{\"value\":\"#e5ae38\"},\"size\":{\"value\":5.477225575051661},\"x\":{\"field\":\"EtherValueUSD_M\"},\"y\":{\"field\":\"Ether\"}},\"id\":\"6576\",\"type\":\"Scatter\"},{\"attributes\":{},\"id\":\"6108\",\"type\":\"AllLabels\"},{\"attributes\":{\"fill_alpha\":{\"value\":0.2},\"fill_color\":{\"value\":\"#fc4f30\"},\"hatch_alpha\":{\"value\":0.2},\"hatch_color\":{\"value\":\"#fc4f30\"},\"line_alpha\":{\"value\":0.2},\"line_color\":{\"value\":\"#fc4f30\"},\"size\":{\"value\":5.477225575051661},\"x\":{\"field\":\"EtherValueUSD_M\"},\"y\":{\"field\":\"Ether\"}},\"id\":\"6135\",\"type\":\"Scatter\"},{\"attributes\":{\"fill_color\":{\"value\":\"#e5ae38\"},\"hatch_color\":{\"value\":\"#e5ae38\"},\"line_color\":{\"value\":\"#e5ae38\"},\"size\":{\"value\":5.477225575051661},\"x\":{\"field\":\"EtherValueUSD_M\"},\"y\":{\"field\":\"Ether\"}},\"id\":\"6575\",\"type\":\"Scatter\"},{\"attributes\":{\"fill_alpha\":{\"value\":0.2},\"fill_color\":{\"value\":\"#bcbd22\"},\"hatch_alpha\":{\"value\":0.2},\"hatch_color\":{\"value\":\"#bcbd22\"},\"line_alpha\":{\"value\":0.2},\"line_color\":{\"value\":\"#bcbd22\"},\"size\":{\"value\":5.477225575051661},\"x\":{\"field\":\"EtherValueUSD_M\"},\"y\":{\"field\":\"Ether\"}},\"id\":\"6445\",\"type\":\"Scatter\"},{\"attributes\":{\"fill_alpha\":{\"value\":0.1},\"fill_color\":{\"value\":\"#fc4f30\"},\"hatch_alpha\":{\"value\":0.1},\"hatch_color\":{\"value\":\"#fc4f30\"},\"line_alpha\":{\"value\":0.1},\"line_color\":{\"value\":\"#fc4f30\"},\"size\":{\"value\":5.477225575051661},\"x\":{\"field\":\"EtherValueUSD_M\"},\"y\":{\"field\":\"Ether\"}},\"id\":\"6530\",\"type\":\"Scatter\"},{\"attributes\":{\"fill_alpha\":{\"value\":0.1},\"fill_color\":{\"value\":\"#17becf\"},\"hatch_alpha\":{\"value\":0.1},\"hatch_color\":{\"value\":\"#17becf\"},\"line_alpha\":{\"value\":0.1},\"line_color\":{\"value\":\"#17becf\"},\"size\":{\"value\":5.477225575051661},\"x\":{\"field\":\"EtherValueUSD_M\"},\"y\":{\"field\":\"Ether\"}},\"id\":\"6726\",\"type\":\"Scatter\"},{\"attributes\":{},\"id\":\"6671\",\"type\":\"Selection\"},{\"attributes\":{\"coordinates\":null,\"data_source\":{\"id\":\"6109\"},\"glyph\":{\"id\":\"6112\"},\"group\":null,\"hover_glyph\":null,\"muted_glyph\":{\"id\":\"6114\"},\"nonselection_glyph\":{\"id\":\"6113\"},\"selection_glyph\":{\"id\":\"6129\"},\"view\":{\"id\":\"6116\"}},\"id\":\"6115\",\"type\":\"GlyphRenderer\"},{\"attributes\":{\"fill_alpha\":{\"value\":0.1},\"fill_color\":{\"value\":\"#30a2da\"},\"hatch_alpha\":{\"value\":0.1},\"hatch_color\":{\"value\":\"#30a2da\"},\"line_alpha\":{\"value\":0.1},\"line_color\":{\"value\":\"#30a2da\"},\"size\":{\"value\":5.477225575051661},\"x\":{\"field\":\"EtherValueUSD_M\"},\"y\":{\"field\":\"Ether\"}},\"id\":\"6486\",\"type\":\"Scatter\"},{\"attributes\":{\"fill_color\":{\"value\":\"#bcbd22\"},\"hatch_color\":{\"value\":\"#bcbd22\"},\"line_color\":{\"value\":\"#bcbd22\"},\"size\":{\"value\":5.477225575051661},\"x\":{\"field\":\"EtherValueUSD_M\"},\"y\":{\"field\":\"Ether\"}},\"id\":\"6443\",\"type\":\"Scatter\"},{\"attributes\":{\"fill_color\":{\"value\":\"#30a2da\"},\"hatch_color\":{\"value\":\"#30a2da\"},\"line_color\":{\"value\":\"#30a2da\"},\"size\":{\"value\":5.477225575051661},\"x\":{\"field\":\"EtherValueUSD_M\"},\"y\":{\"field\":\"Ether\"}},\"id\":\"6485\",\"type\":\"Scatter\"},{\"attributes\":{\"coordinates\":null,\"data_source\":{\"id\":\"6326\"},\"glyph\":{\"id\":\"6329\"},\"group\":null,\"hover_glyph\":null,\"muted_glyph\":{\"id\":\"6331\"},\"nonselection_glyph\":{\"id\":\"6330\"},\"selection_glyph\":{\"id\":\"6361\"},\"view\":{\"id\":\"6333\"}},\"id\":\"6332\",\"type\":\"GlyphRenderer\"},{\"attributes\":{\"data\":{\"Ether\":[800],\"EtherValueUSD_M\":{\"__ndarray__\":\"pHA9Ctej+D8=\",\"dtype\":\"float64\",\"order\":\"little\",\"shape\":[1]},\"Punk\":[6965]},\"selected\":{\"id\":\"6483\"},\"selection_policy\":{\"id\":\"6521\"}},\"id\":\"6482\",\"type\":\"ColumnDataSource\"},{\"attributes\":{\"coordinates\":null,\"data_source\":{\"id\":\"6620\"},\"glyph\":{\"id\":\"6623\"},\"group\":null,\"hover_glyph\":null,\"muted_glyph\":{\"id\":\"6625\"},\"nonselection_glyph\":{\"id\":\"6624\"},\"selection_glyph\":{\"id\":\"6669\"},\"view\":{\"id\":\"6627\"}},\"id\":\"6626\",\"type\":\"GlyphRenderer\"},{\"attributes\":{\"data\":{\"Ether\":[4200],\"EtherValueUSD_M\":{\"__ndarray__\":\"SOF6FK5HHkA=\",\"dtype\":\"float64\",\"order\":\"little\",\"shape\":[1]},\"Punk\":[7804]},\"selected\":{\"id\":\"6671\"},\"selection_policy\":{\"id\":\"6717\"}},\"id\":\"6670\",\"type\":\"ColumnDataSource\"},{\"attributes\":{\"angle\":{\"value\":0.0},\"fill_alpha\":{\"value\":1.0},\"fill_color\":{\"value\":\"#8c564b\"},\"hatch_alpha\":{\"value\":1.0},\"hatch_color\":{\"value\":\"#8c564b\"},\"hatch_scale\":{\"value\":12.0},\"hatch_weight\":{\"value\":1.0},\"line_alpha\":{\"value\":1.0},\"line_cap\":{\"value\":\"butt\"},\"line_color\":{\"value\":\"#8c564b\"},\"line_dash\":{\"value\":[]},\"line_dash_offset\":{\"value\":0},\"line_join\":{\"value\":\"bevel\"},\"line_width\":{\"value\":1},\"marker\":{\"value\":\"circle\"},\"size\":{\"value\":5.477225575051661},\"x\":{\"field\":\"EtherValueUSD_M\"},\"y\":{\"field\":\"Ether\"}},\"id\":\"6439\",\"type\":\"Scatter\"},{\"attributes\":{\"fill_alpha\":{\"value\":0.2},\"fill_color\":{\"value\":\"#6d904f\"},\"hatch_alpha\":{\"value\":0.2},\"hatch_color\":{\"value\":\"#6d904f\"},\"line_alpha\":{\"value\":0.2},\"line_color\":{\"value\":\"#6d904f\"},\"size\":{\"value\":5.477225575051661},\"x\":{\"field\":\"EtherValueUSD_M\"},\"y\":{\"field\":\"Ether\"}},\"id\":\"6625\",\"type\":\"Scatter\"},{\"attributes\":{},\"id\":\"6147\",\"type\":\"UnionRenderers\"},{\"attributes\":{\"fill_alpha\":{\"value\":0.2},\"fill_color\":{\"value\":\"#30a2da\"},\"hatch_alpha\":{\"value\":0.2},\"hatch_color\":{\"value\":\"#30a2da\"},\"line_alpha\":{\"value\":0.2},\"line_color\":{\"value\":\"#30a2da\"},\"size\":{\"value\":5.477225575051661},\"x\":{\"field\":\"EtherValueUSD_M\"},\"y\":{\"field\":\"Ether\"}},\"id\":\"6487\",\"type\":\"Scatter\"},{\"attributes\":{\"fill_alpha\":{\"value\":0.2},\"fill_color\":{\"value\":\"#e5ae38\"},\"hatch_alpha\":{\"value\":0.2},\"hatch_color\":{\"value\":\"#e5ae38\"},\"line_alpha\":{\"value\":0.2},\"line_color\":{\"value\":\"#e5ae38\"},\"size\":{\"value\":5.477225575051661},\"x\":{\"field\":\"EtherValueUSD_M\"},\"y\":{\"field\":\"Ether\"}},\"id\":\"6577\",\"type\":\"Scatter\"},{\"attributes\":{\"angle\":{\"value\":0.0},\"fill_alpha\":{\"value\":1.0},\"fill_color\":{\"value\":\"#6d904f\"},\"hatch_alpha\":{\"value\":1.0},\"hatch_color\":{\"value\":\"#6d904f\"},\"hatch_scale\":{\"value\":12.0},\"hatch_weight\":{\"value\":1.0},\"line_alpha\":{\"value\":1.0},\"line_cap\":{\"value\":\"butt\"},\"line_color\":{\"value\":\"#6d904f\"},\"line_dash\":{\"value\":[]},\"line_dash_offset\":{\"value\":0},\"line_join\":{\"value\":\"bevel\"},\"line_width\":{\"value\":1},\"marker\":{\"value\":\"circle\"},\"size\":{\"value\":5.477225575051661},\"x\":{\"field\":\"EtherValueUSD_M\"},\"y\":{\"field\":\"Ether\"}},\"id\":\"6669\",\"type\":\"Scatter\"},{\"attributes\":{},\"id\":\"6573\",\"type\":\"Selection\"},{\"attributes\":{\"label\":{\"value\":\"6649\"},\"renderers\":[{\"id\":\"6446\"}]},\"id\":\"6480\",\"type\":\"LegendItem\"},{\"attributes\":{\"angle\":{\"value\":0.0},\"fill_alpha\":{\"value\":1.0},\"fill_color\":{\"value\":\"#bcbd22\"},\"hatch_alpha\":{\"value\":1.0},\"hatch_color\":{\"value\":\"#bcbd22\"},\"hatch_scale\":{\"value\":12.0},\"hatch_weight\":{\"value\":1.0},\"line_alpha\":{\"value\":1.0},\"line_cap\":{\"value\":\"butt\"},\"line_color\":{\"value\":\"#bcbd22\"},\"line_dash\":{\"value\":[]},\"line_dash_offset\":{\"value\":0},\"line_join\":{\"value\":\"bevel\"},\"line_width\":{\"value\":1},\"marker\":{\"value\":\"circle\"},\"size\":{\"value\":5.477225575051661},\"x\":{\"field\":\"EtherValueUSD_M\"},\"y\":{\"field\":\"Ether\"}},\"id\":\"6481\",\"type\":\"Scatter\"},{\"attributes\":{\"fill_alpha\":{\"value\":0.1},\"fill_color\":{\"value\":\"#8b8b8b\"},\"hatch_alpha\":{\"value\":0.1},\"hatch_color\":{\"value\":\"#8b8b8b\"},\"line_alpha\":{\"value\":0.1},\"line_color\":{\"value\":\"#8b8b8b\"},\"size\":{\"value\":5.477225575051661},\"x\":{\"field\":\"EtherValueUSD_M\"},\"y\":{\"field\":\"Ether\"}},\"id\":\"6206\",\"type\":\"Scatter\"},{\"attributes\":{\"source\":{\"id\":\"6326\"}},\"id\":\"6333\",\"type\":\"CDSView\"},{\"attributes\":{},\"id\":\"6225\",\"type\":\"UnionRenderers\"},{\"attributes\":{\"fill_color\":{\"value\":\"#30a2da\"},\"hatch_color\":{\"value\":\"#30a2da\"},\"line_color\":{\"value\":\"#30a2da\"},\"size\":{\"value\":5.477225575051661},\"x\":{\"field\":\"EtherValueUSD_M\"},\"y\":{\"field\":\"Ether\"}},\"id\":\"6112\",\"type\":\"Scatter\"},{\"attributes\":{\"data\":{\"Ether\":[1500],\"EtherValueUSD_M\":{\"__ndarray__\":\"SOF6FK5HEUA=\",\"dtype\":\"float64\",\"order\":\"little\",\"shape\":[1]},\"Punk\":[2238]},\"selected\":{\"id\":\"6131\"},\"selection_policy\":{\"id\":\"6147\"}},\"id\":\"6130\",\"type\":\"ColumnDataSource\"},{\"attributes\":{},\"id\":\"6327\",\"type\":\"Selection\"},{\"attributes\":{},\"id\":\"6527\",\"type\":\"Selection\"},{\"attributes\":{\"fill_alpha\":{\"value\":0.2},\"fill_color\":{\"value\":\"#30a2da\"},\"hatch_alpha\":{\"value\":0.2},\"hatch_color\":{\"value\":\"#30a2da\"},\"line_alpha\":{\"value\":0.2},\"line_color\":{\"value\":\"#30a2da\"},\"size\":{\"value\":5.477225575051661},\"x\":{\"field\":\"EtherValueUSD_M\"},\"y\":{\"field\":\"Ether\"}},\"id\":\"6114\",\"type\":\"Scatter\"},{\"attributes\":{\"fill_color\":{\"value\":\"#fc4f30\"},\"hatch_color\":{\"value\":\"#fc4f30\"},\"line_color\":{\"value\":\"#fc4f30\"},\"size\":{\"value\":5.477225575051661},\"x\":{\"field\":\"EtherValueUSD_M\"},\"y\":{\"field\":\"Ether\"}},\"id\":\"6529\",\"type\":\"Scatter\"},{\"attributes\":{},\"id\":\"6357\",\"type\":\"UnionRenderers\"},{\"attributes\":{},\"id\":\"6363\",\"type\":\"Selection\"},{\"attributes\":{},\"id\":\"6078\",\"type\":\"LinearScale\"},{\"attributes\":{\"coordinates\":null,\"data_source\":{\"id\":\"6230\"},\"glyph\":{\"id\":\"6233\"},\"group\":null,\"hover_glyph\":null,\"muted_glyph\":{\"id\":\"6235\"},\"nonselection_glyph\":{\"id\":\"6234\"},\"selection_glyph\":{\"id\":\"6259\"},\"view\":{\"id\":\"6237\"}},\"id\":\"6236\",\"type\":\"GlyphRenderer\"},{\"attributes\":{\"angle\":{\"value\":0.0},\"fill_alpha\":{\"value\":1.0},\"fill_color\":{\"value\":\"#9467bd\"},\"hatch_alpha\":{\"value\":1.0},\"hatch_color\":{\"value\":\"#9467bd\"},\"hatch_scale\":{\"value\":12.0},\"hatch_weight\":{\"value\":1.0},\"line_alpha\":{\"value\":1.0},\"line_cap\":{\"value\":\"butt\"},\"line_color\":{\"value\":\"#9467bd\"},\"line_dash\":{\"value\":[]},\"line_dash_offset\":{\"value\":0},\"line_join\":{\"value\":\"bevel\"},\"line_width\":{\"value\":1},\"marker\":{\"value\":\"circle\"},\"size\":{\"value\":5.477225575051661},\"x\":{\"field\":\"EtherValueUSD_M\"},\"y\":{\"field\":\"Ether\"}},\"id\":\"6291\",\"type\":\"Scatter\"},{\"attributes\":{\"source\":{\"id\":\"6482\"}},\"id\":\"6489\",\"type\":\"CDSView\"},{\"attributes\":{\"callback\":null,\"renderers\":[{\"id\":\"6115\"},{\"id\":\"6136\"},{\"id\":\"6158\"},{\"id\":\"6182\"},{\"id\":\"6208\"},{\"id\":\"6236\"},{\"id\":\"6266\"},{\"id\":\"6298\"},{\"id\":\"6332\"},{\"id\":\"6368\"},{\"id\":\"6406\"},{\"id\":\"6446\"},{\"id\":\"6488\"},{\"id\":\"6532\"},{\"id\":\"6578\"},{\"id\":\"6626\"},{\"id\":\"6676\"},{\"id\":\"6728\"},{\"id\":\"6782\"}],\"tags\":[\"hv_created\"],\"tooltips\":[[\"Punk\",\"@{Punk}\"],[\"EtherValueUSD_M\",\"@{EtherValueUSD_M}\"],[\"Ether\",\"@{Ether}\"]]},\"id\":\"6054\",\"type\":\"HoverTool\"},{\"attributes\":{\"label\":{\"value\":\"6275\"},\"renderers\":[{\"id\":\"6368\"}]},\"id\":\"6398\",\"type\":\"LegendItem\"},{\"attributes\":{},\"id\":\"6083\",\"type\":\"BasicTicker\"},{\"attributes\":{\"axis\":{\"id\":\"6082\"},\"coordinates\":null,\"grid_line_color\":null,\"group\":null,\"ticker\":null},\"id\":\"6085\",\"type\":\"Grid\"},{\"attributes\":{\"angle\":{\"value\":0.0},\"fill_alpha\":{\"value\":1.0},\"fill_color\":{\"value\":\"#fc4f30\"},\"hatch_alpha\":{\"value\":1.0},\"hatch_color\":{\"value\":\"#fc4f30\"},\"hatch_scale\":{\"value\":12.0},\"hatch_weight\":{\"value\":1.0},\"line_alpha\":{\"value\":1.0},\"line_cap\":{\"value\":\"butt\"},\"line_color\":{\"value\":\"#fc4f30\"},\"line_dash\":{\"value\":[]},\"line_dash_offset\":{\"value\":0},\"line_join\":{\"value\":\"bevel\"},\"line_width\":{\"value\":1},\"marker\":{\"value\":\"circle\"},\"size\":{\"value\":5.477225575051661},\"x\":{\"field\":\"EtherValueUSD_M\"},\"y\":{\"field\":\"Ether\"}},\"id\":\"6151\",\"type\":\"Scatter\"},{\"attributes\":{\"fill_color\":{\"value\":\"#17becf\"},\"hatch_color\":{\"value\":\"#17becf\"},\"line_color\":{\"value\":\"#17becf\"},\"size\":{\"value\":5.477225575051661},\"x\":{\"field\":\"EtherValueUSD_M\"},\"y\":{\"field\":\"Ether\"}},\"id\":\"6233\",\"type\":\"Scatter\"},{\"attributes\":{\"data\":{\"Ether\":[888],\"EtherValueUSD_M\":{\"__ndarray__\":\"9ihcj8L1BkA=\",\"dtype\":\"float64\",\"order\":\"little\",\"shape\":[1]},\"Punk\":[8888]},\"selected\":{\"id\":\"6777\"},\"selection_policy\":{\"id\":\"6827\"}},\"id\":\"6776\",\"type\":\"ColumnDataSource\"},{\"attributes\":{\"coordinates\":null,\"data_source\":{\"id\":\"6152\"},\"glyph\":{\"id\":\"6155\"},\"group\":null,\"hover_glyph\":null,\"muted_glyph\":{\"id\":\"6157\"},\"nonselection_glyph\":{\"id\":\"6156\"},\"selection_glyph\":{\"id\":\"6175\"},\"view\":{\"id\":\"6159\"}},\"id\":\"6158\",\"type\":\"GlyphRenderer\"},{\"attributes\":{\"angle\":{\"value\":0.0},\"fill_alpha\":{\"value\":1.0},\"fill_color\":{\"value\":\"#d62728\"},\"hatch_alpha\":{\"value\":1.0},\"hatch_color\":{\"value\":\"#d62728\"},\"hatch_scale\":{\"value\":12.0},\"hatch_weight\":{\"value\":1.0},\"line_alpha\":{\"value\":1.0},\"line_cap\":{\"value\":\"butt\"},\"line_color\":{\"value\":\"#d62728\"},\"line_dash\":{\"value\":[]},\"line_dash_offset\":{\"value\":0},\"line_join\":{\"value\":\"bevel\"},\"line_width\":{\"value\":1},\"marker\":{\"value\":\"circle\"},\"size\":{\"value\":5.477225575051661},\"x\":{\"field\":\"EtherValueUSD_M\"},\"y\":{\"field\":\"Ether\"}},\"id\":\"6325\",\"type\":\"Scatter\"},{\"attributes\":{\"fill_alpha\":{\"value\":0.1},\"fill_color\":{\"value\":\"#d62728\"},\"hatch_alpha\":{\"value\":0.1},\"hatch_color\":{\"value\":\"#d62728\"},\"line_alpha\":{\"value\":0.1},\"line_color\":{\"value\":\"#d62728\"},\"size\":{\"value\":5.477225575051661},\"x\":{\"field\":\"EtherValueUSD_M\"},\"y\":{\"field\":\"Ether\"}},\"id\":\"6296\",\"type\":\"Scatter\"},{\"attributes\":{},\"id\":\"6087\",\"type\":\"BasicTicker\"},{\"attributes\":{\"coordinates\":null,\"group\":null,\"text\":\"Top 20 Sales By Ether\",\"text_color\":\"black\",\"text_font_size\":\"12pt\"},\"id\":\"6074\",\"type\":\"Title\"},{\"attributes\":{\"data\":{\"Ether\":[8000],\"EtherValueUSD_M\":{\"__ndarray__\":\"MzMzMzOzN0A=\",\"dtype\":\"float64\",\"order\":\"little\",\"shape\":[1]},\"Punk\":[5822]},\"selected\":{\"id\":\"6327\"},\"selection_policy\":{\"id\":\"6357\"}},\"id\":\"6326\",\"type\":\"ColumnDataSource\"},{\"attributes\":{},\"id\":\"6395\",\"type\":\"UnionRenderers\"},{\"attributes\":{\"source\":{\"id\":\"6130\"}},\"id\":\"6137\",\"type\":\"CDSView\"},{\"attributes\":{\"data\":{\"Ether\":[1320],\"EtherValueUSD_M\":{\"__ndarray__\":\"exSuR+F6FEA=\",\"dtype\":\"float64\",\"order\":\"little\",\"shape\":[1]},\"Punk\":[6276]},\"selected\":{\"id\":\"6401\"},\"selection_policy\":{\"id\":\"6435\"}},\"id\":\"6400\",\"type\":\"ColumnDataSource\"},{\"attributes\":{\"label\":{\"value\":\"3831\"},\"renderers\":[{\"id\":\"6208\"}]},\"id\":\"6228\",\"type\":\"LegendItem\"},{\"attributes\":{\"coordinates\":null,\"data_source\":{\"id\":\"6260\"},\"glyph\":{\"id\":\"6263\"},\"group\":null,\"hover_glyph\":null,\"muted_glyph\":{\"id\":\"6265\"},\"nonselection_glyph\":{\"id\":\"6264\"},\"selection_glyph\":{\"id\":\"6291\"},\"view\":{\"id\":\"6267\"}},\"id\":\"6266\",\"type\":\"GlyphRenderer\"},{\"attributes\":{},\"id\":\"6177\",\"type\":\"Selection\"},{\"attributes\":{\"fill_alpha\":{\"value\":0.1},\"fill_color\":{\"value\":\"#9467bd\"},\"hatch_alpha\":{\"value\":0.1},\"hatch_color\":{\"value\":\"#9467bd\"},\"line_alpha\":{\"value\":0.1},\"line_color\":{\"value\":\"#9467bd\"},\"size\":{\"value\":5.477225575051661},\"x\":{\"field\":\"EtherValueUSD_M\"},\"y\":{\"field\":\"Ether\"}},\"id\":\"6264\",\"type\":\"Scatter\"},{\"attributes\":{},\"id\":\"6080\",\"type\":\"LinearScale\"},{\"attributes\":{\"fill_alpha\":{\"value\":0.2},\"fill_color\":{\"value\":\"#d62728\"},\"hatch_alpha\":{\"value\":0.2},\"hatch_color\":{\"value\":\"#d62728\"},\"line_alpha\":{\"value\":0.2},\"line_color\":{\"value\":\"#d62728\"},\"size\":{\"value\":5.477225575051661},\"x\":{\"field\":\"EtherValueUSD_M\"},\"y\":{\"field\":\"Ether\"}},\"id\":\"6297\",\"type\":\"Scatter\"},{\"attributes\":{},\"id\":\"6231\",\"type\":\"Selection\"},{\"attributes\":{},\"id\":\"6441\",\"type\":\"Selection\"},{\"attributes\":{\"axis_label\":\"Ether\",\"coordinates\":null,\"formatter\":{\"id\":\"6107\"},\"group\":null,\"major_label_policy\":{\"id\":\"6108\"},\"ticker\":{\"id\":\"6087\"}},\"id\":\"6086\",\"type\":\"LinearAxis\"},{\"attributes\":{\"fill_color\":{\"value\":\"#9467bd\"},\"hatch_color\":{\"value\":\"#9467bd\"},\"line_color\":{\"value\":\"#9467bd\"},\"size\":{\"value\":5.477225575051661},\"x\":{\"field\":\"EtherValueUSD_M\"},\"y\":{\"field\":\"Ether\"}},\"id\":\"6263\",\"type\":\"Scatter\"},{\"attributes\":{\"axis_label\":\"Ether value in USD Millions\",\"coordinates\":null,\"formatter\":{\"id\":\"6104\"},\"group\":null,\"major_label_orientation\":1.5707963267948966,\"major_label_policy\":{\"id\":\"6105\"},\"ticker\":{\"id\":\"6083\"}},\"id\":\"6082\",\"type\":\"LinearAxis\"},{\"attributes\":{\"angle\":{\"value\":0.0},\"fill_alpha\":{\"value\":1.0},\"fill_color\":{\"value\":\"#17becf\"},\"hatch_alpha\":{\"value\":1.0},\"hatch_color\":{\"value\":\"#17becf\"},\"hatch_scale\":{\"value\":12.0},\"hatch_weight\":{\"value\":1.0},\"line_alpha\":{\"value\":1.0},\"line_cap\":{\"value\":\"butt\"},\"line_color\":{\"value\":\"#17becf\"},\"line_dash\":{\"value\":[]},\"line_dash_offset\":{\"value\":0},\"line_join\":{\"value\":\"bevel\"},\"line_width\":{\"value\":1},\"marker\":{\"value\":\"circle\"},\"size\":{\"value\":5.477225575051661},\"x\":{\"field\":\"EtherValueUSD_M\"},\"y\":{\"field\":\"Ether\"}},\"id\":\"6259\",\"type\":\"Scatter\"},{\"attributes\":{\"coordinates\":null,\"data_source\":{\"id\":\"6130\"},\"glyph\":{\"id\":\"6133\"},\"group\":null,\"hover_glyph\":null,\"muted_glyph\":{\"id\":\"6135\"},\"nonselection_glyph\":{\"id\":\"6134\"},\"selection_glyph\":{\"id\":\"6151\"},\"view\":{\"id\":\"6137\"}},\"id\":\"6136\",\"type\":\"GlyphRenderer\"},{\"attributes\":{},\"id\":\"6717\",\"type\":\"UnionRenderers\"},{\"attributes\":{\"data\":{\"Ether\":[810],\"EtherValueUSD_M\":{\"__ndarray__\":\"rkfhehSu/z8=\",\"dtype\":\"float64\",\"order\":\"little\",\"shape\":[1]},\"Punk\":[6649]},\"selected\":{\"id\":\"6441\"},\"selection_policy\":{\"id\":\"6477\"}},\"id\":\"6440\",\"type\":\"ColumnDataSource\"},{\"attributes\":{\"source\":{\"id\":\"6620\"}},\"id\":\"6627\",\"type\":\"CDSView\"},{\"attributes\":{},\"id\":\"6723\",\"type\":\"Selection\"},{\"attributes\":{\"angle\":{\"value\":0.0},\"fill_alpha\":{\"value\":1.0},\"fill_color\":{\"value\":\"#8b8b8b\"},\"hatch_alpha\":{\"value\":1.0},\"hatch_color\":{\"value\":\"#8b8b8b\"},\"hatch_scale\":{\"value\":12.0},\"hatch_weight\":{\"value\":1.0},\"line_alpha\":{\"value\":1.0},\"line_cap\":{\"value\":\"butt\"},\"line_color\":{\"value\":\"#8b8b8b\"},\"line_dash\":{\"value\":[]},\"line_dash_offset\":{\"value\":0},\"line_join\":{\"value\":\"bevel\"},\"line_width\":{\"value\":1},\"marker\":{\"value\":\"circle\"},\"size\":{\"value\":5.477225575051661},\"x\":{\"field\":\"EtherValueUSD_M\"},\"y\":{\"field\":\"Ether\"}},\"id\":\"6721\",\"type\":\"Scatter\"},{\"attributes\":{\"axis\":{\"id\":\"6086\"},\"coordinates\":null,\"dimension\":1,\"grid_line_color\":null,\"group\":null,\"ticker\":null},\"id\":\"6089\",\"type\":\"Grid\"},{\"attributes\":{\"source\":{\"id\":\"6230\"}},\"id\":\"6237\",\"type\":\"CDSView\"},{\"attributes\":{\"source\":{\"id\":\"6362\"}},\"id\":\"6369\",\"type\":\"CDSView\"},{\"attributes\":{\"fill_alpha\":{\"value\":0.2},\"fill_color\":{\"value\":\"#e377c2\"},\"hatch_alpha\":{\"value\":0.2},\"hatch_color\":{\"value\":\"#e377c2\"},\"line_alpha\":{\"value\":0.2},\"line_color\":{\"value\":\"#e377c2\"},\"size\":{\"value\":5.477225575051661},\"x\":{\"field\":\"EtherValueUSD_M\"},\"y\":{\"field\":\"Ether\"}},\"id\":\"6367\",\"type\":\"Scatter\"},{\"attributes\":{\"data\":{\"Ether\":[2250],\"EtherValueUSD_M\":{\"__ndarray__\":\"zczMzMzMFUA=\",\"dtype\":\"float64\",\"order\":\"little\",\"shape\":[1]},\"Punk\":[5217]},\"selected\":{\"id\":\"6261\"},\"selection_policy\":{\"id\":\"6287\"}},\"id\":\"6260\",\"type\":\"ColumnDataSource\"},{\"attributes\":{\"children\":[{\"id\":\"6051\"},{\"id\":\"6073\"},{\"id\":\"7246\"}],\"margin\":[0,0,0,0],\"name\":\"Row11918\",\"tags\":[\"embedded\"]},\"id\":\"6050\",\"type\":\"Row\"},{\"attributes\":{\"source\":{\"id\":\"6670\"}},\"id\":\"6677\",\"type\":\"CDSView\"},{\"attributes\":{\"label\":{\"value\":\"7804\"},\"renderers\":[{\"id\":\"6676\"}]},\"id\":\"6720\",\"type\":\"LegendItem\"},{\"attributes\":{},\"id\":\"6131\",\"type\":\"Selection\"},{\"attributes\":{\"fill_color\":{\"value\":\"#e5ae38\"},\"hatch_color\":{\"value\":\"#e5ae38\"},\"line_color\":{\"value\":\"#e5ae38\"},\"size\":{\"value\":5.477225575051661},\"x\":{\"field\":\"EtherValueUSD_M\"},\"y\":{\"field\":\"Ether\"}},\"id\":\"6155\",\"type\":\"Scatter\"},{\"attributes\":{\"data\":{\"Ether\":[4200],\"EtherValueUSD_M\":{\"__ndarray__\":\"UrgehetRHkA=\",\"dtype\":\"float64\",\"order\":\"little\",\"shape\":[1]},\"Punk\":[3100]},\"selected\":{\"id\":\"6177\"},\"selection_policy\":{\"id\":\"6197\"}},\"id\":\"6176\",\"type\":\"ColumnDataSource\"},{\"attributes\":{\"fill_color\":{\"value\":\"#d62728\"},\"hatch_color\":{\"value\":\"#d62728\"},\"line_color\":{\"value\":\"#d62728\"},\"size\":{\"value\":5.477225575051661},\"x\":{\"field\":\"EtherValueUSD_M\"},\"y\":{\"field\":\"Ether\"}},\"id\":\"6295\",\"type\":\"Scatter\"},{\"attributes\":{\"tools\":[{\"id\":\"6054\"},{\"id\":\"6090\"},{\"id\":\"6091\"},{\"id\":\"6092\"},{\"id\":\"6093\"},{\"id\":\"6094\"}]},\"id\":\"6096\",\"type\":\"Toolbar\"},{\"attributes\":{\"label\":{\"value\":\"6965\"},\"renderers\":[{\"id\":\"6488\"}]},\"id\":\"6524\",\"type\":\"LegendItem\"},{\"attributes\":{\"bottom_units\":\"screen\",\"coordinates\":null,\"fill_alpha\":0.5,\"fill_color\":\"lightgrey\",\"group\":null,\"left_units\":\"screen\",\"level\":\"overlay\",\"line_alpha\":1.0,\"line_color\":\"black\",\"line_dash\":[4,4],\"line_width\":2,\"right_units\":\"screen\",\"syncable\":false,\"top_units\":\"screen\"},\"id\":\"6095\",\"type\":\"BoxAnnotation\"},{\"attributes\":{\"angle\":{\"value\":0.0},\"fill_alpha\":{\"value\":1.0},\"fill_color\":{\"value\":\"#30a2da\"},\"hatch_alpha\":{\"value\":1.0},\"hatch_color\":{\"value\":\"#30a2da\"},\"hatch_scale\":{\"value\":12.0},\"hatch_weight\":{\"value\":1.0},\"line_alpha\":{\"value\":1.0},\"line_cap\":{\"value\":\"butt\"},\"line_color\":{\"value\":\"#30a2da\"},\"line_dash\":{\"value\":[]},\"line_dash_offset\":{\"value\":0},\"line_join\":{\"value\":\"bevel\"},\"line_width\":{\"value\":1},\"marker\":{\"value\":\"circle\"},\"size\":{\"value\":5.477225575051661},\"x\":{\"field\":\"EtherValueUSD_M\"},\"y\":{\"field\":\"Ether\"}},\"id\":\"6525\",\"type\":\"Scatter\"},{\"attributes\":{},\"id\":\"6090\",\"type\":\"SaveTool\"},{\"attributes\":{\"fill_alpha\":{\"value\":0.2},\"fill_color\":{\"value\":\"#17becf\"},\"hatch_alpha\":{\"value\":0.2},\"hatch_color\":{\"value\":\"#17becf\"},\"line_alpha\":{\"value\":0.2},\"line_color\":{\"value\":\"#17becf\"},\"size\":{\"value\":5.477225575051661},\"x\":{\"field\":\"EtherValueUSD_M\"},\"y\":{\"field\":\"Ether\"}},\"id\":\"6235\",\"type\":\"Scatter\"},{\"attributes\":{\"fill_alpha\":{\"value\":0.2},\"fill_color\":{\"value\":\"#9467bd\"},\"hatch_alpha\":{\"value\":0.2},\"hatch_color\":{\"value\":\"#9467bd\"},\"line_alpha\":{\"value\":0.2},\"line_color\":{\"value\":\"#9467bd\"},\"size\":{\"value\":5.477225575051661},\"x\":{\"field\":\"EtherValueUSD_M\"},\"y\":{\"field\":\"Ether\"}},\"id\":\"6265\",\"type\":\"Scatter\"},{\"attributes\":{},\"id\":\"6091\",\"type\":\"PanTool\"},{\"attributes\":{\"data\":{\"Ether\":[2000],\"EtherValueUSD_M\":{\"__ndarray__\":\"hetRuB6FGkA=\",\"dtype\":\"float64\",\"order\":\"little\",\"shape\":[1]},\"Punk\":[8857]},\"selected\":{\"id\":\"6723\"},\"selection_policy\":{\"id\":\"6771\"}},\"id\":\"6722\",\"type\":\"ColumnDataSource\"},{\"attributes\":{},\"id\":\"6094\",\"type\":\"ResetTool\"},{\"attributes\":{\"fill_alpha\":{\"value\":0.2},\"fill_color\":{\"value\":\"#e5ae38\"},\"hatch_alpha\":{\"value\":0.2},\"hatch_color\":{\"value\":\"#e5ae38\"},\"line_alpha\":{\"value\":0.2},\"line_color\":{\"value\":\"#e5ae38\"},\"size\":{\"value\":5.477225575051661},\"x\":{\"field\":\"EtherValueUSD_M\"},\"y\":{\"field\":\"Ether\"}},\"id\":\"6157\",\"type\":\"Scatter\"},{\"attributes\":{\"angle\":{\"value\":0.0},\"fill_alpha\":{\"value\":1.0},\"fill_color\":{\"value\":\"#8b8b8b\"},\"hatch_alpha\":{\"value\":1.0},\"hatch_color\":{\"value\":\"#8b8b8b\"},\"hatch_scale\":{\"value\":12.0},\"hatch_weight\":{\"value\":1.0},\"line_alpha\":{\"value\":1.0},\"line_cap\":{\"value\":\"butt\"},\"line_color\":{\"value\":\"#8b8b8b\"},\"line_dash\":{\"value\":[]},\"line_dash_offset\":{\"value\":0},\"line_join\":{\"value\":\"bevel\"},\"line_width\":{\"value\":1},\"marker\":{\"value\":\"circle\"},\"size\":{\"value\":5.477225575051661},\"x\":{\"field\":\"EtherValueUSD_M\"},\"y\":{\"field\":\"Ether\"}},\"id\":\"6229\",\"type\":\"Scatter\"},{\"attributes\":{},\"id\":\"6092\",\"type\":\"WheelZoomTool\"},{\"attributes\":{\"source\":{\"id\":\"6260\"}},\"id\":\"6267\",\"type\":\"CDSView\"},{\"attributes\":{\"overlay\":{\"id\":\"6095\"}},\"id\":\"6093\",\"type\":\"BoxZoomTool\"},{\"attributes\":{},\"id\":\"6287\",\"type\":\"UnionRenderers\"},{\"attributes\":{\"fill_alpha\":{\"value\":0.2},\"fill_color\":{\"value\":\"#17becf\"},\"hatch_alpha\":{\"value\":0.2},\"hatch_color\":{\"value\":\"#17becf\"},\"line_alpha\":{\"value\":0.2},\"line_color\":{\"value\":\"#17becf\"},\"size\":{\"value\":5.477225575051661},\"x\":{\"field\":\"EtherValueUSD_M\"},\"y\":{\"field\":\"Ether\"}},\"id\":\"6727\",\"type\":\"Scatter\"},{\"attributes\":{\"background_fill_color\":\"lightgray\",\"below\":[{\"id\":\"6082\"}],\"center\":[{\"id\":\"6085\"},{\"id\":\"6089\"}],\"left\":[{\"id\":\"6086\"}],\"margin\":[5,5,5,5],\"min_border_bottom\":10,\"min_border_left\":10,\"min_border_right\":10,\"min_border_top\":10,\"renderers\":[{\"id\":\"6115\"},{\"id\":\"6136\"},{\"id\":\"6158\"},{\"id\":\"6182\"},{\"id\":\"6208\"},{\"id\":\"6236\"},{\"id\":\"6266\"},{\"id\":\"6298\"},{\"id\":\"6332\"},{\"id\":\"6368\"},{\"id\":\"6406\"},{\"id\":\"6446\"},{\"id\":\"6488\"},{\"id\":\"6532\"},{\"id\":\"6578\"},{\"id\":\"6626\"},{\"id\":\"6676\"},{\"id\":\"6728\"},{\"id\":\"6782\"}],\"right\":[{\"id\":\"6127\"}],\"sizing_mode\":\"fixed\",\"title\":{\"id\":\"6074\"},\"toolbar\":{\"id\":\"6096\"},\"width\":1000,\"x_range\":{\"id\":\"6052\"},\"x_scale\":{\"id\":\"6078\"},\"y_range\":{\"id\":\"6053\"},\"y_scale\":{\"id\":\"6080\"}},\"id\":\"6073\",\"subtype\":\"Figure\",\"type\":\"Plot\"},{\"attributes\":{},\"id\":\"6521\",\"type\":\"UnionRenderers\"},{\"attributes\":{\"end\":25.0296,\"reset_end\":25.0296,\"reset_start\":0.21040000000000014,\"start\":0.21040000000000014,\"tags\":[[[\"EtherValueUSD_M\",\"EtherValueUSD_M\",null]]]},\"id\":\"6052\",\"type\":\"Range1d\"},{\"attributes\":{\"source\":{\"id\":\"6152\"}},\"id\":\"6159\",\"type\":\"CDSView\"},{\"attributes\":{\"fill_color\":{\"value\":\"#8b8b8b\"},\"hatch_color\":{\"value\":\"#8b8b8b\"},\"line_color\":{\"value\":\"#8b8b8b\"},\"size\":{\"value\":5.477225575051661},\"x\":{\"field\":\"EtherValueUSD_M\"},\"y\":{\"field\":\"Ether\"}},\"id\":\"6673\",\"type\":\"Scatter\"},{\"attributes\":{},\"id\":\"6621\",\"type\":\"Selection\"},{\"attributes\":{\"coordinates\":null,\"data_source\":{\"id\":\"6482\"},\"glyph\":{\"id\":\"6485\"},\"group\":null,\"hover_glyph\":null,\"muted_glyph\":{\"id\":\"6487\"},\"nonselection_glyph\":{\"id\":\"6486\"},\"selection_glyph\":{\"id\":\"6525\"},\"view\":{\"id\":\"6489\"}},\"id\":\"6488\",\"type\":\"GlyphRenderer\"},{\"attributes\":{\"margin\":[5,5,5,5],\"name\":\"HSpacer11923\",\"sizing_mode\":\"stretch_width\"},\"id\":\"7246\",\"type\":\"Spacer\"},{\"attributes\":{\"fill_alpha\":{\"value\":0.1},\"fill_color\":{\"value\":\"#e5ae38\"},\"hatch_alpha\":{\"value\":0.1},\"hatch_color\":{\"value\":\"#e5ae38\"},\"line_alpha\":{\"value\":0.1},\"line_color\":{\"value\":\"#e5ae38\"},\"size\":{\"value\":5.477225575051661},\"x\":{\"field\":\"EtherValueUSD_M\"},\"y\":{\"field\":\"Ether\"}},\"id\":\"6156\",\"type\":\"Scatter\"},{\"attributes\":{\"fill_color\":{\"value\":\"#17becf\"},\"hatch_color\":{\"value\":\"#17becf\"},\"line_color\":{\"value\":\"#17becf\"},\"size\":{\"value\":5.477225575051661},\"x\":{\"field\":\"EtherValueUSD_M\"},\"y\":{\"field\":\"Ether\"}},\"id\":\"6725\",\"type\":\"Scatter\"},{\"attributes\":{},\"id\":\"6107\",\"type\":\"BasicTickFormatter\"},{\"attributes\":{\"angle\":{\"value\":0.0},\"fill_alpha\":{\"value\":1.0},\"fill_color\":{\"value\":\"#e377c2\"},\"hatch_alpha\":{\"value\":1.0},\"hatch_color\":{\"value\":\"#e377c2\"},\"hatch_scale\":{\"value\":12.0},\"hatch_weight\":{\"value\":1.0},\"line_alpha\":{\"value\":1.0},\"line_cap\":{\"value\":\"butt\"},\"line_color\":{\"value\":\"#e377c2\"},\"line_dash\":{\"value\":[]},\"line_dash_offset\":{\"value\":0},\"line_join\":{\"value\":\"bevel\"},\"line_width\":{\"value\":1},\"marker\":{\"value\":\"circle\"},\"size\":{\"value\":5.477225575051661},\"x\":{\"field\":\"EtherValueUSD_M\"},\"y\":{\"field\":\"Ether\"}},\"id\":\"6399\",\"type\":\"Scatter\"},{\"attributes\":{},\"id\":\"6104\",\"type\":\"BasicTickFormatter\"},{\"attributes\":{},\"id\":\"6483\",\"type\":\"Selection\"},{\"attributes\":{\"coordinates\":null,\"data_source\":{\"id\":\"6670\"},\"glyph\":{\"id\":\"6673\"},\"group\":null,\"hover_glyph\":null,\"muted_glyph\":{\"id\":\"6675\"},\"nonselection_glyph\":{\"id\":\"6674\"},\"selection_glyph\":{\"id\":\"6721\"},\"view\":{\"id\":\"6677\"}},\"id\":\"6676\",\"type\":\"GlyphRenderer\"},{\"attributes\":{\"fill_alpha\":{\"value\":0.1},\"fill_color\":{\"value\":\"#8b8b8b\"},\"hatch_alpha\":{\"value\":0.1},\"hatch_color\":{\"value\":\"#8b8b8b\"},\"line_alpha\":{\"value\":0.1},\"line_color\":{\"value\":\"#8b8b8b\"},\"size\":{\"value\":5.477225575051661},\"x\":{\"field\":\"EtherValueUSD_M\"},\"y\":{\"field\":\"Ether\"}},\"id\":\"6674\",\"type\":\"Scatter\"},{\"attributes\":{},\"id\":\"6321\",\"type\":\"UnionRenderers\"},{\"attributes\":{\"margin\":[5,5,5,5],\"name\":\"HSpacer11922\",\"sizing_mode\":\"stretch_width\"},\"id\":\"6051\",\"type\":\"Spacer\"},{\"attributes\":{\"coordinates\":null,\"data_source\":{\"id\":\"6292\"},\"glyph\":{\"id\":\"6295\"},\"group\":null,\"hover_glyph\":null,\"muted_glyph\":{\"id\":\"6297\"},\"nonselection_glyph\":{\"id\":\"6296\"},\"selection_glyph\":{\"id\":\"6325\"},\"view\":{\"id\":\"6299\"}},\"id\":\"6298\",\"type\":\"GlyphRenderer\"},{\"attributes\":{\"fill_alpha\":{\"value\":0.1},\"fill_color\":{\"value\":\"#8c564b\"},\"hatch_alpha\":{\"value\":0.1},\"hatch_color\":{\"value\":\"#8c564b\"},\"line_alpha\":{\"value\":0.1},\"line_color\":{\"value\":\"#8c564b\"},\"size\":{\"value\":5.477225575051661},\"x\":{\"field\":\"EtherValueUSD_M\"},\"y\":{\"field\":\"Ether\"}},\"id\":\"6404\",\"type\":\"Scatter\"},{\"attributes\":{\"fill_alpha\":{\"value\":0.2},\"fill_color\":{\"value\":\"#fc4f30\"},\"hatch_alpha\":{\"value\":0.2},\"hatch_color\":{\"value\":\"#fc4f30\"},\"line_alpha\":{\"value\":0.2},\"line_color\":{\"value\":\"#fc4f30\"},\"size\":{\"value\":5.477225575051661},\"x\":{\"field\":\"EtherValueUSD_M\"},\"y\":{\"field\":\"Ether\"}},\"id\":\"6531\",\"type\":\"Scatter\"},{\"attributes\":{\"fill_color\":{\"value\":\"#e377c2\"},\"hatch_color\":{\"value\":\"#e377c2\"},\"line_color\":{\"value\":\"#e377c2\"},\"size\":{\"value\":5.477225575051661},\"x\":{\"field\":\"EtherValueUSD_M\"},\"y\":{\"field\":\"Ether\"}},\"id\":\"6365\",\"type\":\"Scatter\"},{\"attributes\":{\"fill_alpha\":{\"value\":0.2},\"fill_color\":{\"value\":\"#8b8b8b\"},\"hatch_alpha\":{\"value\":0.2},\"hatch_color\":{\"value\":\"#8b8b8b\"},\"line_alpha\":{\"value\":0.2},\"line_color\":{\"value\":\"#8b8b8b\"},\"size\":{\"value\":5.477225575051661},\"x\":{\"field\":\"EtherValueUSD_M\"},\"y\":{\"field\":\"Ether\"}},\"id\":\"6675\",\"type\":\"Scatter\"},{\"attributes\":{\"coordinates\":null,\"data_source\":{\"id\":\"6362\"},\"glyph\":{\"id\":\"6365\"},\"group\":null,\"hover_glyph\":null,\"muted_glyph\":{\"id\":\"6367\"},\"nonselection_glyph\":{\"id\":\"6366\"},\"selection_glyph\":{\"id\":\"6399\"},\"view\":{\"id\":\"6369\"}},\"id\":\"6368\",\"type\":\"GlyphRenderer\"},{\"attributes\":{\"data\":{\"Ether\":[1600],\"EtherValueUSD_M\":{\"__ndarray__\":\"FK5H4XoUDkA=\",\"dtype\":\"float64\",\"order\":\"little\",\"shape\":[1]},\"Punk\":[2140]},\"selected\":{\"id\":\"6110\"},\"selection_policy\":{\"id\":\"6124\"}},\"id\":\"6109\",\"type\":\"ColumnDataSource\"},{\"attributes\":{\"data\":{\"Ether\":[1600,1000],\"EtherValueUSD_M\":{\"__ndarray__\":\"UrgehetRFUB7FK5H4XoEQA==\",\"dtype\":\"float64\",\"order\":\"little\",\"shape\":[2]},\"Punk\":[7252,7252]},\"selected\":{\"id\":\"6573\"},\"selection_policy\":{\"id\":\"6615\"}},\"id\":\"6572\",\"type\":\"ColumnDataSource\"},{\"attributes\":{\"label\":{\"value\":\"5577\"},\"renderers\":[{\"id\":\"6298\"}]},\"id\":\"6324\",\"type\":\"LegendItem\"},{\"attributes\":{\"fill_alpha\":{\"value\":0.1},\"fill_color\":{\"value\":\"#17becf\"},\"hatch_alpha\":{\"value\":0.1},\"hatch_color\":{\"value\":\"#17becf\"},\"line_alpha\":{\"value\":0.1},\"line_color\":{\"value\":\"#17becf\"},\"size\":{\"value\":5.477225575051661},\"x\":{\"field\":\"EtherValueUSD_M\"},\"y\":{\"field\":\"Ether\"}},\"id\":\"6234\",\"type\":\"Scatter\"},{\"attributes\":{\"coordinates\":null,\"data_source\":{\"id\":\"6526\"},\"glyph\":{\"id\":\"6529\"},\"group\":null,\"hover_glyph\":null,\"muted_glyph\":{\"id\":\"6531\"},\"nonselection_glyph\":{\"id\":\"6530\"},\"selection_glyph\":{\"id\":\"6571\"},\"view\":{\"id\":\"6533\"}},\"id\":\"6532\",\"type\":\"GlyphRenderer\"},{\"attributes\":{},\"id\":\"6255\",\"type\":\"UnionRenderers\"},{\"attributes\":{\"source\":{\"id\":\"6292\"}},\"id\":\"6299\",\"type\":\"CDSView\"},{\"attributes\":{\"fill_color\":{\"value\":\"#8c564b\"},\"hatch_color\":{\"value\":\"#8c564b\"},\"line_color\":{\"value\":\"#8c564b\"},\"size\":{\"value\":5.477225575051661},\"x\":{\"field\":\"EtherValueUSD_M\"},\"y\":{\"field\":\"Ether\"}},\"id\":\"6403\",\"type\":\"Scatter\"},{\"attributes\":{\"data\":{\"Ether\":[1180],\"EtherValueUSD_M\":{\"__ndarray__\":\"pHA9CtejCEA=\",\"dtype\":\"float64\",\"order\":\"little\",\"shape\":[1]},\"Punk\":[7121]},\"selected\":{\"id\":\"6527\"},\"selection_policy\":{\"id\":\"6567\"}},\"id\":\"6526\",\"type\":\"ColumnDataSource\"},{\"attributes\":{\"fill_alpha\":{\"value\":0.1},\"fill_color\":{\"value\":\"#e377c2\"},\"hatch_alpha\":{\"value\":0.1},\"hatch_color\":{\"value\":\"#e377c2\"},\"line_alpha\":{\"value\":0.1},\"line_color\":{\"value\":\"#e377c2\"},\"size\":{\"value\":5.477225575051661},\"x\":{\"field\":\"EtherValueUSD_M\"},\"y\":{\"field\":\"Ether\"}},\"id\":\"6366\",\"type\":\"Scatter\"}],\"root_ids\":[\"6050\"]},\"title\":\"Bokeh Application\",\"version\":\"2.4.1\"}};\n",
       "    var render_items = [{\"docid\":\"89da3633-ef6d-4943-aa77-afd88496d00b\",\"root_ids\":[\"6050\"],\"roots\":{\"6050\":\"7cbe9749-4afa-4b2b-8ea7-07badab7d091\"}}];\n",
       "    root.Bokeh.embed.embed_items_notebook(docs_json, render_items);\n",
       "  }\n",
       "  if (root.Bokeh !== undefined && root.Bokeh.Panel !== undefined) {\n",
       "    embed_document(root);\n",
       "  } else {\n",
       "    var attempts = 0;\n",
       "    var timer = setInterval(function(root) {\n",
       "      if (root.Bokeh !== undefined && root.Bokeh.Panel !== undefined) {\n",
       "        clearInterval(timer);\n",
       "        embed_document(root);\n",
       "      } else if (document.readyState == \"complete\") {\n",
       "        attempts++;\n",
       "        if (attempts > 200) {\n",
       "          clearInterval(timer);\n",
       "          console.log(\"Bokeh: ERROR: Unable to run BokehJS code because BokehJS library is missing\");\n",
       "        }\n",
       "      }\n",
       "    }, 25, root)\n",
       "  }\n",
       "})(window);</script>"
      ],
      "text/plain": [
       ":NdOverlay   [Punk]\n",
       "   :Scatter   [EtherValueUSD_M]   (Ether)"
      ]
     },
     "execution_count": 182,
     "metadata": {
      "application/vnd.holoviews_exec.v0+json": {
       "id": "6050"
      }
     },
     "output_type": "execute_result"
    }
   ],
   "source": [
    "#plot top20 sales by Punk based on Ether\n",
    "top20_sales_df.hvplot.scatter(\n",
    "    x='EtherValueUSD_M', \n",
    "    y='Ether',\n",
    "    xlabel='Ether value in USD Millions',\n",
    "    ylabel='Ether',\n",
    "    rot=90,\n",
    "    label='Top 20 Sales By Ether',\n",
    "    by='Punk',\n",
    "    height= 600,\n",
    "    width = 1000\n",
    ").opts(\n",
    "    bgcolor='lightgray',\n",
    "   #fontsize={'title': 16, 'labels': 14, 'xticks': 6, 'yticks': 12}\n",
    ")"
   ]
  },
  {
   "cell_type": "code",
   "execution_count": 183,
   "id": "216df562-1a2c-434c-b3d0-aefaf70c1490",
   "metadata": {},
   "outputs": [
    {
     "data": {},
     "metadata": {},
     "output_type": "display_data"
    },
    {
     "data": {
      "application/vnd.holoviews_exec.v0+json": "",
      "text/html": [
       "<div id='7478'>\n",
       "\n",
       "\n",
       "\n",
       "\n",
       "\n",
       "  <div class=\"bk-root\" id=\"5a273c2c-f223-49a8-8a11-f4ecd59871cf\" data-root-id=\"7478\"></div>\n",
       "</div>\n",
       "<script type=\"application/javascript\">(function(root) {\n",
       "  function embed_document(root) {\n",
       "    var docs_json = {\"a8f32684-14e8-4a5a-ab8f-bcebfff36528\":{\"defs\":[{\"extends\":null,\"module\":null,\"name\":\"ReactiveHTML1\",\"overrides\":[],\"properties\":[]},{\"extends\":null,\"module\":null,\"name\":\"FlexBox1\",\"overrides\":[],\"properties\":[{\"default\":\"flex-start\",\"kind\":null,\"name\":\"align_content\"},{\"default\":\"flex-start\",\"kind\":null,\"name\":\"align_items\"},{\"default\":\"row\",\"kind\":null,\"name\":\"flex_direction\"},{\"default\":\"wrap\",\"kind\":null,\"name\":\"flex_wrap\"},{\"default\":\"flex-start\",\"kind\":null,\"name\":\"justify_content\"}]},{\"extends\":null,\"module\":null,\"name\":\"TemplateActions1\",\"overrides\":[],\"properties\":[{\"default\":0,\"kind\":null,\"name\":\"open_modal\"},{\"default\":0,\"kind\":null,\"name\":\"close_modal\"}]},{\"extends\":null,\"module\":null,\"name\":\"MaterialTemplateActions1\",\"overrides\":[],\"properties\":[{\"default\":0,\"kind\":null,\"name\":\"open_modal\"},{\"default\":0,\"kind\":null,\"name\":\"close_modal\"}]}],\"roots\":{\"references\":[{\"attributes\":{\"editor\":{\"id\":\"7488\"},\"field\":\"EtherValueUSD_M\",\"formatter\":{\"id\":\"7487\"},\"title\":\"EtherValueUSD_M\"},\"id\":\"7489\",\"type\":\"TableColumn\"},{\"attributes\":{\"children\":[{\"id\":\"7479\"},{\"id\":\"7497\"},{\"id\":\"7504\"}],\"margin\":[0,0,0,0],\"name\":\"Row14616\",\"tags\":[\"embedded\"]},\"id\":\"7478\",\"type\":\"Row\"},{\"attributes\":{},\"id\":\"7488\",\"type\":\"NumberEditor\"},{\"attributes\":{},\"id\":\"7481\",\"type\":\"Selection\"},{\"attributes\":{},\"id\":\"7492\",\"type\":\"StringFormatter\"},{\"attributes\":{\"editor\":{\"id\":\"7493\"},\"field\":\"Date\",\"formatter\":{\"id\":\"7492\"},\"title\":\"Date\"},\"id\":\"7494\",\"type\":\"TableColumn\"},{\"attributes\":{},\"id\":\"7500\",\"type\":\"UnionRenderers\"},{\"attributes\":{\"data\":{\"Date\":[\"02/12/22\",\"03/11/21\",\"03/11/22\",\"02/09/22\",\"12/09/21\",\"07/30/21\",\"09/11/21\",\"07/30/21\",\"08/24/21\",\"08/06/21\",\"09/04/21\",\"01/30/22\",\"04/13/22\",\"09/04/21\",\"08/04/21\",\"01/06/22\",\"08/28/21\",\"07/30/21\",\"07/31/21\",\"02/19/21\"],\"Ether\":[8000,4200,4200,2500,2500,2250,2000,1600,1600,1500,1320,1180,1050,1000,1000,900,888,850,810,800],\"EtherValueUSD_M\":{\"__ndarray__\":\"MzMzMzOzN0BI4XoUrkceQFK4HoXrUR5AzczMzMzMHkCF61G4HoUkQM3MzMzMzBVAhetRuB6FGkAUrkfhehQOQFK4HoXrURVASOF6FK5HEUB7FK5H4XoUQKRwPQrXowhA16NwPQrXCUAfhetRuB4PQHsUrkfhegRAj8L1KFyPCED2KFyPwvUGQKRwPQrXowBArkfhehSu/z+kcD0K16P4Pw==\",\"dtype\":\"float64\",\"order\":\"little\",\"shape\":[20]}},\"selected\":{\"id\":\"7481\"},\"selection_policy\":{\"id\":\"7500\"}},\"id\":\"7480\",\"type\":\"ColumnDataSource\"},{\"attributes\":{\"source\":{\"id\":\"7480\"}},\"id\":\"7499\",\"type\":\"CDSView\"},{\"attributes\":{\"editor\":{\"id\":\"7483\"},\"field\":\"Ether\",\"formatter\":{\"id\":\"7482\"},\"title\":\"Ether\"},\"id\":\"7484\",\"type\":\"TableColumn\"},{\"attributes\":{\"format\":\"0,0.0[00000]\"},\"id\":\"7487\",\"type\":\"NumberFormatter\"},{\"attributes\":{\"margin\":[5,5,5,5],\"name\":\"HSpacer14620\",\"sizing_mode\":\"stretch_width\"},\"id\":\"7479\",\"type\":\"Spacer\"},{\"attributes\":{\"margin\":[5,5,5,5],\"name\":\"HSpacer14621\",\"sizing_mode\":\"stretch_width\"},\"id\":\"7504\",\"type\":\"Spacer\"},{\"attributes\":{},\"id\":\"7482\",\"type\":\"NumberFormatter\"},{\"attributes\":{},\"id\":\"7493\",\"type\":\"StringEditor\"},{\"attributes\":{},\"id\":\"7483\",\"type\":\"IntEditor\"},{\"attributes\":{\"columns\":[{\"id\":\"7484\"},{\"id\":\"7489\"},{\"id\":\"7494\"}],\"height\":600,\"reorderable\":false,\"source\":{\"id\":\"7480\"},\"view\":{\"id\":\"7499\"},\"width\":1000},\"id\":\"7497\",\"type\":\"DataTable\"}],\"root_ids\":[\"7478\"]},\"title\":\"Bokeh Application\",\"version\":\"2.4.1\"}};\n",
       "    var render_items = [{\"docid\":\"a8f32684-14e8-4a5a-ab8f-bcebfff36528\",\"root_ids\":[\"7478\"],\"roots\":{\"7478\":\"5a273c2c-f223-49a8-8a11-f4ecd59871cf\"}}];\n",
       "    root.Bokeh.embed.embed_items_notebook(docs_json, render_items);\n",
       "  }\n",
       "  if (root.Bokeh !== undefined && root.Bokeh.Panel !== undefined) {\n",
       "    embed_document(root);\n",
       "  } else {\n",
       "    var attempts = 0;\n",
       "    var timer = setInterval(function(root) {\n",
       "      if (root.Bokeh !== undefined && root.Bokeh.Panel !== undefined) {\n",
       "        clearInterval(timer);\n",
       "        embed_document(root);\n",
       "      } else if (document.readyState == \"complete\") {\n",
       "        attempts++;\n",
       "        if (attempts > 200) {\n",
       "          clearInterval(timer);\n",
       "          console.log(\"Bokeh: ERROR: Unable to run BokehJS code because BokehJS library is missing\");\n",
       "        }\n",
       "      }\n",
       "    }, 25, root)\n",
       "  }\n",
       "})(window);</script>"
      ],
      "text/plain": [
       ":Table   [Ether,EtherValueUSD_M,Date]"
      ]
     },
     "execution_count": 183,
     "metadata": {
      "application/vnd.holoviews_exec.v0+json": {
       "id": "7478"
      }
     },
     "output_type": "execute_result"
    }
   ],
   "source": [
    "#plot top20 sales by Punk based on Ether\n",
    "top20_sales_df.hvplot.table(\n",
    "    x='EtherValueUSD_M', \n",
    "    y='Ether',\n",
    "    xlabel='Ether value in USD Millions',\n",
    "    ylabel='Ether',\n",
    "    rot=90,\n",
    "    label='Top 20 Sales By Ether',\n",
    "    by='Punk',\n",
    "    height= 600,\n",
    "    width = 1000\n",
    ").opts(\n",
    "    bgcolor='lightgray',\n",
    "   #fontsize={'title': 16, 'labels': 14, 'xticks': 6, 'yticks': 12}\n",
    ")"
   ]
  },
  {
   "cell_type": "code",
   "execution_count": 179,
   "id": "0ca19d6c-5817-456d-a57c-b25d3149ff2b",
   "metadata": {},
   "outputs": [
    {
     "data": {
      "text/plain": [
       "10000"
      ]
     },
     "execution_count": 179,
     "metadata": {},
     "output_type": "execute_result"
    }
   ],
   "source": [
    "#validate dataframe total owned is 10,000\n",
    "cryptopunk_total_assets = cryptopunk_owners_df['Number Owned'].sum()\n",
    "cryptopunk_total_assets"
   ]
  },
  {
   "cell_type": "code",
   "execution_count": 180,
   "id": "8ed13bb2-00e7-42ef-b6d8-7cec828367fc",
   "metadata": {},
   "outputs": [
    {
     "data": {
      "text/plain": [
       "2.914602156805596"
      ]
     },
     "execution_count": 180,
     "metadata": {},
     "output_type": "execute_result"
    }
   ],
   "source": [
    "#find mean number of NFTs owned per owner\n",
    "cryptopunk_owners_mean = cryptopunk_owners_df['Number Owned'].mean()\n",
    "cryptopunk_owners_mean"
   ]
  },
  {
   "cell_type": "code",
   "execution_count": 87,
   "id": "6649b207-bdee-48ba-a9d8-1b3e1e192575",
   "metadata": {},
   "outputs": [
    {
     "data": {
      "text/html": [
       "<div>\n",
       "<style scoped>\n",
       "    .dataframe tbody tr th:only-of-type {\n",
       "        vertical-align: middle;\n",
       "    }\n",
       "\n",
       "    .dataframe tbody tr th {\n",
       "        vertical-align: top;\n",
       "    }\n",
       "\n",
       "    .dataframe thead th {\n",
       "        text-align: right;\n",
       "    }\n",
       "</style>\n",
       "<table border=\"1\" class=\"dataframe\">\n",
       "  <thead>\n",
       "    <tr style=\"text-align: right;\">\n",
       "      <th></th>\n",
       "      <th>Account</th>\n",
       "      <th>OpenSea / ENS</th>\n",
       "      <th>Number Owned</th>\n",
       "      <th>last Active</th>\n",
       "    </tr>\n",
       "    <tr>\n",
       "      <th>#</th>\n",
       "      <th></th>\n",
       "      <th></th>\n",
       "      <th></th>\n",
       "      <th></th>\n",
       "    </tr>\n",
       "  </thead>\n",
       "  <tbody>\n",
       "    <tr>\n",
       "      <th>1</th>\n",
       "      <td>0xb7f7f6c52f2e2</td>\n",
       "      <td>WrappedCryptoPu</td>\n",
       "      <td>428</td>\n",
       "      <td>7 hours ago</td>\n",
       "    </tr>\n",
       "    <tr>\n",
       "      <th>2</th>\n",
       "      <td>0xa858ddc0445d8</td>\n",
       "      <td>NaN</td>\n",
       "      <td>423</td>\n",
       "      <td>1 month ago</td>\n",
       "    </tr>\n",
       "    <tr>\n",
       "      <th>3</th>\n",
       "      <td>0xa25803ab86a32</td>\n",
       "      <td>wilcox.eth</td>\n",
       "      <td>238</td>\n",
       "      <td>28 days ago</td>\n",
       "    </tr>\n",
       "    <tr>\n",
       "      <th>4</th>\n",
       "      <td>0xb88f61e6fbda8</td>\n",
       "      <td>NaN</td>\n",
       "      <td>215</td>\n",
       "      <td>11 months ago</td>\n",
       "    </tr>\n",
       "    <tr>\n",
       "      <th>5</th>\n",
       "      <td>0x577ebc5de943e</td>\n",
       "      <td>NaN</td>\n",
       "      <td>165</td>\n",
       "      <td>5 days ago</td>\n",
       "    </tr>\n",
       "    <tr>\n",
       "      <th>6</th>\n",
       "      <td>0x69021ae876958</td>\n",
       "      <td>sov.eth</td>\n",
       "      <td>146</td>\n",
       "      <td>6 months ago</td>\n",
       "    </tr>\n",
       "    <tr>\n",
       "      <th>7</th>\n",
       "      <td>0x26f744711ee9e</td>\n",
       "      <td>NaN</td>\n",
       "      <td>141</td>\n",
       "      <td>4 years ago</td>\n",
       "    </tr>\n",
       "    <tr>\n",
       "      <th>8</th>\n",
       "      <td>0x4084df8bf74ba</td>\n",
       "      <td>NaN</td>\n",
       "      <td>98</td>\n",
       "      <td>NaN</td>\n",
       "    </tr>\n",
       "    <tr>\n",
       "      <th>9</th>\n",
       "      <td>0x269616d549d7e</td>\n",
       "      <td>NaN</td>\n",
       "      <td>96</td>\n",
       "      <td>9 days ago</td>\n",
       "    </tr>\n",
       "    <tr>\n",
       "      <th>10</th>\n",
       "      <td>0x31a5ff62a1b2c</td>\n",
       "      <td>NaN</td>\n",
       "      <td>93</td>\n",
       "      <td>1 month ago</td>\n",
       "    </tr>\n",
       "    <tr>\n",
       "      <th>11</th>\n",
       "      <td>0x7174039818a41</td>\n",
       "      <td>NaN</td>\n",
       "      <td>89</td>\n",
       "      <td>3 years ago</td>\n",
       "    </tr>\n",
       "    <tr>\n",
       "      <th>12</th>\n",
       "      <td>0xcc7c335f3365a</td>\n",
       "      <td>NaN</td>\n",
       "      <td>87</td>\n",
       "      <td>13 days ago</td>\n",
       "    </tr>\n",
       "    <tr>\n",
       "      <th>13</th>\n",
       "      <td>0x51688cd36c188</td>\n",
       "      <td>NaN</td>\n",
       "      <td>79</td>\n",
       "      <td>6 days ago</td>\n",
       "    </tr>\n",
       "    <tr>\n",
       "      <th>14</th>\n",
       "      <td>0x810fdbc7e5cfe</td>\n",
       "      <td>NaN</td>\n",
       "      <td>77</td>\n",
       "      <td>13 hours ago</td>\n",
       "    </tr>\n",
       "    <tr>\n",
       "      <th>15</th>\n",
       "      <td>0xf5a4ba515dd36</td>\n",
       "      <td>NaN</td>\n",
       "      <td>75</td>\n",
       "      <td>1 month ago</td>\n",
       "    </tr>\n",
       "    <tr>\n",
       "      <th>16</th>\n",
       "      <td>0xcffc336e6d019</td>\n",
       "      <td>NaN</td>\n",
       "      <td>74</td>\n",
       "      <td>2 months ago</td>\n",
       "    </tr>\n",
       "    <tr>\n",
       "      <th>17</th>\n",
       "      <td>0x6f4a2d3a4f47f</td>\n",
       "      <td>NaN</td>\n",
       "      <td>70</td>\n",
       "      <td>9 days ago</td>\n",
       "    </tr>\n",
       "    <tr>\n",
       "      <th>18</th>\n",
       "      <td>0x062c5432107e3</td>\n",
       "      <td>NaN</td>\n",
       "      <td>68</td>\n",
       "      <td>3 months ago</td>\n",
       "    </tr>\n",
       "    <tr>\n",
       "      <th>19</th>\n",
       "      <td>0x7760e0243ca9b</td>\n",
       "      <td>NaN</td>\n",
       "      <td>66</td>\n",
       "      <td>3 years ago</td>\n",
       "    </tr>\n",
       "    <tr>\n",
       "      <th>20</th>\n",
       "      <td>0xdde8df9a7dc9f</td>\n",
       "      <td>Kenney</td>\n",
       "      <td>66</td>\n",
       "      <td>2 months ago</td>\n",
       "    </tr>\n",
       "  </tbody>\n",
       "</table>\n",
       "</div>"
      ],
      "text/plain": [
       "            Account    OpenSea / ENS  Number Owned    last Active\n",
       "#                                                                \n",
       "1   0xb7f7f6c52f2e2  WrappedCryptoPu           428    7 hours ago\n",
       "2   0xa858ddc0445d8              NaN           423    1 month ago\n",
       "3   0xa25803ab86a32       wilcox.eth           238    28 days ago\n",
       "4   0xb88f61e6fbda8              NaN           215  11 months ago\n",
       "5   0x577ebc5de943e              NaN           165     5 days ago\n",
       "6   0x69021ae876958          sov.eth           146   6 months ago\n",
       "7   0x26f744711ee9e              NaN           141    4 years ago\n",
       "8   0x4084df8bf74ba              NaN            98            NaN\n",
       "9   0x269616d549d7e              NaN            96     9 days ago\n",
       "10  0x31a5ff62a1b2c              NaN            93    1 month ago\n",
       "11  0x7174039818a41              NaN            89    3 years ago\n",
       "12  0xcc7c335f3365a              NaN            87    13 days ago\n",
       "13  0x51688cd36c188              NaN            79     6 days ago\n",
       "14  0x810fdbc7e5cfe              NaN            77   13 hours ago\n",
       "15  0xf5a4ba515dd36              NaN            75    1 month ago\n",
       "16  0xcffc336e6d019              NaN            74   2 months ago\n",
       "17  0x6f4a2d3a4f47f              NaN            70     9 days ago\n",
       "18  0x062c5432107e3              NaN            68   3 months ago\n",
       "19  0x7760e0243ca9b              NaN            66    3 years ago\n",
       "20  0xdde8df9a7dc9f           Kenney            66   2 months ago"
      ]
     },
     "execution_count": 87,
     "metadata": {},
     "output_type": "execute_result"
    }
   ],
   "source": [
    "#top20 asset owners\n",
    "top20_cryptopunk_owners = cryptopunk_owners_df.head(20)\n",
    "top20_cryptopunk_owners"
   ]
  },
  {
   "cell_type": "markdown",
   "id": "e20dc464-c7e8-4c98-b1ad-8e301ca7187c",
   "metadata": {},
   "source": [
    "### Top 20 Owners"
   ]
  },
  {
   "cell_type": "code",
   "execution_count": 88,
   "id": "17f6043f-0c7e-4425-8e07-d87254ed79af",
   "metadata": {},
   "outputs": [
    {
     "name": "stdout",
     "output_type": "stream",
     "text": [
      "The Top 20 owners own 2794 NFTs, which is 27.94% of total assets.\n"
     ]
    }
   ],
   "source": [
    "#total amount of assets owned by the top20 owners\n",
    "top20_owners_assets = cryptopunk_owners_df['Number Owned'].head(20).sum()\n",
    "perc_top20_owners_assets = top20_owners_assets /cryptopunk_total_assets *100\n",
    "print(f\"The Top 20 owners own {top20_owners_assets} NFTs, which is {perc_top20_owners_assets:.2f}% of total assets.\")"
   ]
  },
  {
   "cell_type": "markdown",
   "id": "faa36f5c-740d-498b-98e8-3ae865ffc364",
   "metadata": {},
   "source": [
    "### over 25% of all assets are owned by top 20 owners\n",
    "---"
   ]
  },
  {
   "cell_type": "markdown",
   "id": "c082cee7-4eb4-48a2-8372-53ef69e17f3e",
   "metadata": {},
   "source": [
    "### Top 100 Owners"
   ]
  },
  {
   "cell_type": "code",
   "execution_count": 89,
   "id": "0a8e01f6-1440-429b-9134-8a3cdece9f86",
   "metadata": {},
   "outputs": [
    {
     "name": "stdout",
     "output_type": "stream",
     "text": [
      "The Top 100 owners own 4705 NFTs, which is 47.05% of total assets.\n"
     ]
    }
   ],
   "source": [
    "#total amount of assets owned by the top100 owners\n",
    "top100_owners_assets = cryptopunk_owners_df['Number Owned'].head(100).sum()\n",
    "perc_top100_owners_assets = top100_owners_assets /cryptopunk_total_assets *100\n",
    "print(f\"The Top 100 owners own {top100_owners_assets} NFTs, which is {perc_top100_owners_assets:.2f}% of total assets.\")"
   ]
  },
  {
   "cell_type": "markdown",
   "id": "35526247-8482-4788-bf85-f6674b5d9563",
   "metadata": {},
   "source": [
    "---"
   ]
  },
  {
   "cell_type": "markdown",
   "id": "432d6a34-5d2a-407c-9642-8fc68ef10baa",
   "metadata": {},
   "source": [
    "### Bottom 20 Owners"
   ]
  },
  {
   "cell_type": "code",
   "execution_count": 90,
   "id": "bf2a5ea5-2bc2-4964-8b33-16bfff03e4b7",
   "metadata": {},
   "outputs": [
    {
     "name": "stdout",
     "output_type": "stream",
     "text": [
      "The Bottom 20 owners own 20 NFTs, which is 0.20% of total assets.\n"
     ]
    }
   ],
   "source": [
    "#total amount of assets owned by the top20 owners\n",
    "bot20_owners_assets = cryptopunk_owners_df['Number Owned'].tail(20).sum()\n",
    "perc_bot20_owners_assets = bot20_owners_assets /cryptopunk_total_assets *100\n",
    "print(f\"The Bottom 20 owners own {bot20_owners_assets} NFTs, which is {perc_bot20_owners_assets:.2f}% of total assets.\")"
   ]
  },
  {
   "cell_type": "markdown",
   "id": "4ebfa75c-7509-424f-a401-74d397a53a6c",
   "metadata": {},
   "source": [
    "***"
   ]
  },
  {
   "cell_type": "code",
   "execution_count": null,
   "id": "f86fc2f3-8d5c-4859-94c5-2fa714513447",
   "metadata": {},
   "outputs": [],
   "source": []
  }
 ],
 "metadata": {
  "kernelspec": {
   "display_name": "Python 3 (ipykernel)",
   "language": "python",
   "name": "python3"
  },
  "language_info": {
   "codemirror_mode": {
    "name": "ipython",
    "version": 3
   },
   "file_extension": ".py",
   "mimetype": "text/x-python",
   "name": "python",
   "nbconvert_exporter": "python",
   "pygments_lexer": "ipython3",
   "version": "3.7.11"
  }
 },
 "nbformat": 4,
 "nbformat_minor": 5
}
